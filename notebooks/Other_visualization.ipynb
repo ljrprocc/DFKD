{
 "cells": [
  {
   "cell_type": "code",
   "execution_count": 1,
   "id": "634f45ac",
   "metadata": {},
   "outputs": [],
   "source": [
    "import torch\n",
    "import numpy as np\n",
    "from scipy.spatial import distance\n",
    "import os\n",
    "\n",
    "import sys\n",
    "sys.path.append('..')\n",
    "import registry\n",
    "import datafree\n",
    "%matplotlib inline\n",
    "%config InlineBackend.figure_format = 'pdf'"
   ]
  },
  {
   "cell_type": "code",
   "execution_count": 2,
   "id": "ca31aa4c",
   "metadata": {
    "scrolled": true
   },
   "outputs": [
    {
     "name": "stdout",
     "output_type": "stream",
     "text": [
      "Wed Aug 31 08:33:53 2022       \n",
      "+-----------------------------------------------------------------------------+\n",
      "| NVIDIA-SMI 510.60.02    Driver Version: 510.60.02    CUDA Version: 11.6     |\n",
      "|-------------------------------+----------------------+----------------------+\n",
      "| GPU  Name        Persistence-M| Bus-Id        Disp.A | Volatile Uncorr. ECC |\n",
      "| Fan  Temp  Perf  Pwr:Usage/Cap|         Memory-Usage | GPU-Util  Compute M. |\n",
      "|                               |                      |               MIG M. |\n",
      "|===============================+======================+======================|\n",
      "|   0  NVIDIA GeForce ...  Off  | 00000000:05:00.0 Off |                  N/A |\n",
      "| 30%   24C    P8     5W / 350W |      2MiB / 24576MiB |      0%      Default |\n",
      "|                               |                      |                  N/A |\n",
      "+-------------------------------+----------------------+----------------------+\n",
      "|   1  NVIDIA GeForce ...  Off  | 00000000:09:00.0 Off |                  N/A |\n",
      "| 72%   65C    P2   307W / 350W |  23185MiB / 24576MiB |     99%      Default |\n",
      "|                               |                      |                  N/A |\n",
      "+-------------------------------+----------------------+----------------------+\n",
      "|   2  NVIDIA GeForce ...  Off  | 00000000:0A:00.0 Off |                  N/A |\n",
      "| 97%   71C    P2   334W / 350W |  21695MiB / 24576MiB |    100%      Default |\n",
      "|                               |                      |                  N/A |\n",
      "+-------------------------------+----------------------+----------------------+\n",
      "|   3  NVIDIA GeForce ...  Off  | 00000000:82:00.0 Off |                  N/A |\n",
      "| 72%   68C    P2   314W / 350W |  24179MiB / 24576MiB |     94%      Default |\n",
      "|                               |                      |                  N/A |\n",
      "+-------------------------------+----------------------+----------------------+\n",
      "|   4  NVIDIA GeForce ...  Off  | 00000000:85:00.0 Off |                  N/A |\n",
      "| 30%   26C    P8    10W / 350W |      2MiB / 24576MiB |      0%      Default |\n",
      "|                               |                      |                  N/A |\n",
      "+-------------------------------+----------------------+----------------------+\n",
      "|   5  NVIDIA GeForce ...  Off  | 00000000:89:00.0 Off |                  N/A |\n",
      "| 78%   68C    P2   330W / 350W |  23163MiB / 24576MiB |    100%      Default |\n",
      "|                               |                      |                  N/A |\n",
      "+-------------------------------+----------------------+----------------------+\n",
      "                                                                               \n",
      "+-----------------------------------------------------------------------------+\n",
      "| Processes:                                                                  |\n",
      "|  GPU   GI   CI        PID   Type   Process name                  GPU Memory |\n",
      "|        ID   ID                                                   Usage      |\n",
      "|=============================================================================|\n",
      "|    1   N/A  N/A     39158      C   python                          23183MiB |\n",
      "|    2   N/A  N/A      5097      C   python                          21693MiB |\n",
      "|    3   N/A  N/A     13147      C   python                          24177MiB |\n",
      "|    5   N/A  N/A     40169      C   python                          23161MiB |\n",
      "+-----------------------------------------------------------------------------+\n"
     ]
    }
   ],
   "source": [
    "!nvidia-smi"
   ]
  },
  {
   "cell_type": "code",
   "execution_count": 5,
   "id": "aee8b104",
   "metadata": {},
   "outputs": [],
   "source": [
    "distributed = False\n",
    "gpu = 4\n",
    "# gpu ='0,1'\n",
    "batch_size = 128\n",
    "workers = 8\n",
    "num_classes = 10\n",
    "# num_classes = 100\n",
    "# num_classes = 200\n",
    "def prepare_model(model):\n",
    "    if not torch.cuda.is_available():\n",
    "        print('using CPU, this will be slow')\n",
    "        return model\n",
    "    elif distributed:\n",
    "        # For multiprocessing distributed, DistributedDataParallel constructor\n",
    "        # should always set the single device scope, otherwise,\n",
    "        # DistributedDataParallel will use all available devices.\n",
    "        if gpu is not None:\n",
    "#             torch.cuda.set_device(gpu)\n",
    "            model.cuda()\n",
    "            # When using a single GPU per process and per\n",
    "            # DistributedDataParallel, we need to divide the batch size\n",
    "            # ourselves based on the total number of GPUs we have\n",
    "            batch_size = int(batch_size / 1)\n",
    "            workers = int((workers + 1 - 1) / 1)\n",
    "            model = torch.nn.parallel.DistributedDataParallel(model, device_ids=[int(x) for x in gpu.split(',')])\n",
    "            return model\n",
    "        else:\n",
    "            model.cuda()\n",
    "            model = torch.nn.parallel.DistributedDataParallel(model)\n",
    "            return model\n",
    "    elif gpu is not None:\n",
    "        torch.cuda.set_device(gpu)\n",
    "        model = model.cuda(gpu)\n",
    "        return model\n",
    "    else:\n",
    "        # DataParallel will divide and allocate batch_size to all available GPUs\n",
    "        model = torch.nn.DataParallel(model).cuda()\n",
    "        return model"
   ]
  },
  {
   "cell_type": "code",
   "execution_count": 6,
   "id": "4f45bc13",
   "metadata": {},
   "outputs": [
    {
     "data": {
      "text/plain": [
       "ResNet(\n",
       "  (conv1): Conv2d(3, 64, kernel_size=(3, 3), stride=(1, 1), padding=(1, 1), bias=False)\n",
       "  (bn1): BatchNorm2d(64, eps=1e-05, momentum=0.1, affine=True, track_running_stats=True)\n",
       "  (layer1): Sequential(\n",
       "    (0): BasicBlock(\n",
       "      (conv1): Conv2d(64, 64, kernel_size=(3, 3), stride=(1, 1), padding=(1, 1), bias=False)\n",
       "      (bn1): BatchNorm2d(64, eps=1e-05, momentum=0.1, affine=True, track_running_stats=True)\n",
       "      (conv2): Conv2d(64, 64, kernel_size=(3, 3), stride=(1, 1), padding=(1, 1), bias=False)\n",
       "      (bn2): BatchNorm2d(64, eps=1e-05, momentum=0.1, affine=True, track_running_stats=True)\n",
       "      (shortcut): Sequential()\n",
       "    )\n",
       "    (1): BasicBlock(\n",
       "      (conv1): Conv2d(64, 64, kernel_size=(3, 3), stride=(1, 1), padding=(1, 1), bias=False)\n",
       "      (bn1): BatchNorm2d(64, eps=1e-05, momentum=0.1, affine=True, track_running_stats=True)\n",
       "      (conv2): Conv2d(64, 64, kernel_size=(3, 3), stride=(1, 1), padding=(1, 1), bias=False)\n",
       "      (bn2): BatchNorm2d(64, eps=1e-05, momentum=0.1, affine=True, track_running_stats=True)\n",
       "      (shortcut): Sequential()\n",
       "    )\n",
       "    (2): BasicBlock(\n",
       "      (conv1): Conv2d(64, 64, kernel_size=(3, 3), stride=(1, 1), padding=(1, 1), bias=False)\n",
       "      (bn1): BatchNorm2d(64, eps=1e-05, momentum=0.1, affine=True, track_running_stats=True)\n",
       "      (conv2): Conv2d(64, 64, kernel_size=(3, 3), stride=(1, 1), padding=(1, 1), bias=False)\n",
       "      (bn2): BatchNorm2d(64, eps=1e-05, momentum=0.1, affine=True, track_running_stats=True)\n",
       "      (shortcut): Sequential()\n",
       "    )\n",
       "  )\n",
       "  (layer2): Sequential(\n",
       "    (0): BasicBlock(\n",
       "      (conv1): Conv2d(64, 128, kernel_size=(3, 3), stride=(2, 2), padding=(1, 1), bias=False)\n",
       "      (bn1): BatchNorm2d(128, eps=1e-05, momentum=0.1, affine=True, track_running_stats=True)\n",
       "      (conv2): Conv2d(128, 128, kernel_size=(3, 3), stride=(1, 1), padding=(1, 1), bias=False)\n",
       "      (bn2): BatchNorm2d(128, eps=1e-05, momentum=0.1, affine=True, track_running_stats=True)\n",
       "      (shortcut): Sequential(\n",
       "        (0): Conv2d(64, 128, kernel_size=(1, 1), stride=(2, 2), bias=False)\n",
       "        (1): BatchNorm2d(128, eps=1e-05, momentum=0.1, affine=True, track_running_stats=True)\n",
       "      )\n",
       "    )\n",
       "    (1): BasicBlock(\n",
       "      (conv1): Conv2d(128, 128, kernel_size=(3, 3), stride=(1, 1), padding=(1, 1), bias=False)\n",
       "      (bn1): BatchNorm2d(128, eps=1e-05, momentum=0.1, affine=True, track_running_stats=True)\n",
       "      (conv2): Conv2d(128, 128, kernel_size=(3, 3), stride=(1, 1), padding=(1, 1), bias=False)\n",
       "      (bn2): BatchNorm2d(128, eps=1e-05, momentum=0.1, affine=True, track_running_stats=True)\n",
       "      (shortcut): Sequential()\n",
       "    )\n",
       "    (2): BasicBlock(\n",
       "      (conv1): Conv2d(128, 128, kernel_size=(3, 3), stride=(1, 1), padding=(1, 1), bias=False)\n",
       "      (bn1): BatchNorm2d(128, eps=1e-05, momentum=0.1, affine=True, track_running_stats=True)\n",
       "      (conv2): Conv2d(128, 128, kernel_size=(3, 3), stride=(1, 1), padding=(1, 1), bias=False)\n",
       "      (bn2): BatchNorm2d(128, eps=1e-05, momentum=0.1, affine=True, track_running_stats=True)\n",
       "      (shortcut): Sequential()\n",
       "    )\n",
       "    (3): BasicBlock(\n",
       "      (conv1): Conv2d(128, 128, kernel_size=(3, 3), stride=(1, 1), padding=(1, 1), bias=False)\n",
       "      (bn1): BatchNorm2d(128, eps=1e-05, momentum=0.1, affine=True, track_running_stats=True)\n",
       "      (conv2): Conv2d(128, 128, kernel_size=(3, 3), stride=(1, 1), padding=(1, 1), bias=False)\n",
       "      (bn2): BatchNorm2d(128, eps=1e-05, momentum=0.1, affine=True, track_running_stats=True)\n",
       "      (shortcut): Sequential()\n",
       "    )\n",
       "  )\n",
       "  (layer3): Sequential(\n",
       "    (0): BasicBlock(\n",
       "      (conv1): Conv2d(128, 256, kernel_size=(3, 3), stride=(2, 2), padding=(1, 1), bias=False)\n",
       "      (bn1): BatchNorm2d(256, eps=1e-05, momentum=0.1, affine=True, track_running_stats=True)\n",
       "      (conv2): Conv2d(256, 256, kernel_size=(3, 3), stride=(1, 1), padding=(1, 1), bias=False)\n",
       "      (bn2): BatchNorm2d(256, eps=1e-05, momentum=0.1, affine=True, track_running_stats=True)\n",
       "      (shortcut): Sequential(\n",
       "        (0): Conv2d(128, 256, kernel_size=(1, 1), stride=(2, 2), bias=False)\n",
       "        (1): BatchNorm2d(256, eps=1e-05, momentum=0.1, affine=True, track_running_stats=True)\n",
       "      )\n",
       "    )\n",
       "    (1): BasicBlock(\n",
       "      (conv1): Conv2d(256, 256, kernel_size=(3, 3), stride=(1, 1), padding=(1, 1), bias=False)\n",
       "      (bn1): BatchNorm2d(256, eps=1e-05, momentum=0.1, affine=True, track_running_stats=True)\n",
       "      (conv2): Conv2d(256, 256, kernel_size=(3, 3), stride=(1, 1), padding=(1, 1), bias=False)\n",
       "      (bn2): BatchNorm2d(256, eps=1e-05, momentum=0.1, affine=True, track_running_stats=True)\n",
       "      (shortcut): Sequential()\n",
       "    )\n",
       "    (2): BasicBlock(\n",
       "      (conv1): Conv2d(256, 256, kernel_size=(3, 3), stride=(1, 1), padding=(1, 1), bias=False)\n",
       "      (bn1): BatchNorm2d(256, eps=1e-05, momentum=0.1, affine=True, track_running_stats=True)\n",
       "      (conv2): Conv2d(256, 256, kernel_size=(3, 3), stride=(1, 1), padding=(1, 1), bias=False)\n",
       "      (bn2): BatchNorm2d(256, eps=1e-05, momentum=0.1, affine=True, track_running_stats=True)\n",
       "      (shortcut): Sequential()\n",
       "    )\n",
       "    (3): BasicBlock(\n",
       "      (conv1): Conv2d(256, 256, kernel_size=(3, 3), stride=(1, 1), padding=(1, 1), bias=False)\n",
       "      (bn1): BatchNorm2d(256, eps=1e-05, momentum=0.1, affine=True, track_running_stats=True)\n",
       "      (conv2): Conv2d(256, 256, kernel_size=(3, 3), stride=(1, 1), padding=(1, 1), bias=False)\n",
       "      (bn2): BatchNorm2d(256, eps=1e-05, momentum=0.1, affine=True, track_running_stats=True)\n",
       "      (shortcut): Sequential()\n",
       "    )\n",
       "    (4): BasicBlock(\n",
       "      (conv1): Conv2d(256, 256, kernel_size=(3, 3), stride=(1, 1), padding=(1, 1), bias=False)\n",
       "      (bn1): BatchNorm2d(256, eps=1e-05, momentum=0.1, affine=True, track_running_stats=True)\n",
       "      (conv2): Conv2d(256, 256, kernel_size=(3, 3), stride=(1, 1), padding=(1, 1), bias=False)\n",
       "      (bn2): BatchNorm2d(256, eps=1e-05, momentum=0.1, affine=True, track_running_stats=True)\n",
       "      (shortcut): Sequential()\n",
       "    )\n",
       "    (5): BasicBlock(\n",
       "      (conv1): Conv2d(256, 256, kernel_size=(3, 3), stride=(1, 1), padding=(1, 1), bias=False)\n",
       "      (bn1): BatchNorm2d(256, eps=1e-05, momentum=0.1, affine=True, track_running_stats=True)\n",
       "      (conv2): Conv2d(256, 256, kernel_size=(3, 3), stride=(1, 1), padding=(1, 1), bias=False)\n",
       "      (bn2): BatchNorm2d(256, eps=1e-05, momentum=0.1, affine=True, track_running_stats=True)\n",
       "      (shortcut): Sequential()\n",
       "    )\n",
       "  )\n",
       "  (layer4): Sequential(\n",
       "    (0): BasicBlock(\n",
       "      (conv1): Conv2d(256, 512, kernel_size=(3, 3), stride=(2, 2), padding=(1, 1), bias=False)\n",
       "      (bn1): BatchNorm2d(512, eps=1e-05, momentum=0.1, affine=True, track_running_stats=True)\n",
       "      (conv2): Conv2d(512, 512, kernel_size=(3, 3), stride=(1, 1), padding=(1, 1), bias=False)\n",
       "      (bn2): BatchNorm2d(512, eps=1e-05, momentum=0.1, affine=True, track_running_stats=True)\n",
       "      (shortcut): Sequential(\n",
       "        (0): Conv2d(256, 512, kernel_size=(1, 1), stride=(2, 2), bias=False)\n",
       "        (1): BatchNorm2d(512, eps=1e-05, momentum=0.1, affine=True, track_running_stats=True)\n",
       "      )\n",
       "    )\n",
       "    (1): BasicBlock(\n",
       "      (conv1): Conv2d(512, 512, kernel_size=(3, 3), stride=(1, 1), padding=(1, 1), bias=False)\n",
       "      (bn1): BatchNorm2d(512, eps=1e-05, momentum=0.1, affine=True, track_running_stats=True)\n",
       "      (conv2): Conv2d(512, 512, kernel_size=(3, 3), stride=(1, 1), padding=(1, 1), bias=False)\n",
       "      (bn2): BatchNorm2d(512, eps=1e-05, momentum=0.1, affine=True, track_running_stats=True)\n",
       "      (shortcut): Sequential()\n",
       "    )\n",
       "    (2): BasicBlock(\n",
       "      (conv1): Conv2d(512, 512, kernel_size=(3, 3), stride=(1, 1), padding=(1, 1), bias=False)\n",
       "      (bn1): BatchNorm2d(512, eps=1e-05, momentum=0.1, affine=True, track_running_stats=True)\n",
       "      (conv2): Conv2d(512, 512, kernel_size=(3, 3), stride=(1, 1), padding=(1, 1), bias=False)\n",
       "      (bn2): BatchNorm2d(512, eps=1e-05, momentum=0.1, affine=True, track_running_stats=True)\n",
       "      (shortcut): Sequential()\n",
       "    )\n",
       "  )\n",
       "  (linear): Linear(in_features=512, out_features=10, bias=True)\n",
       ")"
      ]
     },
     "execution_count": 6,
     "metadata": {},
     "output_type": "execute_result"
    }
   ],
   "source": [
    "from torchvision.datasets import CIFAR10,CIFAR100\n",
    "import datafree\n",
    "import registry\n",
    "from torch import nn\n",
    "student = registry.get_model('resnet18', num_classes=num_classes)\n",
    "teacher = registry.get_model('resnet34', num_classes=num_classes, pretrained=True).eval()\n",
    "# student = registry.get_model('wrn40_1', num_classes=num_classes)\n",
    "# student= registry.get_model('wrn16_2', num_classes=num_classes)\n",
    "# teacher = registry.get_model('wrn40_2', num_classes=num_classes)\n",
    "# normalizer = datafree.utils.Normalizer(**registry.NORMALIZE_DICT['tiny_imagenet'])\n",
    "# normalizer = datafree.utils.Normalizer(**registry.NORMALIZE_DICT['cifar10'])\n",
    "normalizer = datafree.utils.Normalizer(**registry.NORMALIZE_DICT['cifar100'])\n",
    "student = prepare_model(student)\n",
    "\n",
    "# teacher = teacher.to(gpu)\n",
    "# teacher.avgpool = nn.AdaptiveAvgPool2d(1)\n",
    "# num_ftrs = teacher.fc.in_features\n",
    "# teacher.fc = nn.Linear(num_ftrs, 200)\n",
    "# teacher.conv1 = nn.Conv2d(3,64, kernel_size=(3,3), stride=(1,1), padding=(1,1))\n",
    "# teacher.maxpool = nn.Sequential()\n",
    "teacher = prepare_model(teacher)\n",
    "# ckpt = torch.load('../checkpoints/scratch/tiny_imagenet_resnet34_imagenet.pth', map_location='cpu')\n",
    "# dict_ckpt = dict()\n",
    "# for k, v in ckpt['state_dict'].items():\n",
    "#     dict_ckpt['.'.join(k.split('.')[1:])] = v\n",
    "# teacher.load_state_dict(dict_ckpt)\n",
    "\n",
    "teacher.load_state_dict(torch.load('../checkpoints/scratch/cifar10_resnet34.pth', map_location='cpu')['state_dict'])\n",
    "# teacher.load_state_dict(torch.load('../checkpoints/scratch/cifar10_wrn40_2.pth', map_location='cpu')['state_dict'])\n",
    "# teacher.load_state_dict(torch.load('../checkpoints/scratch/cifar100_wrn40_2.pth', map_location='cpu')['state_dict'])\n",
    "# print(ckpt['best_acc1'])\n",
    "# teacher.load_state_dict(torch.load('../checkpoints/scratch/cifar100_resnet34.pth', map_location='cpu')['state_dict'])\n",
    "teacher.eval()\n"
   ]
  },
  {
   "cell_type": "code",
   "execution_count": 7,
   "id": "bea63e4c",
   "metadata": {},
   "outputs": [
    {
     "name": "stdout",
     "output_type": "stream",
     "text": [
      "cifar10-resnet34-resnet18--dafl_interval_a2.pth\r\n",
      "cifar10-vgg11-resnet18--dafl_interval_2.pth\r\n",
      "log-cifar10-resnet34-resnet18-dafl_interval_a2.txt\r\n",
      "log-cifar10-vgg11-resnet18-dafl_interval_2.txt\r\n",
      "synthetic-dafl_interval_2.png\r\n",
      "synthetic-dafl_interval_a2.png\r\n"
     ]
    }
   ],
   "source": [
    "!ls /data/lijingru/DataFree/checkpoints/datafree-dafl/"
   ]
  },
  {
   "cell_type": "code",
   "execution_count": 8,
   "id": "9b4f3194",
   "metadata": {},
   "outputs": [
    {
     "name": "stdout",
     "output_type": "stream",
     "text": [
      "95.09\n"
     ]
    },
    {
     "data": {
      "text/plain": [
       "ResNet(\n",
       "  (conv1): Conv2d(3, 64, kernel_size=(3, 3), stride=(1, 1), padding=(1, 1), bias=False)\n",
       "  (bn1): BatchNorm2d(64, eps=1e-05, momentum=0.1, affine=True, track_running_stats=True)\n",
       "  (layer1): Sequential(\n",
       "    (0): BasicBlock(\n",
       "      (conv1): Conv2d(64, 64, kernel_size=(3, 3), stride=(1, 1), padding=(1, 1), bias=False)\n",
       "      (bn1): BatchNorm2d(64, eps=1e-05, momentum=0.1, affine=True, track_running_stats=True)\n",
       "      (conv2): Conv2d(64, 64, kernel_size=(3, 3), stride=(1, 1), padding=(1, 1), bias=False)\n",
       "      (bn2): BatchNorm2d(64, eps=1e-05, momentum=0.1, affine=True, track_running_stats=True)\n",
       "      (shortcut): Sequential()\n",
       "    )\n",
       "    (1): BasicBlock(\n",
       "      (conv1): Conv2d(64, 64, kernel_size=(3, 3), stride=(1, 1), padding=(1, 1), bias=False)\n",
       "      (bn1): BatchNorm2d(64, eps=1e-05, momentum=0.1, affine=True, track_running_stats=True)\n",
       "      (conv2): Conv2d(64, 64, kernel_size=(3, 3), stride=(1, 1), padding=(1, 1), bias=False)\n",
       "      (bn2): BatchNorm2d(64, eps=1e-05, momentum=0.1, affine=True, track_running_stats=True)\n",
       "      (shortcut): Sequential()\n",
       "    )\n",
       "  )\n",
       "  (layer2): Sequential(\n",
       "    (0): BasicBlock(\n",
       "      (conv1): Conv2d(64, 128, kernel_size=(3, 3), stride=(2, 2), padding=(1, 1), bias=False)\n",
       "      (bn1): BatchNorm2d(128, eps=1e-05, momentum=0.1, affine=True, track_running_stats=True)\n",
       "      (conv2): Conv2d(128, 128, kernel_size=(3, 3), stride=(1, 1), padding=(1, 1), bias=False)\n",
       "      (bn2): BatchNorm2d(128, eps=1e-05, momentum=0.1, affine=True, track_running_stats=True)\n",
       "      (shortcut): Sequential(\n",
       "        (0): Conv2d(64, 128, kernel_size=(1, 1), stride=(2, 2), bias=False)\n",
       "        (1): BatchNorm2d(128, eps=1e-05, momentum=0.1, affine=True, track_running_stats=True)\n",
       "      )\n",
       "    )\n",
       "    (1): BasicBlock(\n",
       "      (conv1): Conv2d(128, 128, kernel_size=(3, 3), stride=(1, 1), padding=(1, 1), bias=False)\n",
       "      (bn1): BatchNorm2d(128, eps=1e-05, momentum=0.1, affine=True, track_running_stats=True)\n",
       "      (conv2): Conv2d(128, 128, kernel_size=(3, 3), stride=(1, 1), padding=(1, 1), bias=False)\n",
       "      (bn2): BatchNorm2d(128, eps=1e-05, momentum=0.1, affine=True, track_running_stats=True)\n",
       "      (shortcut): Sequential()\n",
       "    )\n",
       "  )\n",
       "  (layer3): Sequential(\n",
       "    (0): BasicBlock(\n",
       "      (conv1): Conv2d(128, 256, kernel_size=(3, 3), stride=(2, 2), padding=(1, 1), bias=False)\n",
       "      (bn1): BatchNorm2d(256, eps=1e-05, momentum=0.1, affine=True, track_running_stats=True)\n",
       "      (conv2): Conv2d(256, 256, kernel_size=(3, 3), stride=(1, 1), padding=(1, 1), bias=False)\n",
       "      (bn2): BatchNorm2d(256, eps=1e-05, momentum=0.1, affine=True, track_running_stats=True)\n",
       "      (shortcut): Sequential(\n",
       "        (0): Conv2d(128, 256, kernel_size=(1, 1), stride=(2, 2), bias=False)\n",
       "        (1): BatchNorm2d(256, eps=1e-05, momentum=0.1, affine=True, track_running_stats=True)\n",
       "      )\n",
       "    )\n",
       "    (1): BasicBlock(\n",
       "      (conv1): Conv2d(256, 256, kernel_size=(3, 3), stride=(1, 1), padding=(1, 1), bias=False)\n",
       "      (bn1): BatchNorm2d(256, eps=1e-05, momentum=0.1, affine=True, track_running_stats=True)\n",
       "      (conv2): Conv2d(256, 256, kernel_size=(3, 3), stride=(1, 1), padding=(1, 1), bias=False)\n",
       "      (bn2): BatchNorm2d(256, eps=1e-05, momentum=0.1, affine=True, track_running_stats=True)\n",
       "      (shortcut): Sequential()\n",
       "    )\n",
       "  )\n",
       "  (layer4): Sequential(\n",
       "    (0): BasicBlock(\n",
       "      (conv1): Conv2d(256, 512, kernel_size=(3, 3), stride=(2, 2), padding=(1, 1), bias=False)\n",
       "      (bn1): BatchNorm2d(512, eps=1e-05, momentum=0.1, affine=True, track_running_stats=True)\n",
       "      (conv2): Conv2d(512, 512, kernel_size=(3, 3), stride=(1, 1), padding=(1, 1), bias=False)\n",
       "      (bn2): BatchNorm2d(512, eps=1e-05, momentum=0.1, affine=True, track_running_stats=True)\n",
       "      (shortcut): Sequential(\n",
       "        (0): Conv2d(256, 512, kernel_size=(1, 1), stride=(2, 2), bias=False)\n",
       "        (1): BatchNorm2d(512, eps=1e-05, momentum=0.1, affine=True, track_running_stats=True)\n",
       "      )\n",
       "    )\n",
       "    (1): BasicBlock(\n",
       "      (conv1): Conv2d(512, 512, kernel_size=(3, 3), stride=(1, 1), padding=(1, 1), bias=False)\n",
       "      (bn1): BatchNorm2d(512, eps=1e-05, momentum=0.1, affine=True, track_running_stats=True)\n",
       "      (conv2): Conv2d(512, 512, kernel_size=(3, 3), stride=(1, 1), padding=(1, 1), bias=False)\n",
       "      (bn2): BatchNorm2d(512, eps=1e-05, momentum=0.1, affine=True, track_running_stats=True)\n",
       "      (shortcut): Sequential()\n",
       "    )\n",
       "  )\n",
       "  (linear): Linear(in_features=512, out_features=10, bias=True)\n",
       ")"
      ]
     },
     "execution_count": 8,
     "metadata": {},
     "output_type": "execute_result"
    }
   ],
   "source": [
    "# generator = datafree.models.generator.LargeGenerator(nz=512, ngf=64, img_size=32, nc=3)\n",
    "# generator = prepare_model(generator)\n",
    "# ckpt = torch.load('/data/lijingru/CMI/checkpoints/datafree-cmi/cifar100-resnet34-resnet18.pth', map_location='cpu')\n",
    "# ckpt = torch.load('../checkpoints/datafree-deepinv/cifar100-resnet34-resnet18--deepinv_100a.pth', map_location='cpu')\n",
    "# ckpt = torch.load('/data/lijingru/CMI/checkpoints/datafree-dafl/cifar100-resnet34-resnet18.pth', map_location='cpu')\n",
    "# ckpt = torch.load('../checkpoints/datafree-cmi/cifar10-resnet34-resnet18_adv_cmi.pth', map_location='cpu')\n",
    "# ckpt = torch.load('../checkpoints/datafree-probkd/cifar100-resnet34-resnet18--probkd_L2_line4.pth', map_location='cpu')\n",
    "# ckpt = torch.load('../checkpoints/datafree-cudfkd/cifar100-resnet34-resnet18--cudfkd_L2_line33_e.pth', map_location='cpu')\n",
    "# ckpt = torch.load('../checkpoints/datafree-probkd/tiny_imagenet-resnet34_imagenet-resnet18_imagenet--probkd_L3_line7-R0.pth', map_location='cpu')\n",
    "ckpt = torch.load('../checkpoints/datafree-probkd/cifar10-resnet34-resnet18--probkd_L2_line98.pth', map_location='cpu')\n",
    "# ckpt = torch.load('../checkpoints/datafree-probkd/cifar10-resnet34-resnet18--probkd_L2_line66.pth', map_location='cpu')\n",
    "# ckpt = torch.load('../checkpoints/datafree-deepinv/cifar10-resnet34-resnet18.pth', map_location='cpu')\n",
    "# ckpt = torch.load('../checkpoints/scratch_i/cifar10_resnet18.pth', map_location='cpu')\n",
    "# ckpt = torch.load('../checkpoints/scratch/cifar10_wrn16_2.pth', map_location='cpu')\n",
    "# ckpt = torch.load('../checkpoints/scratch/cifar10_wrn40_1.pth', map_location='cpu')\n",
    "# ckpt = torch.load('../checkpoints/scratch/cifar100_resnet18.pth', map_location='cpu')\n",
    "# ckpt = torch.load('../checkpoints/datafree-cudfkd/cifar100-wrn40_2-wrn40_1--cudfkd_L2_line33_d.pth', map_location='cpu')\n",
    "# ckpt = torch.load('../checkpoints/datafree-cudfkd/cifar100-wrn40_2-wrn16_2--cudfkd_L2_line34_c.pth', map_location='cpu')\n",
    "print(ckpt['best_acc1'])\n",
    "# dict_ckpt = dict()\n",
    "# for k, v in ckpt['state_dict'].items():\n",
    "#     dict_ckpt['.'.join(k.split('.')[1:])] = v\n",
    "# G_ckpt = ckpt['G_0']\n",
    "\n",
    "student = prepare_model(student)\n",
    "# student.avgpool = nn.AdaptiveAvgPool2d(1)\n",
    "# num_ftrs = student.fc.in_features\n",
    "# student.fc = nn.Linear(num_ftrs, 200)\n",
    "# student.conv1 = nn.Conv2d(3,64, kernel_size=(3,3), stride=(1,1), padding=(1,1))\n",
    "# student.maxpool = nn.Sequential()\n",
    "student.load_state_dict(ckpt['state_dict'])\n",
    "student.eval()\n"
   ]
  },
  {
   "cell_type": "code",
   "execution_count": 9,
   "id": "952844e8",
   "metadata": {},
   "outputs": [
    {
     "name": "stdout",
     "output_type": "stream",
     "text": [
      "Files already downloaded and verified\n"
     ]
    }
   ],
   "source": [
    "import torchvision.transforms as T\n",
    "from registry import NORMALIZE_DICT\n",
    "from torchvision import datasets\n",
    "# normalizer = datafree.utils.Normalizer(**registry.NORMALIZE_DICT['cifar10'])\n",
    "# val_transform = T.Compose([\n",
    "#     #T.Resize((224, 224), Image.BICUBIC),\n",
    "#     T.ToTensor(),\n",
    "#     T.Normalize( **NORMALIZE_DICT['tiny_imagenet'] ),\n",
    "# ])\n",
    "val_transform = T.Compose([\n",
    "    T.ToTensor(),\n",
    "    T.Normalize( **NORMALIZE_DICT['cifar100'] )]\n",
    ") \n",
    "\n",
    "val_dst = datasets.CIFAR10('/data/lijingru/cifar10/', train=False, download=True, transform=val_transform)\n",
    "# val_dst = datasets.CIFAR100('/data/lijingru/cifar100/', train=False, download=True, transform=val_transform)\n",
    "# val_dst = datasets.ImageFolder(os.path.join('/data/lijingru/timagenet/tiny-imagenet-200', 'val_split'), transform=val_transform)\n",
    "\n",
    "val_loader = torch.utils.data.DataLoader(val_dst, batch_size=128, shuffle=False, num_workers=4, pin_memory=True)"
   ]
  },
  {
   "cell_type": "code",
   "execution_count": 10,
   "id": "70a13870",
   "metadata": {},
   "outputs": [
    {
     "name": "stderr",
     "output_type": "stream",
     "text": [
      "calculate_agg: 100%|██████████| 79/79 [00:03<00:00, 19.95it/s]\n"
     ]
    }
   ],
   "source": [
    "import tqdm\n",
    "probs_s = []\n",
    "probs_t = []\n",
    "ys = []\n",
    "for x, y in tqdm.tqdm(val_loader, desc='calculate_agg'):\n",
    "    s_out = student(x.to(gpu))\n",
    "    t_out = teacher(x.to(gpu))\n",
    "#     print(np.argmax(prob_t, 1), y.numpy())\n",
    "#     print(torch.sum(s_out.argmax(1).detach().cpu() == y) / 128)\n",
    "    prob_s = torch.softmax(s_out.detach(), 1).cpu().numpy()\n",
    "    probs_s.append(prob_s)\n",
    "    prob_t = torch.softmax(t_out.detach(), 1).cpu().numpy()\n",
    "    probs_t.append(prob_t)\n",
    "    ys.append(y.numpy())\n",
    "\n",
    "probs_s = np.concatenate(probs_s, 0)\n",
    "probs_t = np.concatenate(probs_t, 0)\n",
    "ys = np.concatenate(ys, 0)"
   ]
  },
  {
   "cell_type": "code",
   "execution_count": 11,
   "id": "b4e1882e",
   "metadata": {},
   "outputs": [
    {
     "name": "stdout",
     "output_type": "stream",
     "text": [
      "0.9436\n",
      "0.9504\n",
      "0.9734\n",
      "0.878993\n"
     ]
    }
   ],
   "source": [
    "if not os.path.exists('prob_loyalty_distribution/'):\n",
    "    os.mkdir('prob_loyalty_distribution/')\n",
    "# print(y)\n",
    "print(np.sum(np.argmax(probs_s, 1) == ys) / len(val_dst))\n",
    "print(np.sum(np.argmax(probs_t, 1) == ys) / len(val_dst))\n",
    "print(np.sum(np.argmax(probs_t, 1) == np.argmax(probs_s, 1)) / len(val_dst))\n",
    "dist = distance.jensenshannon(probs_s.T, probs_t.T)\n",
    "dist[np.isnan(dist)] = 0 if np.sum(np.abs(probs_s[np.where(np.isnan(dist))] - probs_t[np.where(np.isnan(dist))])) < 1e-6 else 1\n",
    "prob_loyalty = 1 - np.sqrt(dist)\n",
    "print(np.nanmean(prob_loyalty))\n",
    "# print(dist[1773])"
   ]
  },
  {
   "cell_type": "code",
   "execution_count": 12,
   "id": "2fddb456",
   "metadata": {},
   "outputs": [
    {
     "data": {
      "text/plain": [
       "<seaborn.axisgrid.FacetGrid at 0x7f588d861760>"
      ]
     },
     "execution_count": 12,
     "metadata": {},
     "output_type": "execute_result"
    },
    {
     "data": {
      "application/pdf": "[encoded data removed]",
      "text/plain": [
       "<Figure size 360x360 with 1 Axes>"
      ]
     },
     "metadata": {
      "needs_background": "light"
     },
     "output_type": "display_data"
    }
   ],
   "source": [
    "import seaborn as sns\n",
    "import matplotlib.pyplot as plt\n",
    "fig = sns.displot(prob_loyalty, kind='hist', color=sns.xkcd_rgb[\"yellow orange\"])\n",
    "# fig.set_xlim(0, 1)\n",
    "fig.set_xlabels('probability loyalty', fontsize=14)\n",
    "fig.set_ylabels('Number of Images', fontsize=14)\n",
    "# plt.savefig('prob_loyalty_distribution/prob_loyalty_cudfkd.pdf')\n",
    "# x_ticks = np.arange(0, 1.01, 0.2)\n",
    "# y_ticks = np.arange(0, 700, 100)\n",
    "# fig.set_xticklabels(x_ticks, fontsize=12)\n",
    "# fig.set_yticklabels(y_ticks, fontsize=12)\n"
   ]
  },
  {
   "cell_type": "markdown",
   "id": "12d1a1ba",
   "metadata": {},
   "source": [
    "### Other visualization Results\n",
    "The items for further visualization:\n",
    "- Difficulty visualization at different timestage.\n",
    "- Ablation study of $k_{begin}$ and $k_{end}$.\n",
    "- Ablation study of $\\alpha_{adv}$.\n",
    "- Error bar of CuDFKD, CMI, ADI and DAFL."
   ]
  },
  {
   "cell_type": "code",
   "execution_count": 26,
   "id": "56b2f354",
   "metadata": {},
   "outputs": [],
   "source": [
    "x = np.array(['1/5', '1/4', '1/3'])\n",
    "y = np.array(['2/3', '3/4', '4/5'])\n",
    "res2res_acc = np.array([[71.00, 71.22, 71.12], [70.81, 70.79, 70.68], [70.41, 70.52, 70.54]])\n",
    "res2res_agr = np.array([[85.88, 85.85, 85.64], [85.40, 85.14, 85.58], [83.77, 83.88, 83.67]])\n",
    "res2res_loyalty = np.array([[0.6659, 0.6777, 0.6751], [0.6684, 0.6624, 0.6682], [0.6469, 0.6500, 0.6467]])"
   ]
  },
  {
   "cell_type": "code",
   "execution_count": 14,
   "id": "91f13e5a",
   "metadata": {},
   "outputs": [
    {
     "data": {
      "application/pdf": "[encoded data removed]",
      "text/plain": [
       "<Figure size 432x288 with 2 Axes>"
      ]
     },
     "metadata": {
      "needs_background": "light"
     },
     "output_type": "display_data"
    }
   ],
   "source": [
    "if not os.path.exists('heatmaps/'):\n",
    "    os.mkdir('heatmaps/')\n",
    "fig1 = sns.heatmap(res2res_acc, xticklabels=x, yticklabels=y, annot=True, fmt='.2f', cmap='RdBu_r')\n",
    "plt.savefig('heatmaps/vgg_acc.pdf')"
   ]
  },
  {
   "cell_type": "code",
   "execution_count": 15,
   "id": "7d6f0b70",
   "metadata": {},
   "outputs": [
    {
     "data": {
      "application/pdf": "[encoded data removed]",
      "text/plain": [
       "<Figure size 432x288 with 2 Axes>"
      ]
     },
     "metadata": {
      "needs_background": "light"
     },
     "output_type": "display_data"
    }
   ],
   "source": [
    "fig2 = sns.heatmap(res2res_agr, xticklabels=x, yticklabels=y, annot=True, fmt='.2f', cmap='RdBu_r')\n",
    "plt.savefig('heatmaps/vgg_agg.pdf')"
   ]
  },
  {
   "cell_type": "code",
   "execution_count": 16,
   "id": "699d93c7",
   "metadata": {},
   "outputs": [
    {
     "data": {
      "application/pdf": "[encoded data removed]",
      "text/plain": [
       "<Figure size 432x288 with 2 Axes>"
      ]
     },
     "metadata": {
      "needs_background": "light"
     },
     "output_type": "display_data"
    }
   ],
   "source": [
    "fig3 = sns.heatmap(res2res_loyalty, xticklabels=x, yticklabels=y, annot=True, fmt='.4f', cmap='RdBu_r')\n",
    "plt.savefig('heatmaps/vgg_loyalty.pdf')"
   ]
  },
  {
   "cell_type": "code",
   "execution_count": 17,
   "id": "5e5db220",
   "metadata": {},
   "outputs": [],
   "source": [
    "vgg2res_acc = np.array([[64.74, 64.65, 64.77], [64.66, 64.66, 64.10], [63.95, 64.00, 63.81]])\n",
    "vgg2res_agr = np.array([[68.91, 68.88, 68.93], [68.80, 68.85, 68.54], [68.58, 68.19, 68.31]])\n",
    "vgg2res_loyalty = np.array([[0.5067, 0.5058, 0.5072], [0.5059, 0.5054, 0.5069], [0.5001, 0.4961, 0.5021]])"
   ]
  },
  {
   "cell_type": "code",
   "execution_count": 18,
   "id": "7bd13364",
   "metadata": {},
   "outputs": [
    {
     "data": {
      "application/pdf": "[encoded data removed]",
      "text/plain": [
       "<Figure size 432x288 with 2 Axes>"
      ]
     },
     "metadata": {
      "needs_background": "light"
     },
     "output_type": "display_data"
    }
   ],
   "source": [
    "sns.heatmap(vgg2res_acc, xticklabels=x, yticklabels=y, annot=True, fmt='.2f', cmap='RdBu_r')\n",
    "plt.savefig('heatmaps/wrn_acc.pdf')"
   ]
  },
  {
   "cell_type": "code",
   "execution_count": 19,
   "id": "52c4ac9a",
   "metadata": {},
   "outputs": [
    {
     "data": {
      "application/pdf": "[encoded data removed]",
      "text/plain": [
       "<Figure size 432x288 with 2 Axes>"
      ]
     },
     "metadata": {
      "needs_background": "light"
     },
     "output_type": "display_data"
    }
   ],
   "source": [
    "sns.heatmap(vgg2res_agr, xticklabels=x, yticklabels=y, annot=True, fmt='.2f', cmap='RdBu_r')\n",
    "plt.savefig('heatmaps/wrn_agg.pdf')"
   ]
  },
  {
   "cell_type": "code",
   "execution_count": 20,
   "id": "79740b5f",
   "metadata": {},
   "outputs": [
    {
     "data": {
      "application/pdf": "[encoded data removed]",
      "text/plain": [
       "<Figure size 432x288 with 2 Axes>"
      ]
     },
     "metadata": {
      "needs_background": "light"
     },
     "output_type": "display_data"
    }
   ],
   "source": [
    "sns.heatmap(vgg2res_loyalty, xticklabels=x, yticklabels=y, annot=True, fmt='.4f', cmap='RdBu_r')\n",
    "plt.savefig('heatmaps/wrn_loyalty.pdf')"
   ]
  },
  {
   "cell_type": "code",
   "execution_count": 106,
   "id": "3c521bc6",
   "metadata": {
    "scrolled": true
   },
   "outputs": [
    {
     "data": {
      "text/plain": [
       "DCGAN_Generator_CIFAR10(\n",
       "  (project): Sequential(\n",
       "    (0): Flatten()\n",
       "    (1): Linear(in_features=512, out_features=16384, bias=True)\n",
       "  )\n",
       "  (main): Sequential(\n",
       "    (0): BatchNorm2d(256, eps=1e-05, momentum=0.1, affine=True, track_running_stats=True)\n",
       "    (1): Upsample(scale_factor=2.0, mode=nearest)\n",
       "    (2): Conv2d(256, 128, kernel_size=(3, 3), stride=(1, 1), padding=(1, 1), bias=False)\n",
       "    (3): BatchNorm2d(128, eps=1e-05, momentum=0.1, affine=True, track_running_stats=True)\n",
       "    (4): LeakyReLU(negative_slope=0.2, inplace=True)\n",
       "    (5): Upsample(scale_factor=2.0, mode=nearest)\n",
       "    (6): Conv2d(128, 64, kernel_size=(3, 3), stride=(1, 1), padding=(1, 1), bias=False)\n",
       "    (7): BatchNorm2d(64, eps=1e-05, momentum=0.1, affine=True, track_running_stats=True)\n",
       "    (8): LeakyReLU(negative_slope=0.2, inplace=True)\n",
       "    (9): Conv2d(64, 3, kernel_size=(3, 3), stride=(1, 1), padding=(1, 1))\n",
       "    (10): Sigmoid()\n",
       "  )\n",
       ")"
      ]
     },
     "execution_count": 106,
     "metadata": {},
     "output_type": "execute_result"
    }
   ],
   "source": [
    "ckpt = torch.load('../checkpoints/datafree-cudfkd/cifar100-wrn40_2-wrn40_1--cudfkd_L2_line33_d.pth', map_location='cpu')\n",
    "student.load_state_dict(ckpt['state_dict'])\n",
    "student.eval()\n",
    "g = datafree.models.generator.DCGAN_Generator_CIFAR10(nz=512, ngf=64, nc=3, img_size=32, d=2, cond=False)\n",
    "g = prepare_model(g)\n",
    "g.load_state_dict(ckpt['G_0'])\n",
    "g.eval()"
   ]
  },
  {
   "cell_type": "code",
   "execution_count": 107,
   "id": "9b832c02",
   "metadata": {},
   "outputs": [
    {
     "name": "stdout",
     "output_type": "stream",
     "text": [
      "[0.8088592  0.78664553 2.6981955  ... 2.2897153  1.3273132  1.1442074 ]\n",
      "[13 85 81 ... 23 98 67]\n"
     ]
    }
   ],
   "source": [
    "from torchvision.utils import make_grid,save_image\n",
    "diff = []\n",
    "now_epoch = 300\n",
    "kl_metric = datafree.criterions.KLDiv(T=2., reduction='none')\n",
    "with torch.no_grad():\n",
    "    for i in range(20):\n",
    "        z = torch.randn(1024, 512).to(gpu)\n",
    "        x = g(z)\n",
    "        t_out = teacher(normalizer(x))\n",
    "        s_out = student(normalizer(x))\n",
    "        kl_diff = kl_metric(t_out, s_out).sum(1).detach().cpu().numpy()\n",
    "        diff.append(kl_diff)\n",
    "    \n",
    "diff = np.concatenate(diff)\n",
    "print(diff)\n",
    "with torch.no_grad():\n",
    "    z = torch.randn(1024, 512).to(gpu)\n",
    "    img = make_grid(x, nrow=16)\n",
    "    t_out = teacher(normalizer(x))\n",
    "    pesudo_label = t_out.argmax(1).cpu().numpy()\n",
    "    print(pesudo_label)\n",
    "\n",
    "#     save_image(img, 'difficulty/epoch_{}.jpg'.format(now_epoch))"
   ]
  },
  {
   "cell_type": "code",
   "execution_count": 108,
   "id": "d9697082",
   "metadata": {},
   "outputs": [
    {
     "name": "stdout",
     "output_type": "stream",
     "text": [
      "0 torch.Size([9, 3, 32, 32])\n",
      "1 torch.Size([8, 3, 32, 32])\n",
      "2 torch.Size([8, 3, 32, 32])\n",
      "3 torch.Size([13, 3, 32, 32])\n",
      "4 torch.Size([13, 3, 32, 32])\n",
      "5 torch.Size([18, 3, 32, 32])\n",
      "6 torch.Size([10, 3, 32, 32])\n",
      "7 torch.Size([15, 3, 32, 32])\n",
      "8 torch.Size([8, 3, 32, 32])\n",
      "9 torch.Size([13, 3, 32, 32])\n",
      "10 torch.Size([12, 3, 32, 32])\n",
      "11 torch.Size([14, 3, 32, 32])\n",
      "12 torch.Size([12, 3, 32, 32])\n",
      "13 torch.Size([15, 3, 32, 32])\n",
      "14 torch.Size([10, 3, 32, 32])\n",
      "15 torch.Size([6, 3, 32, 32])\n",
      "16 torch.Size([5, 3, 32, 32])\n",
      "17 torch.Size([13, 3, 32, 32])\n",
      "18 torch.Size([3, 3, 32, 32])\n",
      "19 torch.Size([8, 3, 32, 32])\n",
      "20 torch.Size([7, 3, 32, 32])\n",
      "21 torch.Size([7, 3, 32, 32])\n",
      "22 torch.Size([15, 3, 32, 32])\n",
      "23 torch.Size([12, 3, 32, 32])\n",
      "24 torch.Size([5, 3, 32, 32])\n",
      "25 torch.Size([5, 3, 32, 32])\n",
      "26 torch.Size([12, 3, 32, 32])\n",
      "27 torch.Size([15, 3, 32, 32])\n",
      "28 torch.Size([10, 3, 32, 32])\n",
      "29 torch.Size([21, 3, 32, 32])\n",
      "30 torch.Size([13, 3, 32, 32])\n",
      "31 torch.Size([13, 3, 32, 32])\n",
      "32 torch.Size([5, 3, 32, 32])\n",
      "33 torch.Size([11, 3, 32, 32])\n",
      "34 torch.Size([13, 3, 32, 32])\n",
      "35 torch.Size([14, 3, 32, 32])\n",
      "36 torch.Size([11, 3, 32, 32])\n",
      "37 torch.Size([12, 3, 32, 32])\n",
      "38 torch.Size([14, 3, 32, 32])\n",
      "39 torch.Size([4, 3, 32, 32])\n",
      "40 torch.Size([8, 3, 32, 32])\n",
      "41 torch.Size([4, 3, 32, 32])\n",
      "42 torch.Size([16, 3, 32, 32])\n",
      "43 torch.Size([14, 3, 32, 32])\n",
      "44 torch.Size([14, 3, 32, 32])\n",
      "45 torch.Size([4, 3, 32, 32])\n",
      "46 torch.Size([7, 3, 32, 32])\n",
      "47 torch.Size([16, 3, 32, 32])\n",
      "48 torch.Size([3, 3, 32, 32])\n",
      "49 torch.Size([14, 3, 32, 32])\n",
      "50 torch.Size([6, 3, 32, 32])\n",
      "51 torch.Size([8, 3, 32, 32])\n",
      "52 torch.Size([9, 3, 32, 32])\n",
      "53 torch.Size([13, 3, 32, 32])\n",
      "54 torch.Size([6, 3, 32, 32])\n",
      "55 torch.Size([13, 3, 32, 32])\n",
      "56 torch.Size([9, 3, 32, 32])\n",
      "57 torch.Size([11, 3, 32, 32])\n",
      "58 torch.Size([5, 3, 32, 32])\n",
      "59 torch.Size([9, 3, 32, 32])\n",
      "60 torch.Size([1, 3, 32, 32])\n",
      "61 torch.Size([9, 3, 32, 32])\n",
      "62 torch.Size([4, 3, 32, 32])\n",
      "63 torch.Size([6, 3, 32, 32])\n",
      "64 torch.Size([14, 3, 32, 32])\n",
      "65 torch.Size([19, 3, 32, 32])\n",
      "66 torch.Size([9, 3, 32, 32])\n",
      "67 torch.Size([11, 3, 32, 32])\n",
      "68 torch.Size([7, 3, 32, 32])\n",
      "69 torch.Size([10, 3, 32, 32])\n",
      "70 torch.Size([8, 3, 32, 32])\n",
      "71 torch.Size([5, 3, 32, 32])\n",
      "72 torch.Size([12, 3, 32, 32])\n",
      "73 torch.Size([7, 3, 32, 32])\n",
      "74 torch.Size([6, 3, 32, 32])\n",
      "75 torch.Size([2, 3, 32, 32])\n",
      "76 torch.Size([14, 3, 32, 32])\n",
      "77 torch.Size([15, 3, 32, 32])\n",
      "78 torch.Size([15, 3, 32, 32])\n",
      "79 torch.Size([15, 3, 32, 32])\n",
      "80 torch.Size([5, 3, 32, 32])\n",
      "81 torch.Size([14, 3, 32, 32])\n",
      "82 torch.Size([8, 3, 32, 32])\n",
      "83 torch.Size([11, 3, 32, 32])\n",
      "84 torch.Size([11, 3, 32, 32])\n",
      "85 torch.Size([6, 3, 32, 32])\n",
      "86 torch.Size([17, 3, 32, 32])\n",
      "87 torch.Size([9, 3, 32, 32])\n",
      "88 torch.Size([12, 3, 32, 32])\n",
      "89 torch.Size([9, 3, 32, 32])\n",
      "90 torch.Size([12, 3, 32, 32])\n",
      "91 torch.Size([9, 3, 32, 32])\n",
      "92 torch.Size([19, 3, 32, 32])\n",
      "93 torch.Size([10, 3, 32, 32])\n",
      "94 torch.Size([9, 3, 32, 32])\n",
      "95 torch.Size([8, 3, 32, 32])\n",
      "96 torch.Size([8, 3, 32, 32])\n",
      "97 torch.Size([14, 3, 32, 32])\n",
      "98 torch.Size([12, 3, 32, 32])\n",
      "99 torch.Size([11, 3, 32, 32])\n"
     ]
    }
   ],
   "source": [
    "xs = []\n",
    "for i in range(num_classes):\n",
    "#     print(i)\n",
    "    xs.append(x[pesudo_label == i].cpu())\n",
    "    print(i, xs[i].shape)\n",
    "    if xs[i].shape[0] > 0:\n",
    "        img = make_grid(xs[i], nrow=1)\n",
    "        save_image(img, 'difficulty/img_epoch_{}_{}.jpg'.format(now_epoch, i))"
   ]
  },
  {
   "cell_type": "code",
   "execution_count": 21,
   "id": "14dd7070",
   "metadata": {},
   "outputs": [
    {
     "data": {
      "text/plain": [
       "<seaborn.axisgrid.FacetGrid at 0x7fbce51f3d30>"
      ]
     },
     "execution_count": 21,
     "metadata": {},
     "output_type": "execute_result"
    },
    {
     "data": {
      "application/pdf": "[encoded data removed]",
      "text/plain": [
       "<Figure size 360x360 with 1 Axes>"
      ]
     },
     "metadata": {
      "needs_background": "light"
     },
     "output_type": "display_data"
    }
   ],
   "source": [
    "sns.displot(diff)"
   ]
  },
  {
   "cell_type": "code",
   "execution_count": 21,
   "id": "67b9eacb",
   "metadata": {},
   "outputs": [],
   "source": [
    "wrn2wrn_acc = np.array([[75.24, 75.16, 75.31], [75.11, 75.21, 75.22], [75.01, 74.89, 75.01]])\n",
    "wrn2wrn_agr = np.array([[85.26, 86.06, 86.11], [85.40, 85.14, 85.58], [85.38, 85.53, 85.57]])\n",
    "wrn2wrn_loyalty = np.array([[0.6472, 0.6476, 0.6476], [0.6433, 0.6437, 0.6447], [0.6393, 0.6403, 0.6407]])\n"
   ]
  },
  {
   "cell_type": "code",
   "execution_count": 22,
   "id": "aebc327d",
   "metadata": {},
   "outputs": [
    {
     "data": {
      "application/pdf": "[encoded data removed]",
      "text/plain": [
       "<Figure size 432x288 with 2 Axes>"
      ]
     },
     "metadata": {
      "needs_background": "light"
     },
     "output_type": "display_data"
    }
   ],
   "source": [
    "sns.heatmap(wrn2wrn_acc, xticklabels=x, yticklabels=y, annot=True, fmt='.2f', cmap='RdBu_r')\n",
    "plt.savefig('heatmaps/res_acc.pdf')"
   ]
  },
  {
   "cell_type": "code",
   "execution_count": 23,
   "id": "40d0fdaa",
   "metadata": {},
   "outputs": [
    {
     "data": {
      "application/pdf": "[encoded data removed]",
      "text/plain": [
       "<Figure size 432x288 with 2 Axes>"
      ]
     },
     "metadata": {
      "needs_background": "light"
     },
     "output_type": "display_data"
    }
   ],
   "source": [
    "sns.heatmap(wrn2wrn_agr, xticklabels=x, yticklabels=y, annot=True, fmt='.2f', cmap='RdBu_r')\n",
    "plt.savefig('heatmaps/res_agg.pdf')"
   ]
  },
  {
   "cell_type": "code",
   "execution_count": 25,
   "id": "908b4930",
   "metadata": {},
   "outputs": [
    {
     "data": {
      "application/pdf": "[encoded data removed]",
      "text/plain": [
       "<Figure size 432x288 with 2 Axes>"
      ]
     },
     "metadata": {
      "needs_background": "light"
     },
     "output_type": "display_data"
    }
   ],
   "source": [
    "sns.heatmap(wrn2wrn_loyalty, xticklabels=x, yticklabels=y, annot=True, fmt='.4f', cmap='RdBu_r')\n",
    "plt.savefig('heatmaps/res_loyalty.pdf')"
   ]
  },
  {
   "cell_type": "code",
   "execution_count": 46,
   "id": "4d6452ab",
   "metadata": {},
   "outputs": [
    {
     "data": {
      "text/html": [
       "<div>\n",
       "<style scoped>\n",
       "    .dataframe tbody tr th:only-of-type {\n",
       "        vertical-align: middle;\n",
       "    }\n",
       "\n",
       "    .dataframe tbody tr th {\n",
       "        vertical-align: top;\n",
       "    }\n",
       "\n",
       "    .dataframe thead th {\n",
       "        text-align: right;\n",
       "    }\n",
       "</style>\n",
       "<table border=\"1\" class=\"dataframe\">\n",
       "  <thead>\n",
       "    <tr style=\"text-align: right;\">\n",
       "      <th></th>\n",
       "      <th>grad_of_adv</th>\n",
       "      <th>acc@1</th>\n",
       "      <th>agree@1</th>\n",
       "      <th>loyalty</th>\n",
       "    </tr>\n",
       "  </thead>\n",
       "  <tbody>\n",
       "    <tr>\n",
       "      <th>0</th>\n",
       "      <td>0.5</td>\n",
       "      <td>75.10</td>\n",
       "      <td>85.52</td>\n",
       "      <td>0.6412</td>\n",
       "    </tr>\n",
       "    <tr>\n",
       "      <th>1</th>\n",
       "      <td>1.0</td>\n",
       "      <td>75.31</td>\n",
       "      <td>86.11</td>\n",
       "      <td>0.6476</td>\n",
       "    </tr>\n",
       "    <tr>\n",
       "      <th>2</th>\n",
       "      <td>1.5</td>\n",
       "      <td>75.50</td>\n",
       "      <td>86.22</td>\n",
       "      <td>0.6528</td>\n",
       "    </tr>\n",
       "    <tr>\n",
       "      <th>3</th>\n",
       "      <td>2.0</td>\n",
       "      <td>75.50</td>\n",
       "      <td>86.52</td>\n",
       "      <td>0.6568</td>\n",
       "    </tr>\n",
       "    <tr>\n",
       "      <th>4</th>\n",
       "      <td>2.5</td>\n",
       "      <td>75.51</td>\n",
       "      <td>86.30</td>\n",
       "      <td>0.6571</td>\n",
       "    </tr>\n",
       "    <tr>\n",
       "      <th>5</th>\n",
       "      <td>3.0</td>\n",
       "      <td>75.60</td>\n",
       "      <td>86.52</td>\n",
       "      <td>0.6576</td>\n",
       "    </tr>\n",
       "    <tr>\n",
       "      <th>6</th>\n",
       "      <td>3.5</td>\n",
       "      <td>75.73</td>\n",
       "      <td>86.32</td>\n",
       "      <td>0.6575</td>\n",
       "    </tr>\n",
       "    <tr>\n",
       "      <th>7</th>\n",
       "      <td>4.0</td>\n",
       "      <td>75.67</td>\n",
       "      <td>86.11</td>\n",
       "      <td>0.6572</td>\n",
       "    </tr>\n",
       "  </tbody>\n",
       "</table>\n",
       "</div>"
      ],
      "text/plain": [
       "   grad_of_adv  acc@1  agree@1  loyalty\n",
       "0          0.5  75.10    85.52   0.6412\n",
       "1          1.0  75.31    86.11   0.6476\n",
       "2          1.5  75.50    86.22   0.6528\n",
       "3          2.0  75.50    86.52   0.6568\n",
       "4          2.5  75.51    86.30   0.6571\n",
       "5          3.0  75.60    86.52   0.6576\n",
       "6          3.5  75.73    86.32   0.6575\n",
       "7          4.0  75.67    86.11   0.6572"
      ]
     },
     "execution_count": 46,
     "metadata": {},
     "output_type": "execute_result"
    }
   ],
   "source": [
    "import pandas as pd\n",
    "grad_range = np.array([0.5, 1, 1.5, 2, 2.5, 3, 3.5, 4])\n",
    "adv_acc = np.array([75.10, 75.31, 75.50, 75.50, 75.51, 75.60, 75.73, 75.67])\n",
    "adv_agg = np.array([85.52, 86.11, 86.22, 86.52, 86.30, 86.52, 86.32, 86.11])\n",
    "adv_loyalty = np.array([0.6412, 0.6476, 0.6528, 0.6568, 0.6571, 0.6576, 0.6575, 0.6572])\n",
    "if not os.path.exists('grad_adv/'):\n",
    "    os.mkdir('grad_adv/')\n",
    "\n",
    "res_dict = {\n",
    "    'grad_of_adv': grad_range,\n",
    "    'acc@1': adv_acc,\n",
    "    'agree@1': adv_agg,\n",
    "    'loyalty': adv_loyalty\n",
    "}\n",
    "\n",
    "final_df = pd.DataFrame(res_dict)\n",
    "final_df"
   ]
  },
  {
   "cell_type": "code",
   "execution_count": 109,
   "id": "dd18d300",
   "metadata": {},
   "outputs": [],
   "source": [
    "# now_epoch = 300\n",
    "global_iter = now_epoch * 400\n",
    "lamda = datafree.datasets.utils.lambda_scheduler(1.0, global_iter, alpha=0.00002)\n",
    "g,v = datafree.datasets.utils.curr_v(l=torch.FloatTensor(diff), lamda=lamda, spl_type='log')"
   ]
  },
  {
   "cell_type": "code",
   "execution_count": 110,
   "id": "c678e2df",
   "metadata": {},
   "outputs": [],
   "source": [
    "if not os.path.exists('difficulty/'):\n",
    "    os.mkdir('difficulty/')\n",
    "diffs = dict()\n",
    "diffs['epoch@{}'.format(now_epoch)] = v.numpy() * diff\n",
    "# sns.displot(v.numpy() * diff, kind='kde')\n",
    "# plt.savefig('difficulty/difficulty_at_{}.pdf'.format(now_epoch))"
   ]
  },
  {
   "cell_type": "code",
   "execution_count": 118,
   "id": "46a889bb",
   "metadata": {},
   "outputs": [
    {
     "data": {
      "text/plain": [
       "DCGAN_Generator_CIFAR10(\n",
       "  (project): Sequential(\n",
       "    (0): Flatten()\n",
       "    (1): Linear(in_features=512, out_features=16384, bias=True)\n",
       "  )\n",
       "  (main): Sequential(\n",
       "    (0): BatchNorm2d(256, eps=1e-05, momentum=0.1, affine=True, track_running_stats=True)\n",
       "    (1): Upsample(scale_factor=2.0, mode=nearest)\n",
       "    (2): Conv2d(256, 128, kernel_size=(3, 3), stride=(1, 1), padding=(1, 1), bias=False)\n",
       "    (3): BatchNorm2d(128, eps=1e-05, momentum=0.1, affine=True, track_running_stats=True)\n",
       "    (4): LeakyReLU(negative_slope=0.2, inplace=True)\n",
       "    (5): Upsample(scale_factor=2.0, mode=nearest)\n",
       "    (6): Conv2d(128, 64, kernel_size=(3, 3), stride=(1, 1), padding=(1, 1), bias=False)\n",
       "    (7): BatchNorm2d(64, eps=1e-05, momentum=0.1, affine=True, track_running_stats=True)\n",
       "    (8): LeakyReLU(negative_slope=0.2, inplace=True)\n",
       "    (9): Conv2d(64, 3, kernel_size=(3, 3), stride=(1, 1), padding=(1, 1))\n",
       "    (10): Sigmoid()\n",
       "  )\n",
       ")"
      ]
     },
     "execution_count": 118,
     "metadata": {},
     "output_type": "execute_result"
    }
   ],
   "source": [
    "ckpt = torch.load('../checkpoints/datafree-cudfkd/cifar100-wrn40_2-wrn40_1-10.pth', map_location='cpu')\n",
    "student.load_state_dict(ckpt['state_dict'])\n",
    "student.eval()\n",
    "g = datafree.models.generator.DCGAN_Generator_CIFAR10(nz=512, ngf=64, nc=3, img_size=32, d=2, cond=False)\n",
    "g = prepare_model(g)\n",
    "g.load_state_dict(ckpt['G_0'])\n",
    "g.eval()"
   ]
  },
  {
   "cell_type": "code",
   "execution_count": 119,
   "id": "70d8fe61",
   "metadata": {},
   "outputs": [
    {
     "name": "stdout",
     "output_type": "stream",
     "text": [
      "[0.72593755 1.0575736  1.4061728  ... 0.61674047 1.2157195  0.48502705]\n",
      "[81 70 89 ...  1 19 25]\n"
     ]
    }
   ],
   "source": [
    "diff = []\n",
    "now_epoch = 10\n",
    "kl_metric = datafree.criterions.KLDiv(T=2., reduction='none')\n",
    "with torch.no_grad():\n",
    "    for i in range(20):\n",
    "        z = torch.randn(1024, 512).to(gpu)\n",
    "        x = g(z)\n",
    "        t_out = teacher(normalizer(x))\n",
    "        s_out = student(normalizer(x))\n",
    "        kl_diff = kl_metric(t_out, s_out).sum(1).detach().cpu().numpy()\n",
    "        diff.append(kl_diff)\n",
    "    \n",
    "diff = np.concatenate(diff)\n",
    "print(diff)\n",
    "with torch.no_grad():\n",
    "    z = torch.randn(1024, 512).to(gpu)\n",
    "    x = g(z)\n",
    "    img = make_grid(x, nrow=16)\n",
    "    t_out = teacher(normalizer(x))\n",
    "    pesudo_label = t_out.argmax(1).cpu().numpy()\n",
    "    print(pesudo_label)\n",
    "    save_image(img, 'difficulty/epoch_{}.jpg'.format(now_epoch))"
   ]
  },
  {
   "cell_type": "code",
   "execution_count": 120,
   "id": "8cefe238",
   "metadata": {},
   "outputs": [
    {
     "name": "stdout",
     "output_type": "stream",
     "text": [
      "0 torch.Size([3, 3, 32, 32])\n",
      "1 torch.Size([23, 3, 32, 32])\n",
      "2 torch.Size([2, 3, 32, 32])\n",
      "3 torch.Size([8, 3, 32, 32])\n",
      "4 torch.Size([12, 3, 32, 32])\n",
      "5 torch.Size([12, 3, 32, 32])\n",
      "6 torch.Size([6, 3, 32, 32])\n",
      "7 torch.Size([21, 3, 32, 32])\n",
      "8 torch.Size([17, 3, 32, 32])\n",
      "9 torch.Size([11, 3, 32, 32])\n",
      "10 torch.Size([9, 3, 32, 32])\n",
      "11 torch.Size([7, 3, 32, 32])\n",
      "12 torch.Size([10, 3, 32, 32])\n",
      "13 torch.Size([11, 3, 32, 32])\n",
      "14 torch.Size([11, 3, 32, 32])\n",
      "15 torch.Size([8, 3, 32, 32])\n",
      "16 torch.Size([7, 3, 32, 32])\n",
      "17 torch.Size([6, 3, 32, 32])\n",
      "18 torch.Size([4, 3, 32, 32])\n",
      "19 torch.Size([12, 3, 32, 32])\n",
      "20 torch.Size([2, 3, 32, 32])\n",
      "21 torch.Size([1, 3, 32, 32])\n",
      "22 torch.Size([5, 3, 32, 32])\n",
      "23 torch.Size([14, 3, 32, 32])\n",
      "24 torch.Size([8, 3, 32, 32])\n",
      "25 torch.Size([8, 3, 32, 32])\n",
      "26 torch.Size([13, 3, 32, 32])\n",
      "27 torch.Size([6, 3, 32, 32])\n",
      "28 torch.Size([13, 3, 32, 32])\n",
      "29 torch.Size([17, 3, 32, 32])\n",
      "30 torch.Size([18, 3, 32, 32])\n",
      "31 torch.Size([8, 3, 32, 32])\n",
      "32 torch.Size([8, 3, 32, 32])\n",
      "33 torch.Size([8, 3, 32, 32])\n",
      "34 torch.Size([14, 3, 32, 32])\n",
      "35 torch.Size([7, 3, 32, 32])\n",
      "36 torch.Size([14, 3, 32, 32])\n",
      "37 torch.Size([17, 3, 32, 32])\n",
      "38 torch.Size([6, 3, 32, 32])\n",
      "39 torch.Size([2, 3, 32, 32])\n",
      "40 torch.Size([9, 3, 32, 32])\n",
      "41 torch.Size([13, 3, 32, 32])\n",
      "42 torch.Size([13, 3, 32, 32])\n",
      "43 torch.Size([13, 3, 32, 32])\n",
      "44 torch.Size([7, 3, 32, 32])\n",
      "45 torch.Size([9, 3, 32, 32])\n",
      "46 torch.Size([5, 3, 32, 32])\n",
      "47 torch.Size([13, 3, 32, 32])\n",
      "48 torch.Size([19, 3, 32, 32])\n",
      "49 torch.Size([17, 3, 32, 32])\n",
      "50 torch.Size([6, 3, 32, 32])\n",
      "51 torch.Size([5, 3, 32, 32])\n",
      "52 torch.Size([1, 3, 32, 32])\n",
      "53 torch.Size([4, 3, 32, 32])\n",
      "54 torch.Size([16, 3, 32, 32])\n",
      "55 torch.Size([13, 3, 32, 32])\n",
      "56 torch.Size([3, 3, 32, 32])\n",
      "57 torch.Size([22, 3, 32, 32])\n",
      "58 torch.Size([3, 3, 32, 32])\n",
      "59 torch.Size([6, 3, 32, 32])\n",
      "60 torch.Size([11, 3, 32, 32])\n",
      "61 torch.Size([9, 3, 32, 32])\n",
      "62 torch.Size([12, 3, 32, 32])\n",
      "63 torch.Size([5, 3, 32, 32])\n",
      "64 torch.Size([9, 3, 32, 32])\n",
      "65 torch.Size([13, 3, 32, 32])\n",
      "66 torch.Size([12, 3, 32, 32])\n",
      "67 torch.Size([9, 3, 32, 32])\n",
      "68 torch.Size([1, 3, 32, 32])\n",
      "69 torch.Size([15, 3, 32, 32])\n",
      "70 torch.Size([31, 3, 32, 32])\n",
      "71 torch.Size([13, 3, 32, 32])\n",
      "72 torch.Size([21, 3, 32, 32])\n",
      "73 torch.Size([5, 3, 32, 32])\n",
      "74 torch.Size([14, 3, 32, 32])\n",
      "75 torch.Size([6, 3, 32, 32])\n",
      "76 torch.Size([9, 3, 32, 32])\n",
      "77 torch.Size([12, 3, 32, 32])\n",
      "78 torch.Size([13, 3, 32, 32])\n",
      "79 torch.Size([12, 3, 32, 32])\n",
      "80 torch.Size([7, 3, 32, 32])\n",
      "81 torch.Size([12, 3, 32, 32])\n",
      "82 torch.Size([14, 3, 32, 32])\n",
      "83 torch.Size([0, 3, 32, 32])\n",
      "84 torch.Size([6, 3, 32, 32])\n",
      "85 torch.Size([14, 3, 32, 32])\n",
      "86 torch.Size([17, 3, 32, 32])\n",
      "87 torch.Size([8, 3, 32, 32])\n",
      "88 torch.Size([13, 3, 32, 32])\n",
      "89 torch.Size([27, 3, 32, 32])\n",
      "90 torch.Size([2, 3, 32, 32])\n",
      "91 torch.Size([4, 3, 32, 32])\n",
      "92 torch.Size([9, 3, 32, 32])\n",
      "93 torch.Size([8, 3, 32, 32])\n",
      "94 torch.Size([7, 3, 32, 32])\n",
      "95 torch.Size([5, 3, 32, 32])\n",
      "96 torch.Size([9, 3, 32, 32])\n",
      "97 torch.Size([4, 3, 32, 32])\n",
      "98 torch.Size([20, 3, 32, 32])\n",
      "99 torch.Size([20, 3, 32, 32])\n"
     ]
    }
   ],
   "source": [
    "xs = []\n",
    "for i in range(num_classes):\n",
    "#     print(i)\n",
    "    xs.append(x[pesudo_label == i].cpu())\n",
    "    print(i, xs[i].shape)\n",
    "    if xs[i].shape[0] > 0:\n",
    "        img = make_grid(xs[i], nrow=1)\n",
    "        save_image(img, 'difficulty/img_epoch_{}_{}.jpg'.format(now_epoch, i))"
   ]
  },
  {
   "cell_type": "code",
   "execution_count": 121,
   "id": "52b1f976",
   "metadata": {},
   "outputs": [],
   "source": [
    "# now_epoch = 10\n",
    "global_iter = now_epoch * 400\n",
    "lamda = datafree.datasets.utils.lambda_scheduler(1.0, global_iter, alpha=0.00002)\n",
    "g,v = datafree.datasets.utils.curr_v(l=torch.FloatTensor(diff), lamda=lamda, spl_type='log')\n",
    "diffs['epoch@{}'.format(now_epoch)] = v.numpy() * diff"
   ]
  },
  {
   "cell_type": "code",
   "execution_count": 122,
   "id": "ba9d1f54",
   "metadata": {},
   "outputs": [
    {
     "name": "stdout",
     "output_type": "stream",
     "text": [
      "20480 20480\n"
     ]
    },
    {
     "data": {
      "text/plain": [
       "<seaborn.axisgrid.FacetGrid at 0x7f83a1047910>"
      ]
     },
     "execution_count": 122,
     "metadata": {},
     "output_type": "execute_result"
    },
    {
     "data": {
      "application/pdf": "[encoded data removed]",
      "text/plain": [
       "<Figure size 455x360 with 1 Axes>"
      ]
     },
     "metadata": {
      "needs_background": "light"
     },
     "output_type": "display_data"
    }
   ],
   "source": [
    "print(len(diffs['epoch@10']), len(diffs['epoch@300']))\n",
    "ax = sns.displot(diffs, kind='kde')\n",
    "ax.set_xlabels('Difficulty', fontsize=12)\n",
    "# plt.savefig('difficulty/difficulty_wrn402_wrn162_cifar100.pdf')"
   ]
  },
  {
   "cell_type": "code",
   "execution_count": 123,
   "id": "85b1b9d6",
   "metadata": {},
   "outputs": [],
   "source": [
    "res_acc_dict = {\n",
    "    'method': ['cudfkd', 'cudfkd', 'cudfkd', 'teacher', 'adi', 'adi', 'adi', 'dafl', 'dafl', 'dafl', 'cmi', 'cmi', 'cmi'],\n",
    "    'acc@1': [95.24, 95.28, 95.15, 95.70],\n",
    "    'agree@1': [98.20, 98.19, 98.09, 100.00],\n",
    "    'prob_loyalty': [0.8909, 0.8903, 0.8898, 1.00],\n",
    "}"
   ]
  },
  {
   "cell_type": "code",
   "execution_count": 38,
   "id": "35c582fe",
   "metadata": {},
   "outputs": [
    {
     "data": {
      "application/pdf": "[encoded data removed]",
      "text/plain": [
       "<Figure size 432x288 with 2 Axes>"
      ]
     },
     "metadata": {
      "needs_background": "light"
     },
     "output_type": "display_data"
    }
   ],
   "source": [
    "fig, ax1 = plt.subplots()\n",
    "width = 0.4\n",
    "x1_list = []\n",
    "x2_list = []\n",
    "for i in range(adv_acc.shape[0]):\n",
    "    x1_list.append(i)\n",
    "    x2_list.append(i + width)\n",
    "\n",
    "# b1 = sns.lineplot(data=final_df, x=\"grad_of_adv\", y=\"acc@1\",color=sns.xkcd_rgb[\"pale red\"] )  \n",
    "b1, = plt.plot(final_df[\"grad_of_adv\"], final_df[\"acc@1\"], '-ro', label='Accuracy@1')\n",
    "\n",
    "# b1 = ax1.bar(x1_list, adv_acc, width=width, label='Acc@1', color=sns.xkcd_rgb[\"pale red\"], tick_label=grad_range)\n",
    "ax2 = ax1.twinx()\n",
    "b2, = plt.plot(final_df[\"grad_of_adv\"], final_df[\"agree@1\"], '-bo', label='Agreement@1')\n",
    "# plt.grid('off')\n",
    "# b2 = sns.lineplot(data=final_df, x=\"grad_of_adv\", y=\"agree@1\", color=sns.xkcd_rgb[\"denim blue\"])\n",
    "# b2 = ax2.bar(x2_list, adv_agg, width=width, label='Agree@1', color=sns.xkcd_rgb[\"denim blue\"], tick_label=grad_range)\n",
    "ax1.set_xlabel('grad of adv', fontsize=12)\n",
    "ax1.set_ylabel('Accuracy@1', fontsize=12)\n",
    "ax2.set_ylabel('Agreement@1', fontsize=12)\n",
    "ax1.set_ylim(74, 77)\n",
    "ax2.set_ylim(85, 87)\n",
    "axs = [b1, b2]\n",
    "lbs = [ax.get_label() for ax in axs]\n",
    "ax1.legend(axs, lbs)\n",
    "plt.savefig('grad_adv/acc_agg.pdf')\n",
    "# plt.legend(['a', 'b'])\n",
    "# plt.grid('off')"
   ]
  },
  {
   "cell_type": "code",
   "execution_count": 39,
   "id": "1e97fbb6",
   "metadata": {},
   "outputs": [
    {
     "data": {
      "application/pdf": "[encoded data removed]",
      "text/plain": [
       "<Figure size 432x288 with 1 Axes>"
      ]
     },
     "metadata": {
      "needs_background": "light"
     },
     "output_type": "display_data"
    }
   ],
   "source": [
    "plt.plot(final_df[\"grad_of_adv\"], final_df[\"loyalty\"], '-go', label=\"prob_loyalty\")\n",
    "plt.ylim(0.64, 0.66)\n",
    "x_ticks = final_df[\"grad_of_adv\"]\n",
    "y_ticks = np.arange(0.64, 0.66, 0.005)\n",
    "plt.xlabel('grad of adv', fontsize=14)\n",
    "plt.ylabel('probability loyalty', fontsize=14)\n",
    "plt.xticks(x_ticks, fontsize=12)\n",
    "plt.yticks(y_ticks, fontsize=12)\n",
    "plt.savefig('grad_adv/prob_loyalty.pdf')"
   ]
  },
  {
   "cell_type": "code",
   "execution_count": 25,
   "id": "6427a8cf",
   "metadata": {},
   "outputs": [],
   "source": [
    "curriculum_dict={\n",
    "    'method': ['teacher', 'None', 'hard', 'soft', 'log','teacher', 'None', 'hard', 'soft', 'log','teacher', 'None', 'hard', 'soft', 'log'],\n",
    "    'accuracy': [95.70, 93.24, 94.97, 95.01, 95.28, 100.00, 94.00, 97.71, 97.74, 98.13, 1.0000, 0.8202, 0.8813, 0.8786, 0.8909],\n",
    "    'metric': ['Acc@1','Acc@1','Acc@1','Acc@1','Acc@1','Agree@1','Agree@1','Agree@1','Agree@1','Agree@1','prob loyalty','prob loyalty','prob loyalty','prob loyalty','prob loyalty']\n",
    "}\n",
    "curr_df = pd.DataFrame(curriculum_dict)\n",
    "curr_df\n",
    "curr_dict={\n",
    "    'curriculum strategy': ['teacher', 'None', 'hard', 'soft', 'log'],\n",
    "    'Acc@1': [95.70, 93.24, 94.97, 95.01, 95.28],\n",
    "    'Agree@1': [100.00, 94.00, 97.71, 97.74, 98.13],\n",
    "    'probability loyalty': [1.0000, 0.8202, 0.8813, 0.8786, 0.8909]\n",
    "}\n",
    "curr_dfs = pd.DataFrame(curr_dict)\n",
    "\n",
    "if not os.path.exists('curr_strategy/'):\n",
    "    os.mkdir('curr_strategy/')"
   ]
  },
  {
   "cell_type": "code",
   "execution_count": 26,
   "id": "dcf5121e",
   "metadata": {},
   "outputs": [
    {
     "data": {
      "application/pdf": "[encoded data removed]",
      "text/plain": [
       "<Figure size 432x288 with 2 Axes>"
      ]
     },
     "metadata": {
      "needs_background": "light"
     },
     "output_type": "display_data"
    }
   ],
   "source": [
    "fig, ax1 = plt.subplots()\n",
    "width = 0.4\n",
    "x1_list = []\n",
    "x2_list = []\n",
    "for i in range(5):\n",
    "    x1_list.append(i)\n",
    "    x2_list.append(i + width)\n",
    "\n",
    "# b1 = sns.lineplot(data=final_df, x=\"grad_of_adv\", y=\"acc@1\",color=sns.xkcd_rgb[\"pale red\"] )  \n",
    "# b1, = plt.plot(final_df[\"grad_of_adv\"], final_df[\"acc@1\"], '-ro', label='Accuracy@1')\n",
    "# b1 = sns.barplot(data=curriculum_dict, x='method', y='accuracy', color=sns.xkcd_rgb[\"pale red\"])\n",
    "b1 = ax1.bar(x1_list, curr_df['accuracy'][:5], width=width, label='Acc@1', color=sns.xkcd_rgb[\"pale red\"], tick_label=curriculum_dict['method'][:5])\n",
    "ax2 = ax1.twinx()\n",
    "# b2, = plt.plot(final_df[\"grad_of_adv\"], final_df[\"agree@1\"], '-bo', label='Agreement@1')\n",
    "# plt.grid('off')\n",
    "# b2 = sns.lineplot(data=final_df, x=\"grad_of_adv\", y=\"agree@1\", color=sns.xkcd_rgb[\"denim blue\"])\n",
    "b2 = ax2.bar(x2_list, curr_df['accuracy'][5:10], width=width, label='Agree@1', color=sns.xkcd_rgb[\"denim blue\"], tick_label=curriculum_dict['method'][:5])\n",
    "# ax2 = ax1.twinx()\n",
    "# b2 = sns.barplot(data=curriculum_dict, x='method', y='Agree@1', color=sns.xkcd_rgb[\"denim blue\"])\n",
    "ax1.set_xlabel('Curriculum strategy', fontsize=14)\n",
    "ax1.set_ylabel('Accuracy@1', fontsize=14)\n",
    "ax2.set_ylabel('Agreement@1', fontsize=14)\n",
    "ax1.set_ylim(93, 96)\n",
    "ax2.set_ylim(92, 101)\n",
    "# ax2.set_yticklabels(np.arange(92, 101, 2))\n",
    "axs = [b1, b2]\n",
    "lbs = [ax.get_label() for ax in axs]\n",
    "# ax1.legend()\n",
    "ax1.legend(axs, lbs)\n",
    "plt.savefig('curr_strategy/acc_agg.pdf')"
   ]
  },
  {
   "cell_type": "code",
   "execution_count": 22,
   "id": "dd53e82e",
   "metadata": {},
   "outputs": [
    {
     "data": {
      "application/pdf": "[encoded data removed]",
      "text/plain": [
       "<Figure size 432x288 with 1 Axes>"
      ]
     },
     "metadata": {
      "needs_background": "light"
     },
     "output_type": "display_data"
    }
   ],
   "source": [
    "# plt.bar(x1_list, curr_df['accuracy'][-5:], width=width, label='prob_loyalty', color=sns.xkcd_rgb[\"dark green\"], tick_label=['teacher', 'None', 'hard', 'soft', 'log'])\n",
    "ax = sns.barplot(data=curr_dfs, x='curriculum strategy', y='probability loyalty', color=sns.xkcd_rgb[\"green\"])\n",
    "plt.ylim(0.8, 1.01)\n",
    "# x_ticks = final_df[\"grad_of_adv\"]\n",
    "# x_ticks = ['teacher', 'None', 'hard', 'soft', 'log']\n",
    "# y_ticks = np.arange(0.8, 1.01, 0.05)\n",
    "plt.xlabel('curriculum strategy', fontsize=14)\n",
    "plt.ylabel('probability loyalty', fontsize=14)\n",
    "# plt.xticks(x_ticks, fontsize=12)\n",
    "# plt.yticks(y_ticks, fontsize=12)\n",
    "# plt.legend()\n",
    "plt.savefig('curr_strategy/prob_loyalty.pdf')"
   ]
  },
  {
   "cell_type": "code",
   "execution_count": 47,
   "id": "52eda08d",
   "metadata": {},
   "outputs": [],
   "source": [
    "if not os.path.exists('T/'):\n",
    "    os.mkdir('T/')\n",
    "T_dict = {\n",
    "    'T': [4, 5, 8, 10, 12, 15, 18, 20],\n",
    "    'accuracy@1': [94.96, 95.01,94.94,94.93,94.97, 95.03, 94.94, 95.28],\n",
    "    'agreement@1': [97.86, 97.64, 97.79, 97.63, 97.60, 97.69, 97.74, 98.20],\n",
    "    'prob_loyalty': [0.8777, 0.8774, 0.8807, 0.8739, 0.8771, 0.8801, 0.8793, 0.8909]\n",
    "    \n",
    "}\n"
   ]
  },
  {
   "cell_type": "code",
   "execution_count": 50,
   "id": "c00abbf4",
   "metadata": {},
   "outputs": [
    {
     "data": {
      "application/pdf": "[encoded data removed]",
      "text/plain": [
       "<Figure size 432x288 with 2 Axes>"
      ]
     },
     "metadata": {
      "needs_background": "light"
     },
     "output_type": "display_data"
    }
   ],
   "source": [
    "fig, ax1 = plt.subplots()\n",
    "width = 0.4\n",
    "x1_list = []\n",
    "x2_list = []\n",
    "for i in range(adv_acc.shape[0]):\n",
    "    x1_list.append(i)\n",
    "    x2_list.append(i + width)\n",
    "\n",
    "# b1 = sns.lineplot(data=final_df, x=\"grad_of_adv\", y=\"acc@1\",color=sns.xkcd_rgb[\"pale red\"] )  \n",
    "b1, = plt.plot(T_dict[\"T\"], T_dict['accuracy@1'], '-ro', label='Accuracy@1')\n",
    "\n",
    "# b1 = ax1.bar(x1_list, adv_acc, width=width, label='Acc@1', color=sns.xkcd_rgb[\"pale red\"], tick_label=grad_range)\n",
    "ax2 = ax1.twinx()\n",
    "b2, = plt.plot(T_dict[\"T\"], T_dict['agreement@1'], '-bo', label='Agreement@1')\n",
    "# plt.grid('off')\n",
    "# b2 = sns.lineplot(data=final_df, x=\"grad_of_adv\", y=\"agree@1\", color=sns.xkcd_rgb[\"denim blue\"])\n",
    "# b2 = ax2.bar(x2_list, adv_agg, width=width, label='Agree@1', color=sns.xkcd_rgb[\"denim blue\"], tick_label=grad_range)\n",
    "ax1.set_xlabel('T', fontsize=12)\n",
    "ax1.set_ylabel('Accuracy@1', fontsize=12)\n",
    "ax2.set_ylabel('Agreement@1', fontsize=12)\n",
    "ax1.set_ylim(94, 95.5)\n",
    "ax2.set_ylim(97, 99)\n",
    "axs = [b1, b2]\n",
    "lbs = [ax.get_label() for ax in axs]\n",
    "ax1.legend(axs, lbs)\n",
    "plt.savefig('T/acc_agg.pdf')"
   ]
  },
  {
   "cell_type": "code",
   "execution_count": 54,
   "id": "36d5a48a",
   "metadata": {},
   "outputs": [
    {
     "data": {
      "application/pdf": "[encoded data removed]",
      "text/plain": [
       "<Figure size 432x288 with 1 Axes>"
      ]
     },
     "metadata": {
      "needs_background": "light"
     },
     "output_type": "display_data"
    }
   ],
   "source": [
    "plt.plot(T_dict[\"T\"], T_dict[\"prob_loyalty\"], '-go', label=\"prob_loyalty\")\n",
    "plt.ylim(0.87, 0.9)\n",
    "x_ticks = np.arange(4, 21, 4)\n",
    "y_ticks = np.arange(0.87, 0.9, 0.005)\n",
    "plt.xlabel('T', fontsize=14)\n",
    "plt.ylabel('probability loyalty', fontsize=14)\n",
    "plt.xticks(x_ticks, fontsize=12)\n",
    "plt.yticks(y_ticks, fontsize=12)\n",
    "plt.savefig('T/prob_loyalty.pdf')"
   ]
  },
  {
   "cell_type": "code",
   "execution_count": 50,
   "id": "586559ac",
   "metadata": {},
   "outputs": [],
   "source": [
    "if not os.path.exists('lambda_0/'):\n",
    "    os.mkdir('lambda_0/')\n",
    "lambda_0_dict = {\n",
    "    'lambda_0': [2, 2.2, 2.5, 2.8],\n",
    "    'accuracy@1': [93.34,93.24,93.17,93.10],\n",
    "    'agreement@1': [94.15, 94.02, 93.92, 93.97],\n",
    "    'loyalty': [0.8183, 0.8176, 0.8173, 0.8170],\n",
    "    'curriculum': ['logarithm', 'logarithm', 'logarithm', 'logarithm']\n",
    "}\n",
    "\n"
   ]
  },
  {
   "cell_type": "code",
   "execution_count": 52,
   "id": "701b42ac",
   "metadata": {},
   "outputs": [
    {
     "data": {
      "application/pdf": "[encoded data removed]",
      "text/plain": [
       "<Figure size 432x288 with 2 Axes>"
      ]
     },
     "metadata": {
      "needs_background": "light"
     },
     "output_type": "display_data"
    }
   ],
   "source": [
    "fig, ax1 = plt.subplots()\n",
    "# width = 0.4\n",
    "# x1_list = []\n",
    "# x2_list = []\n",
    "# for i in range(adv_acc.shape[0]):\n",
    "#     x1_list.append(i)\n",
    "#     x2_list.append(i + width)\n",
    "\n",
    "# b1 = sns.lineplot(data=final_df, x=\"grad_of_adv\", y=\"acc@1\",color=sns.xkcd_rgb[\"pale red\"] )  \n",
    "b1, = plt.plot(lambda_0_dict[\"lambda_0\"], lambda_0_dict['accuracy@1'], '-ro', label='Accuracy@1')\n",
    "\n",
    "# b1 = ax1.bar(x1_list, adv_acc, width=width, label='Acc@1', color=sns.xkcd_rgb[\"pale red\"], tick_label=grad_range)\n",
    "ax2 = ax1.twinx()\n",
    "b2, = plt.plot(lambda_0_dict[\"lambda_0\"], lambda_0_dict['agreement@1'], '-bo', label='Agreement@1')\n",
    "# plt.grid('off')\n",
    "# b2 = sns.lineplot(data=final_df, x=\"grad_of_adv\", y=\"agree@1\", color=sns.xkcd_rgb[\"denim blue\"])\n",
    "# b2 = ax2.bar(x2_list, adv_agg, width=width, label='Agree@1', color=sns.xkcd_rgb[\"denim blue\"], tick_label=grad_range)\n",
    "ax1.set_xlabel('lambda_0', fontsize=12)\n",
    "ax1.set_ylabel('Accuracy@1', fontsize=12)\n",
    "ax2.set_ylabel('Agreement@1', fontsize=12)\n",
    "ax1.set_ylim(93, 93.5)\n",
    "ax2.set_ylim(93.8, 94.2)\n",
    "axs = [b1, b2]\n",
    "lbs = [ax.get_label() for ax in axs]\n",
    "ax1.legend(axs, lbs)\n",
    "plt.savefig('lambda_0/acc_agg.pdf')"
   ]
  },
  {
   "cell_type": "code",
   "execution_count": 53,
   "id": "371357ce",
   "metadata": {
    "scrolled": true
   },
   "outputs": [
    {
     "data": {
      "application/pdf": "[encoded data removed]",
      "text/plain": [
       "<Figure size 432x288 with 1 Axes>"
      ]
     },
     "metadata": {
      "needs_background": "light"
     },
     "output_type": "display_data"
    }
   ],
   "source": [
    "plt.plot(lambda_0_dict[\"lambda_0\"], lambda_0_dict[\"loyalty\"], '-go', label=\"prob_loyalty\")\n",
    "plt.ylim(0.815, 0.82)\n",
    "x_ticks = np.arange(2, 3, 0.2)\n",
    "y_ticks = np.arange(0.815, 0.82, 0.001)\n",
    "plt.xlabel('lambda_0', fontsize=14)\n",
    "plt.ylabel('probability loyalty', fontsize=14)\n",
    "plt.xticks(x_ticks, fontsize=12)\n",
    "plt.yticks(y_ticks, fontsize=12)\n",
    "plt.savefig('lambda_0/prob_loyalty.pdf')"
   ]
  },
  {
   "cell_type": "code",
   "execution_count": 11,
   "id": "bfc11085",
   "metadata": {},
   "outputs": [
    {
     "data": {
      "text/html": [
       "<div>\n",
       "<style scoped>\n",
       "    .dataframe tbody tr th:only-of-type {\n",
       "        vertical-align: middle;\n",
       "    }\n",
       "\n",
       "    .dataframe tbody tr th {\n",
       "        vertical-align: top;\n",
       "    }\n",
       "\n",
       "    .dataframe thead th {\n",
       "        text-align: right;\n",
       "    }\n",
       "</style>\n",
       "<table border=\"1\" class=\"dataframe\">\n",
       "  <thead>\n",
       "    <tr style=\"text-align: right;\">\n",
       "      <th></th>\n",
       "      <th>method</th>\n",
       "      <th>acc@1</th>\n",
       "      <th>type</th>\n",
       "      <th>agree@1</th>\n",
       "      <th>loyalty</th>\n",
       "    </tr>\n",
       "  </thead>\n",
       "  <tbody>\n",
       "    <tr>\n",
       "      <th>0</th>\n",
       "      <td>teacher</td>\n",
       "      <td>95.70</td>\n",
       "      <td>clean</td>\n",
       "      <td>100.00</td>\n",
       "      <td>1.0000</td>\n",
       "    </tr>\n",
       "    <tr>\n",
       "      <th>1</th>\n",
       "      <td>teacher</td>\n",
       "      <td>94.07</td>\n",
       "      <td>noisy</td>\n",
       "      <td>100.00</td>\n",
       "      <td>1.0000</td>\n",
       "    </tr>\n",
       "    <tr>\n",
       "      <th>2</th>\n",
       "      <td>cudfkd</td>\n",
       "      <td>95.28</td>\n",
       "      <td>clean</td>\n",
       "      <td>98.19</td>\n",
       "      <td>0.8909</td>\n",
       "    </tr>\n",
       "    <tr>\n",
       "      <th>3</th>\n",
       "      <td>cudfkd</td>\n",
       "      <td>93.24</td>\n",
       "      <td>noisy</td>\n",
       "      <td>97.25</td>\n",
       "      <td>0.9002</td>\n",
       "    </tr>\n",
       "    <tr>\n",
       "      <th>4</th>\n",
       "      <td>cmi</td>\n",
       "      <td>94.84</td>\n",
       "      <td>clean</td>\n",
       "      <td>96.46</td>\n",
       "      <td>0.8747</td>\n",
       "    </tr>\n",
       "    <tr>\n",
       "      <th>5</th>\n",
       "      <td>cmi</td>\n",
       "      <td>91.97</td>\n",
       "      <td>noisy</td>\n",
       "      <td>94.99</td>\n",
       "      <td>0.8700</td>\n",
       "    </tr>\n",
       "    <tr>\n",
       "      <th>6</th>\n",
       "      <td>dafl</td>\n",
       "      <td>91.45</td>\n",
       "      <td>clean</td>\n",
       "      <td>93.20</td>\n",
       "      <td>0.7686</td>\n",
       "    </tr>\n",
       "    <tr>\n",
       "      <th>7</th>\n",
       "      <td>dafl</td>\n",
       "      <td>81.66</td>\n",
       "      <td>noisy</td>\n",
       "      <td>83.85</td>\n",
       "      <td>0.6521</td>\n",
       "    </tr>\n",
       "    <tr>\n",
       "      <th>8</th>\n",
       "      <td>adi</td>\n",
       "      <td>93.26</td>\n",
       "      <td>clean</td>\n",
       "      <td>95.33</td>\n",
       "      <td>0.8478</td>\n",
       "    </tr>\n",
       "    <tr>\n",
       "      <th>9</th>\n",
       "      <td>adi</td>\n",
       "      <td>90.38</td>\n",
       "      <td>noisy</td>\n",
       "      <td>92.88</td>\n",
       "      <td>0.8247</td>\n",
       "    </tr>\n",
       "    <tr>\n",
       "      <th>10</th>\n",
       "      <td>adi</td>\n",
       "      <td>90.36</td>\n",
       "      <td>noisy</td>\n",
       "      <td>92.90</td>\n",
       "      <td>0.8235</td>\n",
       "    </tr>\n",
       "    <tr>\n",
       "      <th>11</th>\n",
       "      <td>adi</td>\n",
       "      <td>90.17</td>\n",
       "      <td>noisy</td>\n",
       "      <td>92.92</td>\n",
       "      <td>0.8245</td>\n",
       "    </tr>\n",
       "    <tr>\n",
       "      <th>12</th>\n",
       "      <td>cudfkd</td>\n",
       "      <td>95.24</td>\n",
       "      <td>clean</td>\n",
       "      <td>98.20</td>\n",
       "      <td>0.8915</td>\n",
       "    </tr>\n",
       "    <tr>\n",
       "      <th>13</th>\n",
       "      <td>cudfkd</td>\n",
       "      <td>95.15</td>\n",
       "      <td>clean</td>\n",
       "      <td>98.09</td>\n",
       "      <td>0.8897</td>\n",
       "    </tr>\n",
       "    <tr>\n",
       "      <th>14</th>\n",
       "      <td>dafl</td>\n",
       "      <td>82.89</td>\n",
       "      <td>noisy</td>\n",
       "      <td>85.03</td>\n",
       "      <td>0.6803</td>\n",
       "    </tr>\n",
       "    <tr>\n",
       "      <th>15</th>\n",
       "      <td>dafl</td>\n",
       "      <td>81.86</td>\n",
       "      <td>noisy</td>\n",
       "      <td>83.55</td>\n",
       "      <td>0.6527</td>\n",
       "    </tr>\n",
       "    <tr>\n",
       "      <th>16</th>\n",
       "      <td>cmi</td>\n",
       "      <td>91.95</td>\n",
       "      <td>noisy</td>\n",
       "      <td>94.98</td>\n",
       "      <td>0.8701</td>\n",
       "    </tr>\n",
       "    <tr>\n",
       "      <th>17</th>\n",
       "      <td>cmi</td>\n",
       "      <td>91.85</td>\n",
       "      <td>noisy</td>\n",
       "      <td>95.10</td>\n",
       "      <td>0.8711</td>\n",
       "    </tr>\n",
       "    <tr>\n",
       "      <th>18</th>\n",
       "      <td>adi</td>\n",
       "      <td>93.18</td>\n",
       "      <td>clean</td>\n",
       "      <td>95.23</td>\n",
       "      <td>0.8501</td>\n",
       "    </tr>\n",
       "    <tr>\n",
       "      <th>19</th>\n",
       "      <td>adi</td>\n",
       "      <td>93.36</td>\n",
       "      <td>clean</td>\n",
       "      <td>95.34</td>\n",
       "      <td>0.8499</td>\n",
       "    </tr>\n",
       "    <tr>\n",
       "      <th>20</th>\n",
       "      <td>cmi</td>\n",
       "      <td>94.56</td>\n",
       "      <td>clean</td>\n",
       "      <td>96.96</td>\n",
       "      <td>0.8849</td>\n",
       "    </tr>\n",
       "    <tr>\n",
       "      <th>21</th>\n",
       "      <td>cmi</td>\n",
       "      <td>94.63</td>\n",
       "      <td>clean</td>\n",
       "      <td>96.85</td>\n",
       "      <td>0.8833</td>\n",
       "    </tr>\n",
       "    <tr>\n",
       "      <th>22</th>\n",
       "      <td>dafl</td>\n",
       "      <td>89.41</td>\n",
       "      <td>clean</td>\n",
       "      <td>91.06</td>\n",
       "      <td>0.7298</td>\n",
       "    </tr>\n",
       "    <tr>\n",
       "      <th>23</th>\n",
       "      <td>dafl</td>\n",
       "      <td>89.04</td>\n",
       "      <td>clean</td>\n",
       "      <td>90.69</td>\n",
       "      <td>0.7336</td>\n",
       "    </tr>\n",
       "    <tr>\n",
       "      <th>24</th>\n",
       "      <td>cudfkd</td>\n",
       "      <td>93.38</td>\n",
       "      <td>noisy</td>\n",
       "      <td>97.69</td>\n",
       "      <td>0.9063</td>\n",
       "    </tr>\n",
       "    <tr>\n",
       "      <th>25</th>\n",
       "      <td>cudfkd</td>\n",
       "      <td>93.30</td>\n",
       "      <td>noisy</td>\n",
       "      <td>97.27</td>\n",
       "      <td>0.8998</td>\n",
       "    </tr>\n",
       "  </tbody>\n",
       "</table>\n",
       "</div>"
      ],
      "text/plain": [
       "     method  acc@1   type  agree@1  loyalty\n",
       "0   teacher  95.70  clean   100.00   1.0000\n",
       "1   teacher  94.07  noisy   100.00   1.0000\n",
       "2    cudfkd  95.28  clean    98.19   0.8909\n",
       "3    cudfkd  93.24  noisy    97.25   0.9002\n",
       "4       cmi  94.84  clean    96.46   0.8747\n",
       "5       cmi  91.97  noisy    94.99   0.8700\n",
       "6      dafl  91.45  clean    93.20   0.7686\n",
       "7      dafl  81.66  noisy    83.85   0.6521\n",
       "8       adi  93.26  clean    95.33   0.8478\n",
       "9       adi  90.38  noisy    92.88   0.8247\n",
       "10      adi  90.36  noisy    92.90   0.8235\n",
       "11      adi  90.17  noisy    92.92   0.8245\n",
       "12   cudfkd  95.24  clean    98.20   0.8915\n",
       "13   cudfkd  95.15  clean    98.09   0.8897\n",
       "14     dafl  82.89  noisy    85.03   0.6803\n",
       "15     dafl  81.86  noisy    83.55   0.6527\n",
       "16      cmi  91.95  noisy    94.98   0.8701\n",
       "17      cmi  91.85  noisy    95.10   0.8711\n",
       "18      adi  93.18  clean    95.23   0.8501\n",
       "19      adi  93.36  clean    95.34   0.8499\n",
       "20      cmi  94.56  clean    96.96   0.8849\n",
       "21      cmi  94.63  clean    96.85   0.8833\n",
       "22     dafl  89.41  clean    91.06   0.7298\n",
       "23     dafl  89.04  clean    90.69   0.7336\n",
       "24   cudfkd  93.38  noisy    97.69   0.9063\n",
       "25   cudfkd  93.30  noisy    97.27   0.8998"
      ]
     },
     "execution_count": 11,
     "metadata": {},
     "output_type": "execute_result"
    }
   ],
   "source": [
    "import pandas as pd\n",
    "import seaborn as sns\n",
    "import matplotlib.pyplot as plt\n",
    "%matplotlib inline\n",
    "%config InlineBackend.figure_format = 'pdf'\n",
    "res_dict_below = {\n",
    "    'method': ['teacher', 'teacher', 'cudfkd', 'cudfkd', 'cmi', 'cmi', 'dafl', 'dafl', 'adi', 'adi', 'adi', 'adi', 'cudfkd', 'cudfkd', 'dafl', 'dafl', 'cmi', 'cmi', 'adi', 'adi', 'cmi', 'cmi', 'dafl', 'dafl', 'cudfkd', 'cudfkd'],\n",
    "    'acc@1': [95.70, 94.07, 95.28, 93.24, 94.84, 91.97, 91.45 , 81.66, 93.26, 90.38, 90.36, 90.17, 95.24, 95.15, 82.89, 81.86, 91.95, 91.85,  93.18, 93.36,94.56, 94.63, 89.41, 89.04, 93.38, 93.30],\n",
    "    'type': ['clean', 'noisy', 'clean', 'noisy','clean', 'noisy','clean', 'noisy','clean', 'noisy', 'noisy', 'noisy', 'clean', 'clean', 'noisy', 'noisy', 'noisy', 'noisy', 'clean', 'clean', 'clean', 'clean', 'clean', 'clean', 'noisy', 'noisy'],\n",
    "    'agree@1':[100.00, 100.00, 98.19, 97.25, 96.46, 94.99, 93.20, 83.85, 95.33, 92.88, 92.90, 92.92 , 98.20, 98.09, 85.03, 83.55, 94.98, 95.10,  95.23, 95.34, 96.96, 96.85,91.06, 90.69, 97.69, 97.27],\n",
    "    'loyalty':[1.0000, 1.0000, 0.8909, 0.9002, 0.8747, 0.8700, 0.7686, 0.6521, 0.8478, 0.8247, 0.8235, 0.8245, 0.8915, 0.8897, 0.6803, 0.6527, 0.8701, 0.8711,  0.8501,0.8499,0.8849, 0.8833, 0.7298, 0.7336, 0.9063, 0.8998],\n",
    "}\n",
    "\n",
    "noisy_df = pd.DataFrame(data=res_dict_below)\n",
    "noisy_df"
   ]
  },
  {
   "cell_type": "code",
   "execution_count": 12,
   "id": "0de8447c",
   "metadata": {
    "scrolled": true
   },
   "outputs": [
    {
     "data": {
      "application/pdf": "[encoded data removed]",
      "text/plain": [
       "<Figure size 432x288 with 1 Axes>"
      ]
     },
     "metadata": {
      "needs_background": "light"
     },
     "output_type": "display_data"
    }
   ],
   "source": [
    "# noisy_df.columns\n",
    "import os\n",
    "if not os.path.exists('noisy/'):\n",
    "    os.mkdir('noisy/')\n",
    "ax= sns.barplot(data=noisy_df, x='method', y='acc@1', hue='type')\n",
    "ax.set_ylim(80, 100)\n",
    "ax.legend(loc='upper right')\n",
    "plt.savefig('noisy/acc.pdf')"
   ]
  },
  {
   "cell_type": "code",
   "execution_count": 13,
   "id": "c11d9dd7",
   "metadata": {},
   "outputs": [
    {
     "data": {
      "application/pdf": "[encoded data removed]",
      "text/plain": [
       "<Figure size 432x288 with 1 Axes>"
      ]
     },
     "metadata": {
      "needs_background": "light"
     },
     "output_type": "display_data"
    }
   ],
   "source": [
    "ax = sns.barplot(data=noisy_df, x='method', y='agree@1', hue='type',palette=\"Set2\")\n",
    "ax.set_ylim(80, 100)\n",
    "ax.legend(loc='upper right')\n",
    "plt.savefig('noisy/agg.pdf')"
   ]
  },
  {
   "cell_type": "code",
   "execution_count": 14,
   "id": "a07d392f",
   "metadata": {},
   "outputs": [
    {
     "data": {
      "application/pdf": "[encoded data removed]",
      "text/plain": [
       "<Figure size 432x288 with 1 Axes>"
      ]
     },
     "metadata": {
      "needs_background": "light"
     },
     "output_type": "display_data"
    }
   ],
   "source": [
    "ax = sns.barplot(data=noisy_df, x='method', y='loyalty', hue='type', palette=\"Set2_r\")\n",
    "ax.set_ylim(0.6, 1)\n",
    "ax.legend(loc='upper right')\n",
    "plt.savefig('noisy/loyalty.pdf')"
   ]
  },
  {
   "cell_type": "code",
   "execution_count": null,
   "id": "fe189aa3",
   "metadata": {},
   "outputs": [],
   "source": []
  }
 ],
 "metadata": {
  "kernelspec": {
   "display_name": "Python 3",
   "language": "python",
   "name": "python3"
  },
  "language_info": {
   "codemirror_mode": {
    "name": "ipython",
    "version": 3
   },
   "file_extension": ".py",
   "mimetype": "text/x-python",
   "name": "python",
   "nbconvert_exporter": "python",
   "pygments_lexer": "ipython3",
   "version": "3.8.8"
  }
 },
 "nbformat": 4,
 "nbformat_minor": 5
}
