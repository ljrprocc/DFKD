{
 "cells": [
  {
   "cell_type": "code",
   "execution_count": 9,
   "id": "634f45ac",
   "metadata": {},
   "outputs": [],
   "source": [
    "import torch\n",
    "import numpy as np\n",
    "from scipy.spatial import distance\n",
    "import os\n",
    "import pandas as pd\n",
    "\n",
    "import sys\n",
    "sys.path.append('..')\n",
    "import registry\n",
    "import datafree\n",
    "import matplotlib.pyplot as plt\n",
    "%matplotlib inline\n",
    "%config InlineBackend.figure_format = 'pdf'"
   ]
  },
  {
   "cell_type": "code",
   "execution_count": 10,
   "id": "ca31aa4c",
   "metadata": {
    "scrolled": true
   },
   "outputs": [
    {
     "name": "stdout",
     "output_type": "stream",
     "text": [
      "Sat Feb  4 04:11:12 2023       \n",
      "+-----------------------------------------------------------------------------+\n",
      "| NVIDIA-SMI 510.60.02    Driver Version: 510.60.02    CUDA Version: 11.6     |\n",
      "|-------------------------------+----------------------+----------------------+\n",
      "| GPU  Name        Persistence-M| Bus-Id        Disp.A | Volatile Uncorr. ECC |\n",
      "| Fan  Temp  Perf  Pwr:Usage/Cap|         Memory-Usage | GPU-Util  Compute M. |\n",
      "|                               |                      |               MIG M. |\n",
      "|===============================+======================+======================|\n",
      "|   0  NVIDIA GeForce ...  Off  | 00000000:05:00.0 Off |                  N/A |\n",
      "| 57%   57C    P2   250W / 350W |  18543MiB / 24576MiB |     67%      Default |\n",
      "|                               |                      |                  N/A |\n",
      "+-------------------------------+----------------------+----------------------+\n",
      "|   1  NVIDIA GeForce ...  Off  | 00000000:09:00.0 Off |                  N/A |\n",
      "| 60%   58C    P2   266W / 350W |  18545MiB / 24576MiB |     68%      Default |\n",
      "|                               |                      |                  N/A |\n",
      "+-------------------------------+----------------------+----------------------+\n",
      "|   2  NVIDIA GeForce ...  Off  | 00000000:0A:00.0 Off |                  N/A |\n",
      "| 97%   70C    P2   333W / 350W |  15453MiB / 24576MiB |    100%      Default |\n",
      "|                               |                      |                  N/A |\n",
      "+-------------------------------+----------------------+----------------------+\n",
      "|   3  NVIDIA GeForce ...  Off  | 00000000:82:00.0 Off |                  N/A |\n",
      "| 73%   68C    P2   340W / 350W |  20182MiB / 24576MiB |    100%      Default |\n",
      "|                               |                      |                  N/A |\n",
      "+-------------------------------+----------------------+----------------------+\n",
      "|   4  NVIDIA GeForce ...  Off  | 00000000:85:00.0 Off |                  N/A |\n",
      "| 71%   64C    P2   338W / 350W |  15453MiB / 24576MiB |    100%      Default |\n",
      "|                               |                      |                  N/A |\n",
      "+-------------------------------+----------------------+----------------------+\n",
      "|   5  NVIDIA GeForce ...  Off  | 00000000:89:00.0 Off |                  N/A |\n",
      "| 77%   67C    P2   340W / 350W |  15453MiB / 24576MiB |    100%      Default |\n",
      "|                               |                      |                  N/A |\n",
      "+-------------------------------+----------------------+----------------------+\n",
      "                                                                               \n",
      "+-----------------------------------------------------------------------------+\n",
      "| Processes:                                                                  |\n",
      "|  GPU   GI   CI        PID   Type   Process name                  GPU Memory |\n",
      "|        ID   ID                                                   Usage      |\n",
      "|=============================================================================|\n",
      "|    0   N/A  N/A      2419      C   python                          18541MiB |\n",
      "|    1   N/A  N/A      3438      C   python                          18543MiB |\n",
      "|    2   N/A  N/A     21704      C   python                          15451MiB |\n",
      "|    3   N/A  N/A      5638      C   python                          15451MiB |\n",
      "|    3   N/A  N/A      9513      C   python                           4729MiB |\n",
      "|    4   N/A  N/A     21299      C   python                          15451MiB |\n",
      "|    5   N/A  N/A     20971      C   python                          15451MiB |\n",
      "+-----------------------------------------------------------------------------+\n"
     ]
    }
   ],
   "source": [
    "!nvidia-smi"
   ]
  },
  {
   "cell_type": "code",
   "execution_count": 11,
   "id": "f679fa80",
   "metadata": {},
   "outputs": [],
   "source": [
    "# CIFAR10 convergence\n",
    "log_files = [\n",
    "    '../checkpoints/datafree-cudfkd/log-cifar10-vgg11-resnet18-cudfkd_L2_line91_dfq_agg.txt',\n",
    "    '/data/lijingru/DataFree/checkpoints/datafree-probkd/log-cifar10-vgg11-resnet18-probkd_L2_line81_dfq.txt',\n",
    "    '../checkpoints/datafree-cudfkd/log-cifar10-vgg11-resnet18-cudfkd_L2_line91_dfq_agg_random2.txt'\n",
    "]"
   ]
  },
  {
   "cell_type": "code",
   "execution_count": null,
   "id": "f4cee4e0",
   "metadata": {},
   "outputs": [],
   "source": []
  },
  {
   "cell_type": "code",
   "execution_count": 12,
   "id": "cfa52e9e",
   "metadata": {},
   "outputs": [],
   "source": [
    "def get_res_dict(file):\n",
    "    f = open(file).readlines()\n",
    "    res_dict = {}\n",
    "    for logs in f:\n",
    "        lines = logs.strip()\n",
    "    #     print(lines.split(' ')[3])\n",
    "        if lines.split(' ')[4] == '[Eval]':\n",
    "            if lines.split(' ')[6].startswith('Acc'):\n",
    "                epoch = int(lines.split(' ')[5].split('=')[-1])\n",
    "                acc = float(lines.split(' ')[6].split('=')[-1])\n",
    "                res_dict[epoch] = acc\n",
    "    return res_dict"
   ]
  },
  {
   "cell_type": "code",
   "execution_count": 13,
   "id": "0d6fd532",
   "metadata": {},
   "outputs": [
    {
     "data": {
      "text/html": [
       "<div>\n",
       "<style scoped>\n",
       "    .dataframe tbody tr th:only-of-type {\n",
       "        vertical-align: middle;\n",
       "    }\n",
       "\n",
       "    .dataframe tbody tr th {\n",
       "        vertical-align: top;\n",
       "    }\n",
       "\n",
       "    .dataframe thead th {\n",
       "        text-align: right;\n",
       "    }\n",
       "</style>\n",
       "<table border=\"1\" class=\"dataframe\">\n",
       "  <thead>\n",
       "    <tr style=\"text-align: right;\">\n",
       "      <th></th>\n",
       "      <th>epoch</th>\n",
       "      <th>acc</th>\n",
       "      <th>method</th>\n",
       "    </tr>\n",
       "  </thead>\n",
       "  <tbody>\n",
       "    <tr>\n",
       "      <th>0</th>\n",
       "      <td>0</td>\n",
       "      <td>27.17</td>\n",
       "      <td>CuDFKD</td>\n",
       "    </tr>\n",
       "    <tr>\n",
       "      <th>1</th>\n",
       "      <td>1</td>\n",
       "      <td>49.53</td>\n",
       "      <td>CuDFKD</td>\n",
       "    </tr>\n",
       "    <tr>\n",
       "      <th>2</th>\n",
       "      <td>2</td>\n",
       "      <td>59.76</td>\n",
       "      <td>CuDFKD</td>\n",
       "    </tr>\n",
       "    <tr>\n",
       "      <th>3</th>\n",
       "      <td>3</td>\n",
       "      <td>68.82</td>\n",
       "      <td>CuDFKD</td>\n",
       "    </tr>\n",
       "    <tr>\n",
       "      <th>4</th>\n",
       "      <td>4</td>\n",
       "      <td>72.32</td>\n",
       "      <td>CuDFKD</td>\n",
       "    </tr>\n",
       "  </tbody>\n",
       "</table>\n",
       "</div>"
      ],
      "text/plain": [
       "   epoch    acc  method\n",
       "0      0  27.17  CuDFKD\n",
       "1      1  49.53  CuDFKD\n",
       "2      2  59.76  CuDFKD\n",
       "3      3  68.82  CuDFKD\n",
       "4      4  72.32  CuDFKD"
      ]
     },
     "execution_count": 13,
     "metadata": {},
     "output_type": "execute_result"
    }
   ],
   "source": [
    "import numpy as np\n",
    "import pandas as pd\n",
    "res_dicts_currkd = []\n",
    "dfs = []\n",
    "for f in log_files:\n",
    "    res_dict = get_res_dict(f)\n",
    "    real_res_dict = {'epoch': list(res_dict.keys()), 'acc': list(res_dict.values()), 'method': ['CuDFKD' for _ in range(len(res_dict))]}\n",
    "    dfa = pd.DataFrame(data=real_res_dict)\n",
    "    dfs.append(dfa)\n",
    "    values = list(res_dict.values())\n",
    "    res_dicts_currkd.append(np.array(values))\n",
    "#     epochs.append()\n",
    "df_currkd = pd.concat(dfs)\n",
    "df_currkd.head()"
   ]
  },
  {
   "cell_type": "code",
   "execution_count": 14,
   "id": "0574d15e",
   "metadata": {},
   "outputs": [
    {
     "name": "stdout",
     "output_type": "stream",
     "text": [
      "250\n",
      "250\n",
      "250\n",
      "250\n",
      "250\n",
      "250\n",
      "250\n",
      "250\n"
     ]
    },
    {
     "data": {
      "text/html": [
       "<div>\n",
       "<style scoped>\n",
       "    .dataframe tbody tr th:only-of-type {\n",
       "        vertical-align: middle;\n",
       "    }\n",
       "\n",
       "    .dataframe tbody tr th {\n",
       "        vertical-align: top;\n",
       "    }\n",
       "\n",
       "    .dataframe thead th {\n",
       "        text-align: right;\n",
       "    }\n",
       "</style>\n",
       "<table border=\"1\" class=\"dataframe\">\n",
       "  <thead>\n",
       "    <tr style=\"text-align: right;\">\n",
       "      <th></th>\n",
       "      <th>epoch</th>\n",
       "      <th>acc</th>\n",
       "      <th>method</th>\n",
       "    </tr>\n",
       "  </thead>\n",
       "  <tbody>\n",
       "    <tr>\n",
       "      <th>0</th>\n",
       "      <td>0</td>\n",
       "      <td>27.17</td>\n",
       "      <td>CuDFKD</td>\n",
       "    </tr>\n",
       "    <tr>\n",
       "      <th>1</th>\n",
       "      <td>1</td>\n",
       "      <td>49.53</td>\n",
       "      <td>CuDFKD</td>\n",
       "    </tr>\n",
       "    <tr>\n",
       "      <th>2</th>\n",
       "      <td>2</td>\n",
       "      <td>59.76</td>\n",
       "      <td>CuDFKD</td>\n",
       "    </tr>\n",
       "    <tr>\n",
       "      <th>3</th>\n",
       "      <td>3</td>\n",
       "      <td>68.82</td>\n",
       "      <td>CuDFKD</td>\n",
       "    </tr>\n",
       "    <tr>\n",
       "      <th>4</th>\n",
       "      <td>4</td>\n",
       "      <td>72.32</td>\n",
       "      <td>CuDFKD</td>\n",
       "    </tr>\n",
       "  </tbody>\n",
       "</table>\n",
       "</div>"
      ],
      "text/plain": [
       "   epoch    acc  method\n",
       "0      0  27.17  CuDFKD\n",
       "1      1  49.53  CuDFKD\n",
       "2      2  59.76  CuDFKD\n",
       "3      3  68.82  CuDFKD\n",
       "4      4  72.32  CuDFKD"
      ]
     },
     "execution_count": 14,
     "metadata": {},
     "output_type": "execute_result"
    }
   ],
   "source": [
    "import pandas as pd\n",
    "file_lists = [\n",
    "    '/data/lijingru/DataFree/checkpoints/datafree-dafl/log-cifar10-vgg11-resnet18-dafl_interval_2.txt', \n",
    "    '../checkpoints/datafree-adadfkd/log-cifar10-vgg11-resnet18-infonce_s_exp3_1.txt',\n",
    "    '../checkpoints/datafree-dfq/log-cifar10-vgg11-resnet18-dfq_test_lineb.txt',\n",
    "    '../checkpoints/datafree-adadfkd/log-cifar10-vgg11-resnet18-infonce_s_exp3_2.txt',\n",
    "    '../checkpoints/datafree-dfq/log-cifar10-vgg11-resnet18.txt',\n",
    "    '../checkpoints/datafree-cmi/log-cifar10-vgg11-resnet18-cmi.txt',\n",
    "    '../checkpoints/datafree-cmi/log-cifar10-vgg11-resnet18-cmi_2.txt',\n",
    "    '../checkpoints/datafree-dafl/log-cifar10-vgg11-resnet18-nonnoisy_dafl_3.txt'\n",
    "]\n",
    "methods = ['DAFL', 'AdaDFKD(Ours)','DFQ','AdaDFKD(Ours)','DFQ', 'CMI','CMI', 'DAFL']\n",
    "# currkd_res = all_res[0]\n",
    "res_dicts = dfs\n",
    "for f, m in zip(file_lists, methods):\n",
    "    res_dict = get_res_dict(f)\n",
    "    real_res_dict = {'epoch': list(res_dict.keys())[:250], 'acc': list(res_dict.values())[:250], 'method': [m for _ in range(len(res_dict))][:250]}\n",
    "    dfa = pd.DataFrame(data=real_res_dict)\n",
    "    dfs.append(dfa)\n",
    "    values = list(res_dict.values())\n",
    "    print(len(values))\n",
    "\n",
    "all_dfs = pd.concat(dfs)\n",
    "all_dfs.head()"
   ]
  },
  {
   "cell_type": "code",
   "execution_count": 15,
   "id": "0d27a426",
   "metadata": {},
   "outputs": [
    {
     "name": "stderr",
     "output_type": "stream",
     "text": [
      "<ipython-input-15-0f5933bc41bc>:10: UserWarning: FixedFormatter should only be used together with FixedLocator\n",
      "  fig.set_xticklabels(x_ticks, fontsize=12)\n",
      "<ipython-input-15-0f5933bc41bc>:11: UserWarning: FixedFormatter should only be used together with FixedLocator\n",
      "  fig.set_yticklabels(y_ticks, fontsize=12)\n"
     ]
    },
    {
     "data": {
      "application/pdf": "[encoded data removed]",
      "text/plain": [
       "<Figure size 432x288 with 1 Axes>"
      ]
     },
     "metadata": {},
     "output_type": "display_data"
    }
   ],
   "source": [
    "import seaborn as sns\n",
    "sns.set()\n",
    "fig = sns.lineplot(data=all_dfs, x='epoch', y='acc', hue='method')\n",
    "x_ticks = np.arange(0, 251, 50)\n",
    "y_ticks = np.arange(0, 101, 20)\n",
    "fig.set_xlim(0, 255)\n",
    "fig.set_ylim(0, 100)\n",
    "fig.set_xlabel('epoch', fontsize=14)\n",
    "fig.set_ylabel('Accuracy', fontsize=14)\n",
    "fig.set_xticklabels(x_ticks, fontsize=12)\n",
    "fig.set_yticklabels(y_ticks, fontsize=12)\n",
    "plt.savefig('cifar10.pdf')"
   ]
  },
  {
   "cell_type": "code",
   "execution_count": 19,
   "id": "e53e0f33",
   "metadata": {},
   "outputs": [
    {
     "name": "stdout",
     "output_type": "stream",
     "text": [
      "300\n",
      "300\n",
      "300\n"
     ]
    },
    {
     "data": {
      "text/html": [
       "<div>\n",
       "<style scoped>\n",
       "    .dataframe tbody tr th:only-of-type {\n",
       "        vertical-align: middle;\n",
       "    }\n",
       "\n",
       "    .dataframe tbody tr th {\n",
       "        vertical-align: top;\n",
       "    }\n",
       "\n",
       "    .dataframe thead th {\n",
       "        text-align: right;\n",
       "    }\n",
       "</style>\n",
       "<table border=\"1\" class=\"dataframe\">\n",
       "  <thead>\n",
       "    <tr style=\"text-align: right;\">\n",
       "      <th></th>\n",
       "      <th>epoch</th>\n",
       "      <th>acc</th>\n",
       "      <th>method</th>\n",
       "    </tr>\n",
       "  </thead>\n",
       "  <tbody>\n",
       "    <tr>\n",
       "      <th>0</th>\n",
       "      <td>0</td>\n",
       "      <td>2.56</td>\n",
       "      <td>CuDFKD</td>\n",
       "    </tr>\n",
       "    <tr>\n",
       "      <th>1</th>\n",
       "      <td>1</td>\n",
       "      <td>8.10</td>\n",
       "      <td>CuDFKD</td>\n",
       "    </tr>\n",
       "    <tr>\n",
       "      <th>2</th>\n",
       "      <td>2</td>\n",
       "      <td>12.75</td>\n",
       "      <td>CuDFKD</td>\n",
       "    </tr>\n",
       "    <tr>\n",
       "      <th>3</th>\n",
       "      <td>3</td>\n",
       "      <td>17.61</td>\n",
       "      <td>CuDFKD</td>\n",
       "    </tr>\n",
       "    <tr>\n",
       "      <th>4</th>\n",
       "      <td>4</td>\n",
       "      <td>22.89</td>\n",
       "      <td>CuDFKD</td>\n",
       "    </tr>\n",
       "  </tbody>\n",
       "</table>\n",
       "</div>"
      ],
      "text/plain": [
       "   epoch    acc  method\n",
       "0      0   2.56  CuDFKD\n",
       "1      1   8.10  CuDFKD\n",
       "2      2  12.75  CuDFKD\n",
       "3      3  17.61  CuDFKD\n",
       "4      4  22.89  CuDFKD"
      ]
     },
     "execution_count": 19,
     "metadata": {},
     "output_type": "execute_result"
    }
   ],
   "source": [
    "log_files = [\n",
    "    '../checkpoints/datafree-probkd/log-cifar100-resnet34-resnet18-probkd_L2_line8.txt',\n",
    "    '../checkpoints/datafree-probkd/log-cifar100-resnet34-resnet18-probkd_L2_line16.txt',\n",
    "    '../checkpoints/datafree-probkd/log-cifar100-resnet34-resnet18-probkd_L2_line17.txt',\n",
    "    '../checkpoints/datafree-probkd/log-cifar100-resnet34-resnet18-probkd_L2_line20.txt'\n",
    "]\n",
    "methods = ['CMI', 'DAFL', 'ADI']\n",
    "res_dicts = []\n",
    "dfs_hun = []\n",
    "for f, m in zip(log_files, methods):\n",
    "    res_dict = get_res_dict(f)\n",
    "    real_res_dict = {'epoch': list(res_dict.keys()), 'acc': list(res_dict.values()), 'method': ['CuDFKD' for _ in range(len(res_dict))]}\n",
    "    dfa = pd.DataFrame(data=real_res_dict)\n",
    "    dfs_hun.append(dfa)\n",
    "    values = list(res_dict.values())\n",
    "    print(len(values))\n",
    "\n",
    "df_currkd_hundred = pd.concat(dfs_hun)\n",
    "df_currkd_hundred.head()"
   ]
  },
  {
   "cell_type": "code",
   "execution_count": 20,
   "id": "b0e9e7ac",
   "metadata": {},
   "outputs": [
    {
     "name": "stdout",
     "output_type": "stream",
     "text": [
      "300\n",
      "300\n",
      "400\n",
      "400\n",
      "300\n",
      "400\n",
      "300\n",
      "300\n"
     ]
    },
    {
     "data": {
      "text/html": [
       "<div>\n",
       "<style scoped>\n",
       "    .dataframe tbody tr th:only-of-type {\n",
       "        vertical-align: middle;\n",
       "    }\n",
       "\n",
       "    .dataframe tbody tr th {\n",
       "        vertical-align: top;\n",
       "    }\n",
       "\n",
       "    .dataframe thead th {\n",
       "        text-align: right;\n",
       "    }\n",
       "</style>\n",
       "<table border=\"1\" class=\"dataframe\">\n",
       "  <thead>\n",
       "    <tr style=\"text-align: right;\">\n",
       "      <th></th>\n",
       "      <th>epoch</th>\n",
       "      <th>acc</th>\n",
       "      <th>method</th>\n",
       "    </tr>\n",
       "  </thead>\n",
       "  <tbody>\n",
       "    <tr>\n",
       "      <th>0</th>\n",
       "      <td>0</td>\n",
       "      <td>2.56</td>\n",
       "      <td>CuDFKD</td>\n",
       "    </tr>\n",
       "    <tr>\n",
       "      <th>1</th>\n",
       "      <td>1</td>\n",
       "      <td>8.10</td>\n",
       "      <td>CuDFKD</td>\n",
       "    </tr>\n",
       "    <tr>\n",
       "      <th>2</th>\n",
       "      <td>2</td>\n",
       "      <td>12.75</td>\n",
       "      <td>CuDFKD</td>\n",
       "    </tr>\n",
       "    <tr>\n",
       "      <th>3</th>\n",
       "      <td>3</td>\n",
       "      <td>17.61</td>\n",
       "      <td>CuDFKD</td>\n",
       "    </tr>\n",
       "    <tr>\n",
       "      <th>4</th>\n",
       "      <td>4</td>\n",
       "      <td>22.89</td>\n",
       "      <td>CuDFKD</td>\n",
       "    </tr>\n",
       "    <tr>\n",
       "      <th>...</th>\n",
       "      <td>...</td>\n",
       "      <td>...</td>\n",
       "      <td>...</td>\n",
       "    </tr>\n",
       "    <tr>\n",
       "      <th>295</th>\n",
       "      <td>295</td>\n",
       "      <td>71.82</td>\n",
       "      <td>DAFL</td>\n",
       "    </tr>\n",
       "    <tr>\n",
       "      <th>296</th>\n",
       "      <td>296</td>\n",
       "      <td>71.72</td>\n",
       "      <td>DAFL</td>\n",
       "    </tr>\n",
       "    <tr>\n",
       "      <th>297</th>\n",
       "      <td>297</td>\n",
       "      <td>71.85</td>\n",
       "      <td>DAFL</td>\n",
       "    </tr>\n",
       "    <tr>\n",
       "      <th>298</th>\n",
       "      <td>298</td>\n",
       "      <td>71.72</td>\n",
       "      <td>DAFL</td>\n",
       "    </tr>\n",
       "    <tr>\n",
       "      <th>299</th>\n",
       "      <td>299</td>\n",
       "      <td>71.69</td>\n",
       "      <td>DAFL</td>\n",
       "    </tr>\n",
       "  </tbody>\n",
       "</table>\n",
       "<p>3300 rows × 3 columns</p>\n",
       "</div>"
      ],
      "text/plain": [
       "     epoch    acc  method\n",
       "0        0   2.56  CuDFKD\n",
       "1        1   8.10  CuDFKD\n",
       "2        2  12.75  CuDFKD\n",
       "3        3  17.61  CuDFKD\n",
       "4        4  22.89  CuDFKD\n",
       "..     ...    ...     ...\n",
       "295    295  71.82    DAFL\n",
       "296    296  71.72    DAFL\n",
       "297    297  71.85    DAFL\n",
       "298    298  71.72    DAFL\n",
       "299    299  71.69    DAFL\n",
       "\n",
       "[3300 rows x 3 columns]"
      ]
     },
     "execution_count": 20,
     "metadata": {},
     "output_type": "execute_result"
    }
   ],
   "source": [
    "file_lists = [\n",
    "    '/data/lijingru/CMI/checkpoints/datafree-cmi/log-cifar100-resnet34-resnet18-cmi.txt',\n",
    "    '../checkpoints/datafree-adadfkd/log-cifar100-resnet34-resnet18-infonce_res_exp3_retest4.txt',\n",
    "    '../checkpoints/datafree-adadfkd/log-cifar100-resnet34-resnet18-infonce_res_exp3_retest10.txt',\n",
    "    '../checkpoints/datafree-dfq/log-cifar100-resnet34-resnet18-dfq_retest_line4.txt',\n",
    "    '/data/lijingru/CMI/checkpoints/datafree-dfq/log-cifar100-resnet34-resnet18-cifar100_dfq1.txt',\n",
    "    '../checkpoints/datafree-cmi/log-cifar100-resnet34-resnet18-cmi.txt',\n",
    "    '/data/lijingru/CMI/checkpoints/datafree-dafl/log-cifar100-resnet34-resnet18.txt',\n",
    "    '../checkpoints/datafree-dafl/log-cifar100-resnet34-resnet18-nonnoisy_dafl_5.txt'\n",
    "]\n",
    "\n",
    "methods = ['CMI','AdaDFKD(Ours)', 'AdaDFKD(Ours)', 'DFQ', 'DFQ','CMI','DAFL', 'DAFL']\n",
    "# currkd_res = all_res[0]\n",
    "for f, m in zip(file_lists, methods):\n",
    "    res_dict = get_res_dict(f)\n",
    "    real_res_dict = {'epoch': list(res_dict.keys())[:300], 'acc': list(res_dict.values())[:300], 'method': [m for _ in range(len(res_dict))][:300]}\n",
    "    dfa = pd.DataFrame(data=real_res_dict)\n",
    "    dfs_hun.append(dfa)\n",
    "    values = list(res_dict.values())\n",
    "    print(len(values))\n",
    "\n",
    "all_dfs = pd.concat(dfs_hun)\n",
    "all_dfs"
   ]
  },
  {
   "cell_type": "code",
   "execution_count": 21,
   "id": "0c0364e4",
   "metadata": {},
   "outputs": [
    {
     "name": "stderr",
     "output_type": "stream",
     "text": [
      "<ipython-input-21-16c24b2ac710>:9: UserWarning: FixedFormatter should only be used together with FixedLocator\n",
      "  fig.set_xticklabels(x_ticks, fontsize=12)\n",
      "<ipython-input-21-16c24b2ac710>:10: UserWarning: FixedFormatter should only be used together with FixedLocator\n",
      "  fig.set_yticklabels(y_ticks, fontsize=12)\n"
     ]
    },
    {
     "data": {
      "application/pdf": "[encoded data removed]",
      "text/plain": [
       "<Figure size 432x288 with 1 Axes>"
      ]
     },
     "metadata": {},
     "output_type": "display_data"
    }
   ],
   "source": [
    "sns.set()\n",
    "fig = sns.lineplot(data=all_dfs, x='epoch', y='acc', hue='method')\n",
    "x_ticks = np.arange(0, 300, 50)\n",
    "y_ticks = np.arange(0, 80, 10)\n",
    "fig.set_xlim(0, 305)\n",
    "fig.set_ylim(0, 80)\n",
    "fig.set_xlabel('epoch', fontsize=14)\n",
    "fig.set_ylabel('Accuracy', fontsize=14)\n",
    "fig.set_xticklabels(x_ticks, fontsize=12)\n",
    "fig.set_yticklabels(y_ticks, fontsize=12)\n",
    "plt.savefig('cifar100.pdf')"
   ]
  },
  {
   "cell_type": "code",
   "execution_count": 22,
   "id": "aee8b104",
   "metadata": {},
   "outputs": [],
   "source": [
    "distributed = False\n",
    "gpu = 3\n",
    "# gpu ='0,1'\n",
    "batch_size = 128\n",
    "workers = 8\n",
    "num_classes = 10\n",
    "# num_classes = 100\n",
    "# num_classes = 200\n",
    "def prepare_model(model):\n",
    "    if not torch.cuda.is_available():\n",
    "        print('using CPU, this will be slow')\n",
    "        return model\n",
    "    elif distributed:\n",
    "        # For multiprocessing distributed, DistributedDataParallel constructor\n",
    "        # should always set the single device scope, otherwise,\n",
    "        # DistributedDataParallel will use all available devices.\n",
    "        if gpu is not None:\n",
    "#             torch.cuda.set_device(gpu)\n",
    "            model.cuda()\n",
    "            # When using a single GPU per process and per\n",
    "            # DistributedDataParallel, we need to divide the batch size\n",
    "            # ourselves based on the total number of GPUs we have\n",
    "            batch_size = int(batch_size / 1)\n",
    "            workers = int((workers + 1 - 1) / 1)\n",
    "            model = torch.nn.parallel.DistributedDataParallel(model, device_ids=[int(x) for x in gpu.split(',')])\n",
    "            return model\n",
    "        else:\n",
    "            model.cuda()\n",
    "            model = torch.nn.parallel.DistributedDataParallel(model)\n",
    "            return model\n",
    "    elif gpu is not None:\n",
    "        torch.cuda.set_device(gpu)\n",
    "        model = model.cuda(gpu)\n",
    "        return model\n",
    "    else:\n",
    "        # DataParallel will divide and allocate batch_size to all available GPUs\n",
    "        model = torch.nn.DataParallel(model).cuda()\n",
    "        return model"
   ]
  },
  {
   "cell_type": "code",
   "execution_count": 53,
   "id": "4f45bc13",
   "metadata": {},
   "outputs": [
    {
     "data": {
      "text/plain": [
       "ResNet(\n",
       "  (conv1): Conv2d(3, 64, kernel_size=(3, 3), stride=(1, 1), padding=(1, 1), bias=False)\n",
       "  (bn1): BatchNorm2d(64, eps=1e-05, momentum=0.1, affine=True, track_running_stats=True)\n",
       "  (layer1): Sequential(\n",
       "    (0): BasicBlock(\n",
       "      (conv1): Conv2d(64, 64, kernel_size=(3, 3), stride=(1, 1), padding=(1, 1), bias=False)\n",
       "      (bn1): BatchNorm2d(64, eps=1e-05, momentum=0.1, affine=True, track_running_stats=True)\n",
       "      (conv2): Conv2d(64, 64, kernel_size=(3, 3), stride=(1, 1), padding=(1, 1), bias=False)\n",
       "      (bn2): BatchNorm2d(64, eps=1e-05, momentum=0.1, affine=True, track_running_stats=True)\n",
       "      (shortcut): Sequential()\n",
       "    )\n",
       "    (1): BasicBlock(\n",
       "      (conv1): Conv2d(64, 64, kernel_size=(3, 3), stride=(1, 1), padding=(1, 1), bias=False)\n",
       "      (bn1): BatchNorm2d(64, eps=1e-05, momentum=0.1, affine=True, track_running_stats=True)\n",
       "      (conv2): Conv2d(64, 64, kernel_size=(3, 3), stride=(1, 1), padding=(1, 1), bias=False)\n",
       "      (bn2): BatchNorm2d(64, eps=1e-05, momentum=0.1, affine=True, track_running_stats=True)\n",
       "      (shortcut): Sequential()\n",
       "    )\n",
       "    (2): BasicBlock(\n",
       "      (conv1): Conv2d(64, 64, kernel_size=(3, 3), stride=(1, 1), padding=(1, 1), bias=False)\n",
       "      (bn1): BatchNorm2d(64, eps=1e-05, momentum=0.1, affine=True, track_running_stats=True)\n",
       "      (conv2): Conv2d(64, 64, kernel_size=(3, 3), stride=(1, 1), padding=(1, 1), bias=False)\n",
       "      (bn2): BatchNorm2d(64, eps=1e-05, momentum=0.1, affine=True, track_running_stats=True)\n",
       "      (shortcut): Sequential()\n",
       "    )\n",
       "  )\n",
       "  (layer2): Sequential(\n",
       "    (0): BasicBlock(\n",
       "      (conv1): Conv2d(64, 128, kernel_size=(3, 3), stride=(2, 2), padding=(1, 1), bias=False)\n",
       "      (bn1): BatchNorm2d(128, eps=1e-05, momentum=0.1, affine=True, track_running_stats=True)\n",
       "      (conv2): Conv2d(128, 128, kernel_size=(3, 3), stride=(1, 1), padding=(1, 1), bias=False)\n",
       "      (bn2): BatchNorm2d(128, eps=1e-05, momentum=0.1, affine=True, track_running_stats=True)\n",
       "      (shortcut): Sequential(\n",
       "        (0): Conv2d(64, 128, kernel_size=(1, 1), stride=(2, 2), bias=False)\n",
       "        (1): BatchNorm2d(128, eps=1e-05, momentum=0.1, affine=True, track_running_stats=True)\n",
       "      )\n",
       "    )\n",
       "    (1): BasicBlock(\n",
       "      (conv1): Conv2d(128, 128, kernel_size=(3, 3), stride=(1, 1), padding=(1, 1), bias=False)\n",
       "      (bn1): BatchNorm2d(128, eps=1e-05, momentum=0.1, affine=True, track_running_stats=True)\n",
       "      (conv2): Conv2d(128, 128, kernel_size=(3, 3), stride=(1, 1), padding=(1, 1), bias=False)\n",
       "      (bn2): BatchNorm2d(128, eps=1e-05, momentum=0.1, affine=True, track_running_stats=True)\n",
       "      (shortcut): Sequential()\n",
       "    )\n",
       "    (2): BasicBlock(\n",
       "      (conv1): Conv2d(128, 128, kernel_size=(3, 3), stride=(1, 1), padding=(1, 1), bias=False)\n",
       "      (bn1): BatchNorm2d(128, eps=1e-05, momentum=0.1, affine=True, track_running_stats=True)\n",
       "      (conv2): Conv2d(128, 128, kernel_size=(3, 3), stride=(1, 1), padding=(1, 1), bias=False)\n",
       "      (bn2): BatchNorm2d(128, eps=1e-05, momentum=0.1, affine=True, track_running_stats=True)\n",
       "      (shortcut): Sequential()\n",
       "    )\n",
       "    (3): BasicBlock(\n",
       "      (conv1): Conv2d(128, 128, kernel_size=(3, 3), stride=(1, 1), padding=(1, 1), bias=False)\n",
       "      (bn1): BatchNorm2d(128, eps=1e-05, momentum=0.1, affine=True, track_running_stats=True)\n",
       "      (conv2): Conv2d(128, 128, kernel_size=(3, 3), stride=(1, 1), padding=(1, 1), bias=False)\n",
       "      (bn2): BatchNorm2d(128, eps=1e-05, momentum=0.1, affine=True, track_running_stats=True)\n",
       "      (shortcut): Sequential()\n",
       "    )\n",
       "  )\n",
       "  (layer3): Sequential(\n",
       "    (0): BasicBlock(\n",
       "      (conv1): Conv2d(128, 256, kernel_size=(3, 3), stride=(2, 2), padding=(1, 1), bias=False)\n",
       "      (bn1): BatchNorm2d(256, eps=1e-05, momentum=0.1, affine=True, track_running_stats=True)\n",
       "      (conv2): Conv2d(256, 256, kernel_size=(3, 3), stride=(1, 1), padding=(1, 1), bias=False)\n",
       "      (bn2): BatchNorm2d(256, eps=1e-05, momentum=0.1, affine=True, track_running_stats=True)\n",
       "      (shortcut): Sequential(\n",
       "        (0): Conv2d(128, 256, kernel_size=(1, 1), stride=(2, 2), bias=False)\n",
       "        (1): BatchNorm2d(256, eps=1e-05, momentum=0.1, affine=True, track_running_stats=True)\n",
       "      )\n",
       "    )\n",
       "    (1): BasicBlock(\n",
       "      (conv1): Conv2d(256, 256, kernel_size=(3, 3), stride=(1, 1), padding=(1, 1), bias=False)\n",
       "      (bn1): BatchNorm2d(256, eps=1e-05, momentum=0.1, affine=True, track_running_stats=True)\n",
       "      (conv2): Conv2d(256, 256, kernel_size=(3, 3), stride=(1, 1), padding=(1, 1), bias=False)\n",
       "      (bn2): BatchNorm2d(256, eps=1e-05, momentum=0.1, affine=True, track_running_stats=True)\n",
       "      (shortcut): Sequential()\n",
       "    )\n",
       "    (2): BasicBlock(\n",
       "      (conv1): Conv2d(256, 256, kernel_size=(3, 3), stride=(1, 1), padding=(1, 1), bias=False)\n",
       "      (bn1): BatchNorm2d(256, eps=1e-05, momentum=0.1, affine=True, track_running_stats=True)\n",
       "      (conv2): Conv2d(256, 256, kernel_size=(3, 3), stride=(1, 1), padding=(1, 1), bias=False)\n",
       "      (bn2): BatchNorm2d(256, eps=1e-05, momentum=0.1, affine=True, track_running_stats=True)\n",
       "      (shortcut): Sequential()\n",
       "    )\n",
       "    (3): BasicBlock(\n",
       "      (conv1): Conv2d(256, 256, kernel_size=(3, 3), stride=(1, 1), padding=(1, 1), bias=False)\n",
       "      (bn1): BatchNorm2d(256, eps=1e-05, momentum=0.1, affine=True, track_running_stats=True)\n",
       "      (conv2): Conv2d(256, 256, kernel_size=(3, 3), stride=(1, 1), padding=(1, 1), bias=False)\n",
       "      (bn2): BatchNorm2d(256, eps=1e-05, momentum=0.1, affine=True, track_running_stats=True)\n",
       "      (shortcut): Sequential()\n",
       "    )\n",
       "    (4): BasicBlock(\n",
       "      (conv1): Conv2d(256, 256, kernel_size=(3, 3), stride=(1, 1), padding=(1, 1), bias=False)\n",
       "      (bn1): BatchNorm2d(256, eps=1e-05, momentum=0.1, affine=True, track_running_stats=True)\n",
       "      (conv2): Conv2d(256, 256, kernel_size=(3, 3), stride=(1, 1), padding=(1, 1), bias=False)\n",
       "      (bn2): BatchNorm2d(256, eps=1e-05, momentum=0.1, affine=True, track_running_stats=True)\n",
       "      (shortcut): Sequential()\n",
       "    )\n",
       "    (5): BasicBlock(\n",
       "      (conv1): Conv2d(256, 256, kernel_size=(3, 3), stride=(1, 1), padding=(1, 1), bias=False)\n",
       "      (bn1): BatchNorm2d(256, eps=1e-05, momentum=0.1, affine=True, track_running_stats=True)\n",
       "      (conv2): Conv2d(256, 256, kernel_size=(3, 3), stride=(1, 1), padding=(1, 1), bias=False)\n",
       "      (bn2): BatchNorm2d(256, eps=1e-05, momentum=0.1, affine=True, track_running_stats=True)\n",
       "      (shortcut): Sequential()\n",
       "    )\n",
       "  )\n",
       "  (layer4): Sequential(\n",
       "    (0): BasicBlock(\n",
       "      (conv1): Conv2d(256, 512, kernel_size=(3, 3), stride=(2, 2), padding=(1, 1), bias=False)\n",
       "      (bn1): BatchNorm2d(512, eps=1e-05, momentum=0.1, affine=True, track_running_stats=True)\n",
       "      (conv2): Conv2d(512, 512, kernel_size=(3, 3), stride=(1, 1), padding=(1, 1), bias=False)\n",
       "      (bn2): BatchNorm2d(512, eps=1e-05, momentum=0.1, affine=True, track_running_stats=True)\n",
       "      (shortcut): Sequential(\n",
       "        (0): Conv2d(256, 512, kernel_size=(1, 1), stride=(2, 2), bias=False)\n",
       "        (1): BatchNorm2d(512, eps=1e-05, momentum=0.1, affine=True, track_running_stats=True)\n",
       "      )\n",
       "    )\n",
       "    (1): BasicBlock(\n",
       "      (conv1): Conv2d(512, 512, kernel_size=(3, 3), stride=(1, 1), padding=(1, 1), bias=False)\n",
       "      (bn1): BatchNorm2d(512, eps=1e-05, momentum=0.1, affine=True, track_running_stats=True)\n",
       "      (conv2): Conv2d(512, 512, kernel_size=(3, 3), stride=(1, 1), padding=(1, 1), bias=False)\n",
       "      (bn2): BatchNorm2d(512, eps=1e-05, momentum=0.1, affine=True, track_running_stats=True)\n",
       "      (shortcut): Sequential()\n",
       "    )\n",
       "    (2): BasicBlock(\n",
       "      (conv1): Conv2d(512, 512, kernel_size=(3, 3), stride=(1, 1), padding=(1, 1), bias=False)\n",
       "      (bn1): BatchNorm2d(512, eps=1e-05, momentum=0.1, affine=True, track_running_stats=True)\n",
       "      (conv2): Conv2d(512, 512, kernel_size=(3, 3), stride=(1, 1), padding=(1, 1), bias=False)\n",
       "      (bn2): BatchNorm2d(512, eps=1e-05, momentum=0.1, affine=True, track_running_stats=True)\n",
       "      (shortcut): Sequential()\n",
       "    )\n",
       "  )\n",
       "  (linear): Linear(in_features=512, out_features=10, bias=True)\n",
       ")"
      ]
     },
     "execution_count": 53,
     "metadata": {},
     "output_type": "execute_result"
    }
   ],
   "source": [
    "from torchvision.datasets import CIFAR10,CIFAR100\n",
    "import datafree\n",
    "import registry\n",
    "from torch import nn\n",
    "student = registry.get_model('resnet18', num_classes=num_classes)\n",
    "teacher = registry.get_model('resnet34', num_classes=num_classes, pretrained=True).eval()\n",
    "# student = registry.get_model('wrn40_1', num_classes=num_classes)\n",
    "# student= registry.get_model('wrn16_2', num_classes=num_classes)\n",
    "# teacher = registry.get_model('wrn40_2', num_classes=num_classes)\n",
    "# normalizer = datafree.utils.Normalizer(**registry.NORMALIZE_DICT['tiny_imagenet'])\n",
    "normalizer = datafree.utils.Normalizer(**registry.NORMALIZE_DICT['cifar10'])\n",
    "# normalizer = datafree.utils.Normalizer(**registry.NORMALIZE_DICT['cifar100'])\n",
    "student = prepare_model(student)\n",
    "\n",
    "# teacher = teacher.to(gpu)\n",
    "# teacher.avgpool = nn.AdaptiveAvgPool2d(1)\n",
    "# num_ftrs = teacher.linear.in_features\n",
    "# teacher.linear = nn.Linear(num_ftrs, 200)\n",
    "# teacher.conv1 = nn.Conv2d(3,64, kernel_size=(3,3), stride=(1,1), padding=(1,1))\n",
    "# teacher.maxpool = nn.Sequential()\n",
    "teacher = prepare_model(teacher)\n",
    "# ckpt = torch.load('../checkpoints/scratch/tiny_imagenet_resnet34_imagenet.pth', map_location='cpu')\n",
    "# dict_ckpt = dict()\n",
    "# for k, v in ckpt['state_dict'].items():\n",
    "#     dict_ckpt['.'.join(k.split('.')[1:])] = v\n",
    "# teacher.load_state_dict(dict_ckpt)\n",
    "\n",
    "teacher.load_state_dict(torch.load('../checkpoints/scratch/cifar10_resnet34.pth', map_location='cpu')['state_dict'])\n",
    "# teacher.load_state_dict(torch.load('../checkpoints/scratch/cifar10_wrn40_2.pth', map_location='cpu')['state_dict'])\n",
    "# teacher.load_state_dict(torch.load('../checkpoints/scratch/cifar100_wrn40_2.pth', map_location='cpu')['state_dict'])\n",
    "# print(ckpt['best_acc1'])\n",
    "# teacher.load_state_dict(torch.load('../checkpoints/scratch/cifar100_resnet34.pth', map_location='cpu')['state_dict'])\n",
    "teacher.eval()\n"
   ]
  },
  {
   "cell_type": "code",
   "execution_count": null,
   "id": "bea63e4c",
   "metadata": {},
   "outputs": [],
   "source": []
  },
  {
   "cell_type": "code",
   "execution_count": 50,
   "id": "9b4f3194",
   "metadata": {},
   "outputs": [
    {
     "name": "stdout",
     "output_type": "stream",
     "text": [
      "95.00999999999999\n"
     ]
    },
    {
     "data": {
      "text/plain": [
       "ResNet(\n",
       "  (conv1): Conv2d(3, 64, kernel_size=(3, 3), stride=(1, 1), padding=(1, 1), bias=False)\n",
       "  (bn1): BatchNorm2d(64, eps=1e-05, momentum=0.1, affine=True, track_running_stats=True)\n",
       "  (layer1): Sequential(\n",
       "    (0): BasicBlock(\n",
       "      (conv1): Conv2d(64, 64, kernel_size=(3, 3), stride=(1, 1), padding=(1, 1), bias=False)\n",
       "      (bn1): BatchNorm2d(64, eps=1e-05, momentum=0.1, affine=True, track_running_stats=True)\n",
       "      (conv2): Conv2d(64, 64, kernel_size=(3, 3), stride=(1, 1), padding=(1, 1), bias=False)\n",
       "      (bn2): BatchNorm2d(64, eps=1e-05, momentum=0.1, affine=True, track_running_stats=True)\n",
       "      (shortcut): Sequential()\n",
       "    )\n",
       "    (1): BasicBlock(\n",
       "      (conv1): Conv2d(64, 64, kernel_size=(3, 3), stride=(1, 1), padding=(1, 1), bias=False)\n",
       "      (bn1): BatchNorm2d(64, eps=1e-05, momentum=0.1, affine=True, track_running_stats=True)\n",
       "      (conv2): Conv2d(64, 64, kernel_size=(3, 3), stride=(1, 1), padding=(1, 1), bias=False)\n",
       "      (bn2): BatchNorm2d(64, eps=1e-05, momentum=0.1, affine=True, track_running_stats=True)\n",
       "      (shortcut): Sequential()\n",
       "    )\n",
       "  )\n",
       "  (layer2): Sequential(\n",
       "    (0): BasicBlock(\n",
       "      (conv1): Conv2d(64, 128, kernel_size=(3, 3), stride=(2, 2), padding=(1, 1), bias=False)\n",
       "      (bn1): BatchNorm2d(128, eps=1e-05, momentum=0.1, affine=True, track_running_stats=True)\n",
       "      (conv2): Conv2d(128, 128, kernel_size=(3, 3), stride=(1, 1), padding=(1, 1), bias=False)\n",
       "      (bn2): BatchNorm2d(128, eps=1e-05, momentum=0.1, affine=True, track_running_stats=True)\n",
       "      (shortcut): Sequential(\n",
       "        (0): Conv2d(64, 128, kernel_size=(1, 1), stride=(2, 2), bias=False)\n",
       "        (1): BatchNorm2d(128, eps=1e-05, momentum=0.1, affine=True, track_running_stats=True)\n",
       "      )\n",
       "    )\n",
       "    (1): BasicBlock(\n",
       "      (conv1): Conv2d(128, 128, kernel_size=(3, 3), stride=(1, 1), padding=(1, 1), bias=False)\n",
       "      (bn1): BatchNorm2d(128, eps=1e-05, momentum=0.1, affine=True, track_running_stats=True)\n",
       "      (conv2): Conv2d(128, 128, kernel_size=(3, 3), stride=(1, 1), padding=(1, 1), bias=False)\n",
       "      (bn2): BatchNorm2d(128, eps=1e-05, momentum=0.1, affine=True, track_running_stats=True)\n",
       "      (shortcut): Sequential()\n",
       "    )\n",
       "  )\n",
       "  (layer3): Sequential(\n",
       "    (0): BasicBlock(\n",
       "      (conv1): Conv2d(128, 256, kernel_size=(3, 3), stride=(2, 2), padding=(1, 1), bias=False)\n",
       "      (bn1): BatchNorm2d(256, eps=1e-05, momentum=0.1, affine=True, track_running_stats=True)\n",
       "      (conv2): Conv2d(256, 256, kernel_size=(3, 3), stride=(1, 1), padding=(1, 1), bias=False)\n",
       "      (bn2): BatchNorm2d(256, eps=1e-05, momentum=0.1, affine=True, track_running_stats=True)\n",
       "      (shortcut): Sequential(\n",
       "        (0): Conv2d(128, 256, kernel_size=(1, 1), stride=(2, 2), bias=False)\n",
       "        (1): BatchNorm2d(256, eps=1e-05, momentum=0.1, affine=True, track_running_stats=True)\n",
       "      )\n",
       "    )\n",
       "    (1): BasicBlock(\n",
       "      (conv1): Conv2d(256, 256, kernel_size=(3, 3), stride=(1, 1), padding=(1, 1), bias=False)\n",
       "      (bn1): BatchNorm2d(256, eps=1e-05, momentum=0.1, affine=True, track_running_stats=True)\n",
       "      (conv2): Conv2d(256, 256, kernel_size=(3, 3), stride=(1, 1), padding=(1, 1), bias=False)\n",
       "      (bn2): BatchNorm2d(256, eps=1e-05, momentum=0.1, affine=True, track_running_stats=True)\n",
       "      (shortcut): Sequential()\n",
       "    )\n",
       "  )\n",
       "  (layer4): Sequential(\n",
       "    (0): BasicBlock(\n",
       "      (conv1): Conv2d(256, 512, kernel_size=(3, 3), stride=(2, 2), padding=(1, 1), bias=False)\n",
       "      (bn1): BatchNorm2d(512, eps=1e-05, momentum=0.1, affine=True, track_running_stats=True)\n",
       "      (conv2): Conv2d(512, 512, kernel_size=(3, 3), stride=(1, 1), padding=(1, 1), bias=False)\n",
       "      (bn2): BatchNorm2d(512, eps=1e-05, momentum=0.1, affine=True, track_running_stats=True)\n",
       "      (shortcut): Sequential(\n",
       "        (0): Conv2d(256, 512, kernel_size=(1, 1), stride=(2, 2), bias=False)\n",
       "        (1): BatchNorm2d(512, eps=1e-05, momentum=0.1, affine=True, track_running_stats=True)\n",
       "      )\n",
       "    )\n",
       "    (1): BasicBlock(\n",
       "      (conv1): Conv2d(512, 512, kernel_size=(3, 3), stride=(1, 1), padding=(1, 1), bias=False)\n",
       "      (bn1): BatchNorm2d(512, eps=1e-05, momentum=0.1, affine=True, track_running_stats=True)\n",
       "      (conv2): Conv2d(512, 512, kernel_size=(3, 3), stride=(1, 1), padding=(1, 1), bias=False)\n",
       "      (bn2): BatchNorm2d(512, eps=1e-05, momentum=0.1, affine=True, track_running_stats=True)\n",
       "      (shortcut): Sequential()\n",
       "    )\n",
       "  )\n",
       "  (linear): Linear(in_features=512, out_features=10, bias=True)\n",
       ")"
      ]
     },
     "execution_count": 50,
     "metadata": {},
     "output_type": "execute_result"
    }
   ],
   "source": [
    "# generator = datafree.models.generator.LargeGenerator(nz=512, ngf=64, img_size=32, nc=3)\n",
    "# generator = prepare_model(generator)\n",
    "# ckpt = torch.load('../checkpoints/datafree-deepinv/cifar100-resnet34-resnet18--deepinv_100a.pth', map_location='cpu')\n",
    "# ckpt = torch.load('../checkpoints/datafree-cmi/cifar10-resnet34-resnet18_adv_cmi.pth', map_location='cpu')\n",
    "# ckpt = torch.load('../checkpoints/datafree-improved_cudfkd/tiny_imagenet-resnet34_imagenet-resnet18_imagenet--improved_cudfkd_exp2-R0.pth', map_location='cpu')\n",
    "# ckpt = torch.load('../checkpoints/datafree-probkd/cifar100-resnet34-resnet18--probkd_L2_line4.pth', map_location='cpu')\n",
    "# ckpt = torch.load('../checkpoints/datafree-cudfkd/cifar100-resnet34-resnet18--cudfkd_L2_line33_e.pth', map_location='cpu')\n",
    "# ckpt = torch.load('../checkpoints/datafree-probkd/tiny_imagenet-resnet34_imagenet-resnet18_imagenet--probkd_L3_line7-R0.pth', map_location='cpu')\n",
    "# ckpt = torch.load('../checkpoints/datafree-probkd/cifar10-resnet34-resnet18--probkd_L2_line98.pth', map_location='cpu')\n",
    "# ckpt = torch.load('../checkpoints/datafree-probkd/cifar10-resnet34-resnet18--probkd_L2_line73_3.pth', map_location='cpu')\n",
    "# ckpt = torch.load('../checkpoints/datafree-probkd/cifar10-resnet34-resnet18--probkd_L2_line66.pth', map_location='cpu')\n",
    "ckpt = torch.load('../checkpoints/datafree-improved_cudfkd/cifar10-resnet34-resnet18--infonce_s_exp6.pth', map_location='cpu')\n",
    "# ckpt = torch.load('../checkpoints/datafree-deepinv/cifar10-resnet34-resnet18.pth', map_location='cpu')\n",
    "# ckpt = torch.load('../checkpoints/scratch_i/cifar10_resnet18.pth', map_location='cpu')\n",
    "# ckpt = torch.load('../checkpoints/scratch/cifar10_wrn16_2.pth', map_location='cpu')\n",
    "# ckpt = torch.load('../checkpoints/scratch/cifar10_wrn40_1.pth', map_location='cpu')\n",
    "# ckpt = torch.load('../checkpoints/scratch/cifar100_resnet18.pth', map_location='cpu')\n",
    "# ckpt = torch.load('../checkpoints/datafree-cudfkd/cifar100-wrn40_2-wrn40_1--cudfkd_L2_line33_d.pth', map_location='cpu')\n",
    "# ckpt = torch.load('../checkpoints/datafree-cudfkd/cifar100-wrn40_2-wrn16_2--cudfkd_L2_line34_c.pth', map_location='cpu')\n",
    "print(ckpt['best_acc1'])\n",
    "# dict_ckpt = dict()\n",
    "# for k, v in ckpt['state_dict'].items():\n",
    "#     dict_ckpt['.'.join(k.split('.')[1:])] = v\n",
    "# G_ckpt = ckpt['G']\n",
    "\n",
    "student = prepare_model(student)\n",
    "# student.avgpool = nn.AdaptiveAvgPool2d(1)\n",
    "# num_ftrs = student.linear.in_features\n",
    "# student.fc = nn.Linear(num_ftrs, 200)\n",
    "# student.conv1 = nn.Conv2d(3,64, kernel_size=(3,3), stride=(1,1), padding=(1,1))\n",
    "# student.maxpool = nn.Sequential()\n",
    "student.load_state_dict(ckpt['state_dict'])\n",
    "# student.load_state_dict(dict_ckpt)\n",
    "student.eval()\n"
   ]
  },
  {
   "cell_type": "code",
   "execution_count": 17,
   "id": "bef3a061",
   "metadata": {},
   "outputs": [
    {
     "data": {
      "text/plain": [
       "<All keys matched successfully>"
      ]
     },
     "execution_count": 17,
     "metadata": {},
     "output_type": "execute_result"
    }
   ],
   "source": [
    "g = datafree.models.generator.DCGAN_Generator_CIFAR10(nz=1024, ngf=64, nc=3, img_size=64, d=3, cond=False)\n",
    "g = prepare_model(g)\n",
    "dict_ckpt = {}\n",
    "for k, v in G_ckpt.items():\n",
    "    dict_ckpt['.'.join(k.split('.')[1:])] = v\n",
    "g.load_state_dict(dict_ckpt)"
   ]
  },
  {
   "cell_type": "code",
   "execution_count": 18,
   "id": "96f79093",
   "metadata": {},
   "outputs": [],
   "source": [
    "from torchvision.utils import save_image,make_grid\n",
    "z = torch.randn(256, 1024).to(gpu)\n",
    "x = g(z)\n",
    "img = make_grid(x, nrow=16, padding=2,normalize=True)\n",
    "save_image(img, 'visualize_timage.jpg')"
   ]
  },
  {
   "cell_type": "code",
   "execution_count": 52,
   "id": "952844e8",
   "metadata": {},
   "outputs": [
    {
     "name": "stdout",
     "output_type": "stream",
     "text": [
      "Files already downloaded and verified\n"
     ]
    }
   ],
   "source": [
    "import torchvision.transforms as T\n",
    "from registry import NORMALIZE_DICT\n",
    "from torchvision import datasets\n",
    "# normalizer = datafree.utils.Normalizer(**registry.NORMALIZE_DICT['cifar10'])\n",
    "# val_transform = T.Compose([\n",
    "#     #T.Resize((224, 224), Image.BICUBIC),\n",
    "#     T.ToTensor(),\n",
    "#     T.Normalize( **NORMALIZE_DICT['tiny_imagenet'] ),\n",
    "# ])\n",
    "val_transform = T.Compose([\n",
    "    T.ToTensor(),\n",
    "    T.Normalize( **NORMALIZE_DICT['cifar10'] )]\n",
    ") \n",
    "\n",
    "val_dst = datasets.CIFAR10('~/cifar10/', train=False, download=True, transform=val_transform)\n",
    "# val_dst = datasets.CIFAR100('~/cifar100/', train=False, download=True, transform=val_transform)\n",
    "# val_dst = datasets.ImageFolder(os.path.join('~/timagenet/tiny-imagenet-200', 'val_split'), transform=val_transform)\n",
    "\n",
    "val_loader = torch.utils.data.DataLoader(val_dst, batch_size=128, shuffle=False, num_workers=4, pin_memory=True)"
   ]
  },
  {
   "cell_type": "code",
   "execution_count": 53,
   "id": "70a13870",
   "metadata": {},
   "outputs": [
    {
     "name": "stderr",
     "output_type": "stream",
     "text": [
      "calculate_agg: 100%|██████████| 79/79 [00:04<00:00, 19.67it/s]\n"
     ]
    }
   ],
   "source": [
    "import tqdm\n",
    "probs_s = []\n",
    "probs_t = []\n",
    "ys = []\n",
    "for x, y in tqdm.tqdm(val_loader, desc='calculate_agg'):\n",
    "    s_out = student(x.to(gpu))\n",
    "    t_out = teacher(x.to(gpu))\n",
    "#     print(np.argmax(prob_t, 1), y.numpy())\n",
    "#     print(torch.sum(s_out.argmax(1).detach().cpu() == y) / 128)\n",
    "    prob_s = torch.softmax(s_out.detach(), 1).cpu().numpy()\n",
    "    probs_s.append(prob_s)\n",
    "    prob_t = torch.softmax(t_out.detach(), 1).cpu().numpy()\n",
    "    probs_t.append(prob_t)\n",
    "    ys.append(y.numpy())\n",
    "\n",
    "probs_s = np.concatenate(probs_s, 0)\n",
    "probs_t = np.concatenate(probs_t, 0)\n",
    "ys = np.concatenate(ys, 0)"
   ]
  },
  {
   "cell_type": "code",
   "execution_count": 54,
   "id": "b4e1882e",
   "metadata": {},
   "outputs": [
    {
     "name": "stdout",
     "output_type": "stream",
     "text": [
      "0.9302\n",
      "0.957\n",
      "0.9394\n",
      "0.81585\n"
     ]
    }
   ],
   "source": [
    "if not os.path.exists('prob_loyalty_distribution/'):\n",
    "    os.mkdir('prob_loyalty_distribution/')\n",
    "# print(y)\n",
    "print(np.sum(np.argmax(probs_s, 1) == ys) / len(val_dst))\n",
    "print(np.sum(np.argmax(probs_t, 1) == ys) / len(val_dst))\n",
    "print(np.sum(np.argmax(probs_t, 1) == np.argmax(probs_s, 1)) / len(val_dst))\n",
    "dist = distance.jensenshannon(probs_s.T, probs_t.T)\n",
    "dist[np.isnan(dist)] = 0 if np.sum(np.abs(probs_s[np.where(np.isnan(dist))] - probs_t[np.where(np.isnan(dist))])) < 1e-6 else 1\n",
    "prob_loyalty = 1 - np.sqrt(dist)\n",
    "print(np.nanmean(prob_loyalty))\n",
    "# print(dist[1773])"
   ]
  },
  {
   "cell_type": "code",
   "execution_count": 12,
   "id": "2fddb456",
   "metadata": {},
   "outputs": [
    {
     "data": {
      "text/plain": [
       "<seaborn.axisgrid.FacetGrid at 0x7f588d861760>"
      ]
     },
     "execution_count": 12,
     "metadata": {},
     "output_type": "execute_result"
    },
    {
     "data": {
      "application/pdf": "[encoded data removed]",
      "text/plain": [
       "<Figure size 360x360 with 1 Axes>"
      ]
     },
     "metadata": {
      "needs_background": "light"
     },
     "output_type": "display_data"
    }
   ],
   "source": [
    "import seaborn as sns\n",
    "import matplotlib.pyplot as plt\n",
    "fig = sns.displot(prob_loyalty, kind='hist', color=sns.xkcd_rgb[\"yellow orange\"])\n",
    "# fig.set_xlim(0, 1)\n",
    "fig.set_xlabels('probability loyalty', fontsize=14)\n",
    "fig.set_ylabels('Number of Images', fontsize=14)\n",
    "# plt.savefig('prob_loyalty_distribution/prob_loyalty_cudfkd.pdf')\n",
    "# x_ticks = np.arange(0, 1.01, 0.2)\n",
    "# y_ticks = np.arange(0, 700, 100)\n",
    "# fig.set_xticklabels(x_ticks, fontsize=12)\n",
    "# fig.set_yticklabels(y_ticks, fontsize=12)\n"
   ]
  },
  {
   "cell_type": "markdown",
   "id": "12d1a1ba",
   "metadata": {},
   "source": [
    "### Other visualization Results\n",
    "The items for further visualization:\n",
    "- Difficulty visualization at different timestage.\n",
    "- Ablation study of $k$ and $N_{neg}$.\n",
    "- Error bar of AdaDFKD, CuDFKD, CMI, ADI and DAFL."
   ]
  },
  {
   "cell_type": "code",
   "execution_count": 26,
   "id": "56b2f354",
   "metadata": {},
   "outputs": [],
   "source": [
    "x = np.array(['1/5', '1/4', '1/3'])\n",
    "y = np.array(['2/3', '3/4', '4/5'])\n",
    "res2res_acc = np.array([[71.00, 71.22, 71.12], [70.81, 70.79, 70.68], [70.41, 70.52, 70.54]])\n",
    "res2res_agr = np.array([[85.88, 85.85, 85.64], [85.40, 85.14, 85.58], [83.77, 83.88, 83.67]])\n",
    "res2res_loyalty = np.array([[0.6659, 0.6777, 0.6751], [0.6684, 0.6624, 0.6682], [0.6469, 0.6500, 0.6467]])"
   ]
  },
  {
   "cell_type": "code",
   "execution_count": 14,
   "id": "91f13e5a",
   "metadata": {},
   "outputs": [
    {
     "data": {
      "application/pdf": "[encoded data removed]",
      "text/plain": [
       "<Figure size 432x288 with 2 Axes>"
      ]
     },
     "metadata": {
      "needs_background": "light"
     },
     "output_type": "display_data"
    }
   ],
   "source": [
    "if not os.path.exists('heatmaps/'):\n",
    "    os.mkdir('heatmaps/')\n",
    "fig1 = sns.heatmap(res2res_acc, xticklabels=x, yticklabels=y, annot=True, fmt='.2f', cmap='RdBu_r')\n",
    "plt.savefig('heatmaps/vgg_acc.pdf')"
   ]
  },
  {
   "cell_type": "code",
   "execution_count": 15,
   "id": "7d6f0b70",
   "metadata": {},
   "outputs": [
    {
     "data": {
      "application/pdf": "[encoded data removed]",
      "text/plain": [
       "<Figure size 432x288 with 2 Axes>"
      ]
     },
     "metadata": {
      "needs_background": "light"
     },
     "output_type": "display_data"
    }
   ],
   "source": [
    "fig2 = sns.heatmap(res2res_agr, xticklabels=x, yticklabels=y, annot=True, fmt='.2f', cmap='RdBu_r')\n",
    "plt.savefig('heatmaps/vgg_agg.pdf')"
   ]
  },
  {
   "cell_type": "code",
   "execution_count": 16,
   "id": "699d93c7",
   "metadata": {},
   "outputs": [
    {
     "data": {
      "application/pdf": "[encoded data removed]",
      "text/plain": [
       "<Figure size 432x288 with 2 Axes>"
      ]
     },
     "metadata": {
      "needs_background": "light"
     },
     "output_type": "display_data"
    }
   ],
   "source": [
    "fig3 = sns.heatmap(res2res_loyalty, xticklabels=x, yticklabels=y, annot=True, fmt='.4f', cmap='RdBu_r')\n",
    "plt.savefig('heatmaps/vgg_loyalty.pdf')"
   ]
  },
  {
   "cell_type": "code",
   "execution_count": 17,
   "id": "5e5db220",
   "metadata": {},
   "outputs": [],
   "source": [
    "vgg2res_acc = np.array([[64.74, 64.65, 64.77], [64.66, 64.66, 64.10], [63.95, 64.00, 63.81]])\n",
    "vgg2res_agr = np.array([[68.91, 68.88, 68.93], [68.80, 68.85, 68.54], [68.58, 68.19, 68.31]])\n",
    "vgg2res_loyalty = np.array([[0.5067, 0.5058, 0.5072], [0.5059, 0.5054, 0.5069], [0.5001, 0.4961, 0.5021]])"
   ]
  },
  {
   "cell_type": "code",
   "execution_count": 18,
   "id": "7bd13364",
   "metadata": {},
   "outputs": [
    {
     "data": {
      "application/pdf": "[encoded data removed]",
      "text/plain": [
       "<Figure size 432x288 with 2 Axes>"
      ]
     },
     "metadata": {
      "needs_background": "light"
     },
     "output_type": "display_data"
    }
   ],
   "source": [
    "sns.heatmap(vgg2res_acc, xticklabels=x, yticklabels=y, annot=True, fmt='.2f', cmap='RdBu_r')\n",
    "plt.savefig('heatmaps/wrn_acc.pdf')"
   ]
  },
  {
   "cell_type": "code",
   "execution_count": 19,
   "id": "52c4ac9a",
   "metadata": {},
   "outputs": [
    {
     "data": {
      "application/pdf": "[encoded data removed]",
      "text/plain": [
       "<Figure size 432x288 with 2 Axes>"
      ]
     },
     "metadata": {
      "needs_background": "light"
     },
     "output_type": "display_data"
    }
   ],
   "source": [
    "sns.heatmap(vgg2res_agr, xticklabels=x, yticklabels=y, annot=True, fmt='.2f', cmap='RdBu_r')\n",
    "plt.savefig('heatmaps/wrn_agg.pdf')"
   ]
  },
  {
   "cell_type": "code",
   "execution_count": 20,
   "id": "79740b5f",
   "metadata": {},
   "outputs": [
    {
     "data": {
      "application/pdf": "[encoded data removed]",
      "text/plain": [
       "<Figure size 432x288 with 2 Axes>"
      ]
     },
     "metadata": {
      "needs_background": "light"
     },
     "output_type": "display_data"
    }
   ],
   "source": [
    "sns.heatmap(vgg2res_loyalty, xticklabels=x, yticklabels=y, annot=True, fmt='.4f', cmap='RdBu_r')\n",
    "plt.savefig('heatmaps/wrn_loyalty.pdf')"
   ]
  },
  {
   "cell_type": "code",
   "execution_count": 106,
   "id": "3c521bc6",
   "metadata": {
    "scrolled": true
   },
   "outputs": [
    {
     "data": {
      "text/plain": [
       "DCGAN_Generator_CIFAR10(\n",
       "  (project): Sequential(\n",
       "    (0): Flatten()\n",
       "    (1): Linear(in_features=512, out_features=16384, bias=True)\n",
       "  )\n",
       "  (main): Sequential(\n",
       "    (0): BatchNorm2d(256, eps=1e-05, momentum=0.1, affine=True, track_running_stats=True)\n",
       "    (1): Upsample(scale_factor=2.0, mode=nearest)\n",
       "    (2): Conv2d(256, 128, kernel_size=(3, 3), stride=(1, 1), padding=(1, 1), bias=False)\n",
       "    (3): BatchNorm2d(128, eps=1e-05, momentum=0.1, affine=True, track_running_stats=True)\n",
       "    (4): LeakyReLU(negative_slope=0.2, inplace=True)\n",
       "    (5): Upsample(scale_factor=2.0, mode=nearest)\n",
       "    (6): Conv2d(128, 64, kernel_size=(3, 3), stride=(1, 1), padding=(1, 1), bias=False)\n",
       "    (7): BatchNorm2d(64, eps=1e-05, momentum=0.1, affine=True, track_running_stats=True)\n",
       "    (8): LeakyReLU(negative_slope=0.2, inplace=True)\n",
       "    (9): Conv2d(64, 3, kernel_size=(3, 3), stride=(1, 1), padding=(1, 1))\n",
       "    (10): Sigmoid()\n",
       "  )\n",
       ")"
      ]
     },
     "execution_count": 106,
     "metadata": {},
     "output_type": "execute_result"
    }
   ],
   "source": [
    "ckpt = torch.load('../checkpoints/datafree-cudfkd/cifar100-wrn40_2-wrn40_1--cudfkd_L2_line33_d.pth', map_location='cpu')\n",
    "student.load_state_dict(ckpt['state_dict'])\n",
    "student.eval()\n",
    "g = datafree.models.generator.DCGAN_Generator_CIFAR10(nz=512, ngf=64, nc=3, img_size=32, d=2, cond=False)\n",
    "g = prepare_model(g)\n",
    "g.load_state_dict(ckpt['G_0'])\n",
    "g.eval()"
   ]
  },
  {
   "cell_type": "code",
   "execution_count": 107,
   "id": "9b832c02",
   "metadata": {},
   "outputs": [
    {
     "name": "stdout",
     "output_type": "stream",
     "text": [
      "[0.8088592  0.78664553 2.6981955  ... 2.2897153  1.3273132  1.1442074 ]\n",
      "[13 85 81 ... 23 98 67]\n"
     ]
    }
   ],
   "source": [
    "from torchvision.utils import make_grid,save_image\n",
    "diff = []\n",
    "now_epoch = 300\n",
    "kl_metric = datafree.criterions.KLDiv(T=2., reduction='none')\n",
    "with torch.no_grad():\n",
    "    for i in range(20):\n",
    "        z = torch.randn(1024, 512).to(gpu)\n",
    "        x = g(z)\n",
    "        t_out = teacher(normalizer(x))\n",
    "        s_out = student(normalizer(x))\n",
    "        kl_diff = kl_metric(t_out, s_out).sum(1).detach().cpu().numpy()\n",
    "        diff.append(kl_diff)\n",
    "    \n",
    "diff = np.concatenate(diff)\n",
    "print(diff)\n",
    "with torch.no_grad():\n",
    "    z = torch.randn(1024, 512).to(gpu)\n",
    "    img = make_grid(x, nrow=16)\n",
    "    t_out = teacher(normalizer(x))\n",
    "    pesudo_label = t_out.argmax(1).cpu().numpy()\n",
    "    print(pesudo_label)\n",
    "\n",
    "#     save_image(img, 'difficulty/epoch_{}.jpg'.format(now_epoch))"
   ]
  },
  {
   "cell_type": "code",
   "execution_count": 108,
   "id": "d9697082",
   "metadata": {},
   "outputs": [
    {
     "name": "stdout",
     "output_type": "stream",
     "text": [
      "0 torch.Size([9, 3, 32, 32])\n",
      "1 torch.Size([8, 3, 32, 32])\n",
      "2 torch.Size([8, 3, 32, 32])\n",
      "3 torch.Size([13, 3, 32, 32])\n",
      "4 torch.Size([13, 3, 32, 32])\n",
      "5 torch.Size([18, 3, 32, 32])\n",
      "6 torch.Size([10, 3, 32, 32])\n",
      "7 torch.Size([15, 3, 32, 32])\n",
      "8 torch.Size([8, 3, 32, 32])\n",
      "9 torch.Size([13, 3, 32, 32])\n",
      "10 torch.Size([12, 3, 32, 32])\n",
      "11 torch.Size([14, 3, 32, 32])\n",
      "12 torch.Size([12, 3, 32, 32])\n",
      "13 torch.Size([15, 3, 32, 32])\n",
      "14 torch.Size([10, 3, 32, 32])\n",
      "15 torch.Size([6, 3, 32, 32])\n",
      "16 torch.Size([5, 3, 32, 32])\n",
      "17 torch.Size([13, 3, 32, 32])\n",
      "18 torch.Size([3, 3, 32, 32])\n",
      "19 torch.Size([8, 3, 32, 32])\n",
      "20 torch.Size([7, 3, 32, 32])\n",
      "21 torch.Size([7, 3, 32, 32])\n",
      "22 torch.Size([15, 3, 32, 32])\n",
      "23 torch.Size([12, 3, 32, 32])\n",
      "24 torch.Size([5, 3, 32, 32])\n",
      "25 torch.Size([5, 3, 32, 32])\n",
      "26 torch.Size([12, 3, 32, 32])\n",
      "27 torch.Size([15, 3, 32, 32])\n",
      "28 torch.Size([10, 3, 32, 32])\n",
      "29 torch.Size([21, 3, 32, 32])\n",
      "30 torch.Size([13, 3, 32, 32])\n",
      "31 torch.Size([13, 3, 32, 32])\n",
      "32 torch.Size([5, 3, 32, 32])\n",
      "33 torch.Size([11, 3, 32, 32])\n",
      "34 torch.Size([13, 3, 32, 32])\n",
      "35 torch.Size([14, 3, 32, 32])\n",
      "36 torch.Size([11, 3, 32, 32])\n",
      "37 torch.Size([12, 3, 32, 32])\n",
      "38 torch.Size([14, 3, 32, 32])\n",
      "39 torch.Size([4, 3, 32, 32])\n",
      "40 torch.Size([8, 3, 32, 32])\n",
      "41 torch.Size([4, 3, 32, 32])\n",
      "42 torch.Size([16, 3, 32, 32])\n",
      "43 torch.Size([14, 3, 32, 32])\n",
      "44 torch.Size([14, 3, 32, 32])\n",
      "45 torch.Size([4, 3, 32, 32])\n",
      "46 torch.Size([7, 3, 32, 32])\n",
      "47 torch.Size([16, 3, 32, 32])\n",
      "48 torch.Size([3, 3, 32, 32])\n",
      "49 torch.Size([14, 3, 32, 32])\n",
      "50 torch.Size([6, 3, 32, 32])\n",
      "51 torch.Size([8, 3, 32, 32])\n",
      "52 torch.Size([9, 3, 32, 32])\n",
      "53 torch.Size([13, 3, 32, 32])\n",
      "54 torch.Size([6, 3, 32, 32])\n",
      "55 torch.Size([13, 3, 32, 32])\n",
      "56 torch.Size([9, 3, 32, 32])\n",
      "57 torch.Size([11, 3, 32, 32])\n",
      "58 torch.Size([5, 3, 32, 32])\n",
      "59 torch.Size([9, 3, 32, 32])\n",
      "60 torch.Size([1, 3, 32, 32])\n",
      "61 torch.Size([9, 3, 32, 32])\n",
      "62 torch.Size([4, 3, 32, 32])\n",
      "63 torch.Size([6, 3, 32, 32])\n",
      "64 torch.Size([14, 3, 32, 32])\n",
      "65 torch.Size([19, 3, 32, 32])\n",
      "66 torch.Size([9, 3, 32, 32])\n",
      "67 torch.Size([11, 3, 32, 32])\n",
      "68 torch.Size([7, 3, 32, 32])\n",
      "69 torch.Size([10, 3, 32, 32])\n",
      "70 torch.Size([8, 3, 32, 32])\n",
      "71 torch.Size([5, 3, 32, 32])\n",
      "72 torch.Size([12, 3, 32, 32])\n",
      "73 torch.Size([7, 3, 32, 32])\n",
      "74 torch.Size([6, 3, 32, 32])\n",
      "75 torch.Size([2, 3, 32, 32])\n",
      "76 torch.Size([14, 3, 32, 32])\n",
      "77 torch.Size([15, 3, 32, 32])\n",
      "78 torch.Size([15, 3, 32, 32])\n",
      "79 torch.Size([15, 3, 32, 32])\n",
      "80 torch.Size([5, 3, 32, 32])\n",
      "81 torch.Size([14, 3, 32, 32])\n",
      "82 torch.Size([8, 3, 32, 32])\n",
      "83 torch.Size([11, 3, 32, 32])\n",
      "84 torch.Size([11, 3, 32, 32])\n",
      "85 torch.Size([6, 3, 32, 32])\n",
      "86 torch.Size([17, 3, 32, 32])\n",
      "87 torch.Size([9, 3, 32, 32])\n",
      "88 torch.Size([12, 3, 32, 32])\n",
      "89 torch.Size([9, 3, 32, 32])\n",
      "90 torch.Size([12, 3, 32, 32])\n",
      "91 torch.Size([9, 3, 32, 32])\n",
      "92 torch.Size([19, 3, 32, 32])\n",
      "93 torch.Size([10, 3, 32, 32])\n",
      "94 torch.Size([9, 3, 32, 32])\n",
      "95 torch.Size([8, 3, 32, 32])\n",
      "96 torch.Size([8, 3, 32, 32])\n",
      "97 torch.Size([14, 3, 32, 32])\n",
      "98 torch.Size([12, 3, 32, 32])\n",
      "99 torch.Size([11, 3, 32, 32])\n"
     ]
    }
   ],
   "source": [
    "xs = []\n",
    "for i in range(num_classes):\n",
    "#     print(i)\n",
    "    xs.append(x[pesudo_label == i].cpu())\n",
    "    print(i, xs[i].shape)\n",
    "    if xs[i].shape[0] > 0:\n",
    "        img = make_grid(xs[i], nrow=1)\n",
    "        save_image(img, 'difficulty/img_epoch_{}_{}.jpg'.format(now_epoch, i))"
   ]
  },
  {
   "cell_type": "code",
   "execution_count": 21,
   "id": "14dd7070",
   "metadata": {},
   "outputs": [
    {
     "data": {
      "text/plain": [
       "<seaborn.axisgrid.FacetGrid at 0x7fbce51f3d30>"
      ]
     },
     "execution_count": 21,
     "metadata": {},
     "output_type": "execute_result"
    },
    {
     "data": {
      "application/pdf": "[encoded data removed]",
      "text/plain": [
       "<Figure size 360x360 with 1 Axes>"
      ]
     },
     "metadata": {
      "needs_background": "light"
     },
     "output_type": "display_data"
    }
   ],
   "source": [
    "sns.displot(diff)"
   ]
  },
  {
   "cell_type": "code",
   "execution_count": 21,
   "id": "67b9eacb",
   "metadata": {},
   "outputs": [],
   "source": [
    "wrn2wrn_acc = np.array([[75.24, 75.16, 75.31], [75.11, 75.21, 75.22], [75.01, 74.89, 75.01]])\n",
    "wrn2wrn_agr = np.array([[85.26, 86.06, 86.11], [85.40, 85.14, 85.58], [85.38, 85.53, 85.57]])\n",
    "wrn2wrn_loyalty = np.array([[0.6472, 0.6476, 0.6476], [0.6433, 0.6437, 0.6447], [0.6393, 0.6403, 0.6407]])\n"
   ]
  },
  {
   "cell_type": "code",
   "execution_count": 22,
   "id": "aebc327d",
   "metadata": {},
   "outputs": [
    {
     "data": {
      "application/pdf": "[encoded data removed]",
      "text/plain": [
       "<Figure size 432x288 with 2 Axes>"
      ]
     },
     "metadata": {
      "needs_background": "light"
     },
     "output_type": "display_data"
    }
   ],
   "source": [
    "sns.heatmap(wrn2wrn_acc, xticklabels=x, yticklabels=y, annot=True, fmt='.2f', cmap='RdBu_r')\n",
    "plt.savefig('heatmaps/res_acc.pdf')"
   ]
  },
  {
   "cell_type": "code",
   "execution_count": 23,
   "id": "40d0fdaa",
   "metadata": {},
   "outputs": [
    {
     "data": {
      "application/pdf": "[encoded data removed]",
      "text/plain": [
       "<Figure size 432x288 with 2 Axes>"
      ]
     },
     "metadata": {
      "needs_background": "light"
     },
     "output_type": "display_data"
    }
   ],
   "source": [
    "sns.heatmap(wrn2wrn_agr, xticklabels=x, yticklabels=y, annot=True, fmt='.2f', cmap='RdBu_r')\n",
    "plt.savefig('heatmaps/res_agg.pdf')"
   ]
  },
  {
   "cell_type": "code",
   "execution_count": 25,
   "id": "908b4930",
   "metadata": {},
   "outputs": [
    {
     "data": {
      "application/pdf": "[encoded data removed]",
      "text/plain": [
       "<Figure size 432x288 with 2 Axes>"
      ]
     },
     "metadata": {
      "needs_background": "light"
     },
     "output_type": "display_data"
    }
   ],
   "source": [
    "sns.heatmap(wrn2wrn_loyalty, xticklabels=x, yticklabels=y, annot=True, fmt='.4f', cmap='RdBu_r')\n",
    "plt.savefig('heatmaps/res_loyalty.pdf')"
   ]
  },
  {
   "cell_type": "code",
   "execution_count": 7,
   "id": "4d6452ab",
   "metadata": {},
   "outputs": [
    {
     "data": {
      "text/html": [
       "<div>\n",
       "<style scoped>\n",
       "    .dataframe tbody tr th:only-of-type {\n",
       "        vertical-align: middle;\n",
       "    }\n",
       "\n",
       "    .dataframe tbody tr th {\n",
       "        vertical-align: top;\n",
       "    }\n",
       "\n",
       "    .dataframe thead th {\n",
       "        text-align: right;\n",
       "    }\n",
       "</style>\n",
       "<table border=\"1\" class=\"dataframe\">\n",
       "  <thead>\n",
       "    <tr style=\"text-align: right;\">\n",
       "      <th></th>\n",
       "      <th>grad_of_adv</th>\n",
       "      <th>acc@1</th>\n",
       "      <th>agree@1</th>\n",
       "      <th>loyalty</th>\n",
       "    </tr>\n",
       "  </thead>\n",
       "  <tbody>\n",
       "    <tr>\n",
       "      <th>0</th>\n",
       "      <td>0.5</td>\n",
       "      <td>75.10</td>\n",
       "      <td>85.52</td>\n",
       "      <td>0.6412</td>\n",
       "    </tr>\n",
       "    <tr>\n",
       "      <th>1</th>\n",
       "      <td>1.0</td>\n",
       "      <td>75.31</td>\n",
       "      <td>86.11</td>\n",
       "      <td>0.6476</td>\n",
       "    </tr>\n",
       "    <tr>\n",
       "      <th>2</th>\n",
       "      <td>1.5</td>\n",
       "      <td>75.50</td>\n",
       "      <td>86.22</td>\n",
       "      <td>0.6528</td>\n",
       "    </tr>\n",
       "    <tr>\n",
       "      <th>3</th>\n",
       "      <td>2.0</td>\n",
       "      <td>75.50</td>\n",
       "      <td>86.52</td>\n",
       "      <td>0.6568</td>\n",
       "    </tr>\n",
       "    <tr>\n",
       "      <th>4</th>\n",
       "      <td>2.5</td>\n",
       "      <td>75.51</td>\n",
       "      <td>86.30</td>\n",
       "      <td>0.6571</td>\n",
       "    </tr>\n",
       "    <tr>\n",
       "      <th>5</th>\n",
       "      <td>3.0</td>\n",
       "      <td>75.60</td>\n",
       "      <td>86.52</td>\n",
       "      <td>0.6576</td>\n",
       "    </tr>\n",
       "    <tr>\n",
       "      <th>6</th>\n",
       "      <td>3.5</td>\n",
       "      <td>75.73</td>\n",
       "      <td>86.32</td>\n",
       "      <td>0.6575</td>\n",
       "    </tr>\n",
       "    <tr>\n",
       "      <th>7</th>\n",
       "      <td>4.0</td>\n",
       "      <td>75.67</td>\n",
       "      <td>86.11</td>\n",
       "      <td>0.6572</td>\n",
       "    </tr>\n",
       "  </tbody>\n",
       "</table>\n",
       "</div>"
      ],
      "text/plain": [
       "   grad_of_adv  acc@1  agree@1  loyalty\n",
       "0          0.5  75.10    85.52   0.6412\n",
       "1          1.0  75.31    86.11   0.6476\n",
       "2          1.5  75.50    86.22   0.6528\n",
       "3          2.0  75.50    86.52   0.6568\n",
       "4          2.5  75.51    86.30   0.6571\n",
       "5          3.0  75.60    86.52   0.6576\n",
       "6          3.5  75.73    86.32   0.6575\n",
       "7          4.0  75.67    86.11   0.6572"
      ]
     },
     "execution_count": 7,
     "metadata": {},
     "output_type": "execute_result"
    }
   ],
   "source": [
    "import pandas as pd\n",
    "grad_range = np.array([0.5, 1, 1.5, 2, 2.5, 3, 3.5, 4])\n",
    "adv_acc = np.array([75.10, 75.31, 75.50, 75.50, 75.51, 75.60, 75.73, 75.67])\n",
    "adv_agg = np.array([85.52, 86.11, 86.22, 86.52, 86.30, 86.52, 86.32, 86.11])\n",
    "adv_loyalty = np.array([0.6412, 0.6476, 0.6528, 0.6568, 0.6571, 0.6576, 0.6575, 0.6572])\n",
    "if not os.path.exists('grad_adv/'):\n",
    "    os.mkdir('grad_adv/')\n",
    "\n",
    "res_dict = {\n",
    "    'grad_of_adv': grad_range,\n",
    "    'acc@1': adv_acc,\n",
    "    'agree@1': adv_agg,\n",
    "    'loyalty': adv_loyalty\n",
    "}\n",
    "\n",
    "final_df = pd.DataFrame(res_dict)\n",
    "final_df"
   ]
  },
  {
   "cell_type": "code",
   "execution_count": 109,
   "id": "dd18d300",
   "metadata": {},
   "outputs": [],
   "source": [
    "# now_epoch = 300\n",
    "global_iter = now_epoch * 400\n",
    "lamda = datafree.datasets.utils.lambda_scheduler(1.0, global_iter, alpha=0.00002)\n",
    "g,v = datafree.datasets.utils.curr_v(l=torch.FloatTensor(diff), lamda=lamda, spl_type='log')"
   ]
  },
  {
   "cell_type": "code",
   "execution_count": 110,
   "id": "c678e2df",
   "metadata": {},
   "outputs": [],
   "source": [
    "if not os.path.exists('difficulty/'):\n",
    "    os.mkdir('difficulty/')\n",
    "diffs = dict()\n",
    "diffs['epoch@{}'.format(now_epoch)] = v.numpy() * diff\n",
    "# sns.displot(v.numpy() * diff, kind='kde')\n",
    "# plt.savefig('difficulty/difficulty_at_{}.pdf'.format(now_epoch))"
   ]
  },
  {
   "cell_type": "code",
   "execution_count": 51,
   "id": "46a889bb",
   "metadata": {},
   "outputs": [
    {
     "data": {
      "text/plain": [
       "DCGAN_Generator_CIFAR10(\n",
       "  (project): Sequential(\n",
       "    (0): Flatten()\n",
       "    (1): Linear(in_features=512, out_features=16384, bias=True)\n",
       "  )\n",
       "  (main): Sequential(\n",
       "    (0): BatchNorm2d(256, eps=1e-05, momentum=0.1, affine=True, track_running_stats=True)\n",
       "    (1): Upsample(scale_factor=2.0, mode=nearest)\n",
       "    (2): Conv2d(256, 128, kernel_size=(3, 3), stride=(1, 1), padding=(1, 1), bias=False)\n",
       "    (3): BatchNorm2d(128, eps=1e-05, momentum=0.1, affine=True, track_running_stats=True)\n",
       "    (4): LeakyReLU(negative_slope=0.2, inplace=True)\n",
       "    (5): Upsample(scale_factor=2.0, mode=nearest)\n",
       "    (6): Conv2d(128, 64, kernel_size=(3, 3), stride=(1, 1), padding=(1, 1), bias=False)\n",
       "    (7): BatchNorm2d(64, eps=1e-05, momentum=0.1, affine=True, track_running_stats=True)\n",
       "    (8): LeakyReLU(negative_slope=0.2, inplace=True)\n",
       "    (9): Conv2d(64, 3, kernel_size=(3, 3), stride=(1, 1), padding=(1, 1))\n",
       "    (10): Sigmoid()\n",
       "  )\n",
       ")"
      ]
     },
     "execution_count": 51,
     "metadata": {},
     "output_type": "execute_result"
    }
   ],
   "source": [
    "# ckpt = torch.load('../checkpoints/datafree-', map_location='cpu')\n",
    "# student.load_state_dict(ckpt['state_dict'])\n",
    "# student.eval()\n",
    "g = datafree.models.generator.DCGAN_Generator_CIFAR10(nz=512, ngf=64, nc=3, img_size=32, d=2, cond=False)\n",
    "g = prepare_model(g)\n",
    "g.load_state_dict(ckpt['G'])\n",
    "g.eval()"
   ]
  },
  {
   "cell_type": "code",
   "execution_count": 58,
   "id": "a52f415f",
   "metadata": {},
   "outputs": [
    {
     "name": "stdout",
     "output_type": "stream",
     "text": [
      "tensor([5.6766, 5.4825, 5.6135,  ..., 5.6633, 5.6543, 5.6680])\n"
     ]
    }
   ],
   "source": [
    "import torch.nn.functional as F\n",
    "ds = []\n",
    "with torch.no_grad():\n",
    "    for i in range(50):\n",
    "        z = torch.randn(256, 512).to(gpu)\n",
    "        x = g(z)\n",
    "#         print(x.device)\n",
    "        t_out, t_feat = teacher(normalizer(x), return_features=True)\n",
    "        s_out, s_feat = student(normalizer(x), return_features=True)\n",
    "        normalized_t, normalized_s = F.normalize(t_feat, dim=-1), F.normalize(s_feat, dim=-1)\n",
    "    \n",
    "        d = torch.mm(normalized_t, normalized_s.T)\n",
    "        label = torch.arange(len(t_feat), dtype=torch.long, device=gpu)\n",
    "        loss_infonce = F.cross_entropy(d / 0.07, label, reduction='none')\n",
    "#         print(loss_infonce.shape)\n",
    "        ds.append(loss_infonce.cpu())\n",
    "#         n = d.size(0)\n",
    "#         # Div(t, s) at feature map space.\n",
    "#         p = torch.softmax(d / tau, 1)\n",
    "print(torch.cat(ds))"
   ]
  },
  {
   "cell_type": "code",
   "execution_count": 65,
   "id": "9beb7890",
   "metadata": {},
   "outputs": [],
   "source": [
    "import seaborn as sns\n",
    "ds_250 = torch.cat(ds)\n",
    "# sns.displot(torch.cat(ds), kind='kde')"
   ]
  },
  {
   "cell_type": "code",
   "execution_count": 75,
   "id": "7e68bf60",
   "metadata": {},
   "outputs": [
    {
     "data": {
      "text/plain": [
       "DCGAN_Generator_CIFAR10(\n",
       "  (project): Sequential(\n",
       "    (0): Flatten()\n",
       "    (1): Linear(in_features=512, out_features=16384, bias=True)\n",
       "  )\n",
       "  (main): Sequential(\n",
       "    (0): BatchNorm2d(256, eps=1e-05, momentum=0.1, affine=True, track_running_stats=True)\n",
       "    (1): Upsample(scale_factor=2.0, mode=nearest)\n",
       "    (2): Conv2d(256, 128, kernel_size=(3, 3), stride=(1, 1), padding=(1, 1), bias=False)\n",
       "    (3): BatchNorm2d(128, eps=1e-05, momentum=0.1, affine=True, track_running_stats=True)\n",
       "    (4): LeakyReLU(negative_slope=0.2, inplace=True)\n",
       "    (5): Upsample(scale_factor=2.0, mode=nearest)\n",
       "    (6): Conv2d(128, 64, kernel_size=(3, 3), stride=(1, 1), padding=(1, 1), bias=False)\n",
       "    (7): BatchNorm2d(64, eps=1e-05, momentum=0.1, affine=True, track_running_stats=True)\n",
       "    (8): LeakyReLU(negative_slope=0.2, inplace=True)\n",
       "    (9): Conv2d(64, 3, kernel_size=(3, 3), stride=(1, 1), padding=(1, 1))\n",
       "    (10): Sigmoid()\n",
       "  )\n",
       ")"
      ]
     },
     "execution_count": 75,
     "metadata": {},
     "output_type": "execute_result"
    }
   ],
   "source": [
    "ckpt = torch.load('../checkpoints/datafree-improved_cudfkd/cifar10-resnet34-resnet18-10.pth', map_location='cpu')\n",
    "student.load_state_dict(ckpt['state_dict'])\n",
    "g = datafree.models.generator.DCGAN_Generator_CIFAR10(nz=512, ngf=64, nc=3, img_size=32, d=2, cond=False)\n",
    "g = prepare_model(g)\n",
    "g.load_state_dict(ckpt['G'])\n",
    "g.eval()"
   ]
  },
  {
   "cell_type": "code",
   "execution_count": 76,
   "id": "26b996a9",
   "metadata": {},
   "outputs": [
    {
     "name": "stdout",
     "output_type": "stream",
     "text": [
      "tensor([5.2373, 6.9553, 6.0906,  ..., 5.9348, 4.1549, 4.7906])\n"
     ]
    }
   ],
   "source": [
    "import torch.nn.functional as F\n",
    "ds = []\n",
    "with torch.no_grad():\n",
    "    for i in range(50):\n",
    "        z = torch.randn(256, 512).to(gpu)\n",
    "        x = g(z)\n",
    "#         print(x.device)\n",
    "        t_out, t_feat = teacher(normalizer(x), return_features=True)\n",
    "        s_out, s_feat = student(normalizer(x), return_features=True)\n",
    "        normalized_t, normalized_s = F.normalize(t_feat, dim=-1), F.normalize(s_feat, dim=-1)\n",
    "    \n",
    "        d = torch.mm(normalized_t, normalized_s.T)\n",
    "        label = torch.arange(len(t_feat), dtype=torch.long, device=gpu)\n",
    "        loss_infonce = F.cross_entropy(d / 0.07, label, reduction='none')\n",
    "#         print(loss_infonce.shape)\n",
    "        ds.append(loss_infonce.cpu())\n",
    "#         n = d.size(0)\n",
    "#         # Div(t, s) at feature map space.\n",
    "#         p = torch.softmax(d / tau, 1)\n",
    "ds_10 = torch.cat(ds)\n",
    "print(ds_10)"
   ]
  },
  {
   "cell_type": "code",
   "execution_count": 77,
   "id": "1d91c548",
   "metadata": {},
   "outputs": [
    {
     "data": {
      "text/plain": [
       "<seaborn.axisgrid.FacetGrid at 0x7f7ae816e160>"
      ]
     },
     "execution_count": 77,
     "metadata": {},
     "output_type": "execute_result"
    },
    {
     "data": {
      "application/pdf": "[encoded data removed]",
      "text/plain": [
       "<Figure size 455.25x360 with 1 Axes>"
      ]
     },
     "metadata": {
      "needs_background": "light"
     },
     "output_type": "display_data"
    }
   ],
   "source": [
    "ds_dict = {\n",
    "    'epoch@10': ds_10,\n",
    "    'epoch@250': ds_250,\n",
    "}\n",
    "sns.displot(ds_dict, kind='kde')"
   ]
  },
  {
   "cell_type": "code",
   "execution_count": 119,
   "id": "70d8fe61",
   "metadata": {},
   "outputs": [
    {
     "name": "stdout",
     "output_type": "stream",
     "text": [
      "[0.72593755 1.0575736  1.4061728  ... 0.61674047 1.2157195  0.48502705]\n",
      "[81 70 89 ...  1 19 25]\n"
     ]
    }
   ],
   "source": [
    "diff = []\n",
    "now_epoch = 10\n",
    "kl_metric = datafree.criterions.KLDiv(T=2., reduction='none')\n",
    "with torch.no_grad():\n",
    "    for i in range(20):\n",
    "        z = torch.randn(1024, 512).to(gpu)\n",
    "        x = g(z)\n",
    "        t_out = teacher(normalizer(x))\n",
    "        s_out = student(normalizer(x))\n",
    "        kl_diff = kl_metric(t_out, s_out).sum(1).detach().cpu().numpy()\n",
    "        diff.append(kl_diff)\n",
    "    \n",
    "diff = np.concatenate(diff)\n",
    "print(diff)\n",
    "with torch.no_grad():\n",
    "    z = torch.randn(1024, 512).to(gpu)\n",
    "    x = g(z)\n",
    "    img = make_grid(x, nrow=16)\n",
    "    t_out = teacher(normalizer(x))\n",
    "    pesudo_label = t_out.argmax(1).cpu().numpy()\n",
    "    print(pesudo_label)\n",
    "    save_image(img, 'difficulty/epoch_{}.jpg'.format(now_epoch))"
   ]
  },
  {
   "cell_type": "code",
   "execution_count": 120,
   "id": "8cefe238",
   "metadata": {},
   "outputs": [
    {
     "name": "stdout",
     "output_type": "stream",
     "text": [
      "0 torch.Size([3, 3, 32, 32])\n",
      "1 torch.Size([23, 3, 32, 32])\n",
      "2 torch.Size([2, 3, 32, 32])\n",
      "3 torch.Size([8, 3, 32, 32])\n",
      "4 torch.Size([12, 3, 32, 32])\n",
      "5 torch.Size([12, 3, 32, 32])\n",
      "6 torch.Size([6, 3, 32, 32])\n",
      "7 torch.Size([21, 3, 32, 32])\n",
      "8 torch.Size([17, 3, 32, 32])\n",
      "9 torch.Size([11, 3, 32, 32])\n",
      "10 torch.Size([9, 3, 32, 32])\n",
      "11 torch.Size([7, 3, 32, 32])\n",
      "12 torch.Size([10, 3, 32, 32])\n",
      "13 torch.Size([11, 3, 32, 32])\n",
      "14 torch.Size([11, 3, 32, 32])\n",
      "15 torch.Size([8, 3, 32, 32])\n",
      "16 torch.Size([7, 3, 32, 32])\n",
      "17 torch.Size([6, 3, 32, 32])\n",
      "18 torch.Size([4, 3, 32, 32])\n",
      "19 torch.Size([12, 3, 32, 32])\n",
      "20 torch.Size([2, 3, 32, 32])\n",
      "21 torch.Size([1, 3, 32, 32])\n",
      "22 torch.Size([5, 3, 32, 32])\n",
      "23 torch.Size([14, 3, 32, 32])\n",
      "24 torch.Size([8, 3, 32, 32])\n",
      "25 torch.Size([8, 3, 32, 32])\n",
      "26 torch.Size([13, 3, 32, 32])\n",
      "27 torch.Size([6, 3, 32, 32])\n",
      "28 torch.Size([13, 3, 32, 32])\n",
      "29 torch.Size([17, 3, 32, 32])\n",
      "30 torch.Size([18, 3, 32, 32])\n",
      "31 torch.Size([8, 3, 32, 32])\n",
      "32 torch.Size([8, 3, 32, 32])\n",
      "33 torch.Size([8, 3, 32, 32])\n",
      "34 torch.Size([14, 3, 32, 32])\n",
      "35 torch.Size([7, 3, 32, 32])\n",
      "36 torch.Size([14, 3, 32, 32])\n",
      "37 torch.Size([17, 3, 32, 32])\n",
      "38 torch.Size([6, 3, 32, 32])\n",
      "39 torch.Size([2, 3, 32, 32])\n",
      "40 torch.Size([9, 3, 32, 32])\n",
      "41 torch.Size([13, 3, 32, 32])\n",
      "42 torch.Size([13, 3, 32, 32])\n",
      "43 torch.Size([13, 3, 32, 32])\n",
      "44 torch.Size([7, 3, 32, 32])\n",
      "45 torch.Size([9, 3, 32, 32])\n",
      "46 torch.Size([5, 3, 32, 32])\n",
      "47 torch.Size([13, 3, 32, 32])\n",
      "48 torch.Size([19, 3, 32, 32])\n",
      "49 torch.Size([17, 3, 32, 32])\n",
      "50 torch.Size([6, 3, 32, 32])\n",
      "51 torch.Size([5, 3, 32, 32])\n",
      "52 torch.Size([1, 3, 32, 32])\n",
      "53 torch.Size([4, 3, 32, 32])\n",
      "54 torch.Size([16, 3, 32, 32])\n",
      "55 torch.Size([13, 3, 32, 32])\n",
      "56 torch.Size([3, 3, 32, 32])\n",
      "57 torch.Size([22, 3, 32, 32])\n",
      "58 torch.Size([3, 3, 32, 32])\n",
      "59 torch.Size([6, 3, 32, 32])\n",
      "60 torch.Size([11, 3, 32, 32])\n",
      "61 torch.Size([9, 3, 32, 32])\n",
      "62 torch.Size([12, 3, 32, 32])\n",
      "63 torch.Size([5, 3, 32, 32])\n",
      "64 torch.Size([9, 3, 32, 32])\n",
      "65 torch.Size([13, 3, 32, 32])\n",
      "66 torch.Size([12, 3, 32, 32])\n",
      "67 torch.Size([9, 3, 32, 32])\n",
      "68 torch.Size([1, 3, 32, 32])\n",
      "69 torch.Size([15, 3, 32, 32])\n",
      "70 torch.Size([31, 3, 32, 32])\n",
      "71 torch.Size([13, 3, 32, 32])\n",
      "72 torch.Size([21, 3, 32, 32])\n",
      "73 torch.Size([5, 3, 32, 32])\n",
      "74 torch.Size([14, 3, 32, 32])\n",
      "75 torch.Size([6, 3, 32, 32])\n",
      "76 torch.Size([9, 3, 32, 32])\n",
      "77 torch.Size([12, 3, 32, 32])\n",
      "78 torch.Size([13, 3, 32, 32])\n",
      "79 torch.Size([12, 3, 32, 32])\n",
      "80 torch.Size([7, 3, 32, 32])\n",
      "81 torch.Size([12, 3, 32, 32])\n",
      "82 torch.Size([14, 3, 32, 32])\n",
      "83 torch.Size([0, 3, 32, 32])\n",
      "84 torch.Size([6, 3, 32, 32])\n",
      "85 torch.Size([14, 3, 32, 32])\n",
      "86 torch.Size([17, 3, 32, 32])\n",
      "87 torch.Size([8, 3, 32, 32])\n",
      "88 torch.Size([13, 3, 32, 32])\n",
      "89 torch.Size([27, 3, 32, 32])\n",
      "90 torch.Size([2, 3, 32, 32])\n",
      "91 torch.Size([4, 3, 32, 32])\n",
      "92 torch.Size([9, 3, 32, 32])\n",
      "93 torch.Size([8, 3, 32, 32])\n",
      "94 torch.Size([7, 3, 32, 32])\n",
      "95 torch.Size([5, 3, 32, 32])\n",
      "96 torch.Size([9, 3, 32, 32])\n",
      "97 torch.Size([4, 3, 32, 32])\n",
      "98 torch.Size([20, 3, 32, 32])\n",
      "99 torch.Size([20, 3, 32, 32])\n"
     ]
    }
   ],
   "source": [
    "xs = []\n",
    "for i in range(num_classes):\n",
    "#     print(i)\n",
    "    xs.append(x[pesudo_label == i].cpu())\n",
    "    print(i, xs[i].shape)\n",
    "    if xs[i].shape[0] > 0:\n",
    "        img = make_grid(xs[i], nrow=1)\n",
    "        save_image(img, 'difficulty/img_epoch_{}_{}.jpg'.format(now_epoch, i))"
   ]
  },
  {
   "cell_type": "code",
   "execution_count": 121,
   "id": "52b1f976",
   "metadata": {},
   "outputs": [],
   "source": [
    "# now_epoch = 10\n",
    "global_iter = now_epoch * 400\n",
    "lamda = datafree.datasets.utils.lambda_scheduler(1.0, global_iter, alpha=0.00002)\n",
    "g,v = datafree.datasets.utils.curr_v(l=torch.FloatTensor(diff), lamda=lamda, spl_type='log')\n",
    "diffs['epoch@{}'.format(now_epoch)] = v.numpy() * diff"
   ]
  },
  {
   "cell_type": "code",
   "execution_count": 122,
   "id": "ba9d1f54",
   "metadata": {},
   "outputs": [
    {
     "name": "stdout",
     "output_type": "stream",
     "text": [
      "20480 20480\n"
     ]
    },
    {
     "data": {
      "text/plain": [
       "<seaborn.axisgrid.FacetGrid at 0x7f83a1047910>"
      ]
     },
     "execution_count": 122,
     "metadata": {},
     "output_type": "execute_result"
    },
    {
     "data": {
      "application/pdf": "[encoded data removed]",
      "text/plain": [
       "<Figure size 455x360 with 1 Axes>"
      ]
     },
     "metadata": {
      "needs_background": "light"
     },
     "output_type": "display_data"
    }
   ],
   "source": [
    "print(len(diffs['epoch@10']), len(diffs['epoch@300']))\n",
    "ax = sns.displot(diffs, kind='kde')\n",
    "ax.set_xlabels('Difficulty', fontsize=12)\n",
    "# plt.savefig('difficulty/difficulty_wrn402_wrn162_cifar100.pdf')"
   ]
  },
  {
   "cell_type": "code",
   "execution_count": 123,
   "id": "85b1b9d6",
   "metadata": {},
   "outputs": [],
   "source": [
    "res_acc_dict = {\n",
    "    'method': ['cudfkd', 'cudfkd', 'cudfkd', 'teacher', 'adi', 'adi', 'adi', 'dafl', 'dafl', 'dafl', 'cmi', 'cmi', 'cmi'],\n",
    "    'acc@1': [95.24, 95.28, 95.15, 95.70],\n",
    "    'agree@1': [98.20, 98.19, 98.09, 100.00],\n",
    "    'prob_loyalty': [0.8909, 0.8903, 0.8898, 1.00],\n",
    "}"
   ]
  },
  {
   "cell_type": "code",
   "execution_count": 38,
   "id": "35c582fe",
   "metadata": {},
   "outputs": [
    {
     "data": {
      "application/pdf": "[encoded data removed]",
      "text/plain": [
       "<Figure size 432x288 with 2 Axes>"
      ]
     },
     "metadata": {
      "needs_background": "light"
     },
     "output_type": "display_data"
    }
   ],
   "source": [
    "fig, ax1 = plt.subplots()\n",
    "width = 0.4\n",
    "x1_list = []\n",
    "x2_list = []\n",
    "for i in range(adv_acc.shape[0]):\n",
    "    x1_list.append(i)\n",
    "    x2_list.append(i + width)\n",
    "\n",
    "# b1 = sns.lineplot(data=final_df, x=\"grad_of_adv\", y=\"acc@1\",color=sns.xkcd_rgb[\"pale red\"] )  \n",
    "b1, = plt.plot(final_df[\"grad_of_adv\"], final_df[\"acc@1\"], '-ro', label='Accuracy@1')\n",
    "\n",
    "# b1 = ax1.bar(x1_list, adv_acc, width=width, label='Acc@1', color=sns.xkcd_rgb[\"pale red\"], tick_label=grad_range)\n",
    "ax2 = ax1.twinx()\n",
    "b2, = plt.plot(final_df[\"grad_of_adv\"], final_df[\"agree@1\"], '-bo', label='Agreement@1')\n",
    "# plt.grid('off')\n",
    "# b2 = sns.lineplot(data=final_df, x=\"grad_of_adv\", y=\"agree@1\", color=sns.xkcd_rgb[\"denim blue\"])\n",
    "# b2 = ax2.bar(x2_list, adv_agg, width=width, label='Agree@1', color=sns.xkcd_rgb[\"denim blue\"], tick_label=grad_range)\n",
    "ax1.set_xlabel('grad of adv', fontsize=12)\n",
    "ax1.set_ylabel('Accuracy@1', fontsize=12)\n",
    "ax2.set_ylabel('Agreement@1', fontsize=12)\n",
    "ax1.set_ylim(74, 77)\n",
    "ax2.set_ylim(85, 87)\n",
    "axs = [b1, b2]\n",
    "lbs = [ax.get_label() for ax in axs]\n",
    "ax1.legend(axs, lbs)\n",
    "plt.savefig('grad_adv/acc_agg.pdf')\n",
    "# plt.legend(['a', 'b'])\n",
    "# plt.grid('off')"
   ]
  },
  {
   "cell_type": "code",
   "execution_count": 39,
   "id": "1e97fbb6",
   "metadata": {},
   "outputs": [
    {
     "data": {
      "application/pdf": "[encoded data removed]",
      "text/plain": [
       "<Figure size 432x288 with 1 Axes>"
      ]
     },
     "metadata": {
      "needs_background": "light"
     },
     "output_type": "display_data"
    }
   ],
   "source": [
    "plt.plot(final_df[\"grad_of_adv\"], final_df[\"loyalty\"], '-go', label=\"prob_loyalty\")\n",
    "plt.ylim(0.64, 0.66)\n",
    "x_ticks = final_df[\"grad_of_adv\"]\n",
    "y_ticks = np.arange(0.64, 0.66, 0.005)\n",
    "plt.xlabel('grad of adv', fontsize=14)\n",
    "plt.ylabel('probability loyalty', fontsize=14)\n",
    "plt.xticks(x_ticks, fontsize=12)\n",
    "plt.yticks(y_ticks, fontsize=12)\n",
    "plt.savefig('grad_adv/prob_loyalty.pdf')"
   ]
  },
  {
   "cell_type": "code",
   "execution_count": 25,
   "id": "6427a8cf",
   "metadata": {},
   "outputs": [],
   "source": [
    "curriculum_dict={\n",
    "    'method': ['teacher', 'None', 'hard', 'soft', 'log','teacher', 'None', 'hard', 'soft', 'log','teacher', 'None', 'hard', 'soft', 'log'],\n",
    "    'accuracy': [95.70, 93.24, 94.97, 95.01, 95.28, 100.00, 94.00, 97.71, 97.74, 98.13, 1.0000, 0.8202, 0.8813, 0.8786, 0.8909],\n",
    "    'metric': ['Acc@1','Acc@1','Acc@1','Acc@1','Acc@1','Agree@1','Agree@1','Agree@1','Agree@1','Agree@1','prob loyalty','prob loyalty','prob loyalty','prob loyalty','prob loyalty']\n",
    "}\n",
    "curr_df = pd.DataFrame(curriculum_dict)\n",
    "curr_df\n",
    "curr_dict={\n",
    "    'curriculum strategy': ['teacher', 'None', 'hard', 'soft', 'log'],\n",
    "    'Acc@1': [95.70, 93.24, 94.97, 95.01, 95.28],\n",
    "    'Agree@1': [100.00, 94.00, 97.71, 97.74, 98.13],\n",
    "    'probability loyalty': [1.0000, 0.8202, 0.8813, 0.8786, 0.8909]\n",
    "}\n",
    "curr_dfs = pd.DataFrame(curr_dict)\n",
    "\n",
    "if not os.path.exists('curr_strategy/'):\n",
    "    os.mkdir('curr_strategy/')"
   ]
  },
  {
   "cell_type": "code",
   "execution_count": 26,
   "id": "dcf5121e",
   "metadata": {},
   "outputs": [
    {
     "data": {
      "application/pdf": "[encoded data removed]",
      "text/plain": [
       "<Figure size 432x288 with 2 Axes>"
      ]
     },
     "metadata": {
      "needs_background": "light"
     },
     "output_type": "display_data"
    }
   ],
   "source": [
    "fig, ax1 = plt.subplots()\n",
    "width = 0.4\n",
    "x1_list = []\n",
    "x2_list = []\n",
    "for i in range(5):\n",
    "    x1_list.append(i)\n",
    "    x2_list.append(i + width)\n",
    "\n",
    "# b1 = sns.lineplot(data=final_df, x=\"grad_of_adv\", y=\"acc@1\",color=sns.xkcd_rgb[\"pale red\"] )  \n",
    "# b1, = plt.plot(final_df[\"grad_of_adv\"], final_df[\"acc@1\"], '-ro', label='Accuracy@1')\n",
    "# b1 = sns.barplot(data=curriculum_dict, x='method', y='accuracy', color=sns.xkcd_rgb[\"pale red\"])\n",
    "b1 = ax1.bar(x1_list, curr_df['accuracy'][:5], width=width, label='Acc@1', color=sns.xkcd_rgb[\"pale red\"], tick_label=curriculum_dict['method'][:5])\n",
    "ax2 = ax1.twinx()\n",
    "# b2, = plt.plot(final_df[\"grad_of_adv\"], final_df[\"agree@1\"], '-bo', label='Agreement@1')\n",
    "# plt.grid('off')\n",
    "# b2 = sns.lineplot(data=final_df, x=\"grad_of_adv\", y=\"agree@1\", color=sns.xkcd_rgb[\"denim blue\"])\n",
    "b2 = ax2.bar(x2_list, curr_df['accuracy'][5:10], width=width, label='Agree@1', color=sns.xkcd_rgb[\"denim blue\"], tick_label=curriculum_dict['method'][:5])\n",
    "# ax2 = ax1.twinx()\n",
    "# b2 = sns.barplot(data=curriculum_dict, x='method', y='Agree@1', color=sns.xkcd_rgb[\"denim blue\"])\n",
    "ax1.set_xlabel('Curriculum strategy', fontsize=14)\n",
    "ax1.set_ylabel('Accuracy@1', fontsize=14)\n",
    "ax2.set_ylabel('Agreement@1', fontsize=14)\n",
    "ax1.set_ylim(93, 96)\n",
    "ax2.set_ylim(92, 101)\n",
    "# ax2.set_yticklabels(np.arange(92, 101, 2))\n",
    "axs = [b1, b2]\n",
    "lbs = [ax.get_label() for ax in axs]\n",
    "# ax1.legend()\n",
    "ax1.legend(axs, lbs)\n",
    "plt.savefig('curr_strategy/acc_agg.pdf')"
   ]
  },
  {
   "cell_type": "code",
   "execution_count": 22,
   "id": "dd53e82e",
   "metadata": {},
   "outputs": [
    {
     "data": {
      "application/pdf": "[encoded data removed]",
      "text/plain": [
       "<Figure size 432x288 with 1 Axes>"
      ]
     },
     "metadata": {
      "needs_background": "light"
     },
     "output_type": "display_data"
    }
   ],
   "source": [
    "# plt.bar(x1_list, curr_df['accuracy'][-5:], width=width, label='prob_loyalty', color=sns.xkcd_rgb[\"dark green\"], tick_label=['teacher', 'None', 'hard', 'soft', 'log'])\n",
    "ax = sns.barplot(data=curr_dfs, x='curriculum strategy', y='probability loyalty', color=sns.xkcd_rgb[\"green\"])\n",
    "plt.ylim(0.8, 1.01)\n",
    "# x_ticks = final_df[\"grad_of_adv\"]\n",
    "# x_ticks = ['teacher', 'None', 'hard', 'soft', 'log']\n",
    "# y_ticks = np.arange(0.8, 1.01, 0.05)\n",
    "plt.xlabel('curriculum strategy', fontsize=14)\n",
    "plt.ylabel('probability loyalty', fontsize=14)\n",
    "# plt.xticks(x_ticks, fontsize=12)\n",
    "# plt.yticks(y_ticks, fontsize=12)\n",
    "# plt.legend()\n",
    "plt.savefig('curr_strategy/prob_loyalty.pdf')"
   ]
  },
  {
   "cell_type": "code",
   "execution_count": 47,
   "id": "52eda08d",
   "metadata": {},
   "outputs": [],
   "source": [
    "if not os.path.exists('T/'):\n",
    "    os.mkdir('T/')\n",
    "T_dict = {\n",
    "    'T': [4, 5, 8, 10, 12, 15, 18, 20],\n",
    "    'accuracy@1': [94.96, 95.01,94.94,94.93,94.97, 95.03, 94.94, 95.28],\n",
    "    'agreement@1': [97.86, 97.64, 97.79, 97.63, 97.60, 97.69, 97.74, 98.20],\n",
    "    'prob_loyalty': [0.8777, 0.8774, 0.8807, 0.8739, 0.8771, 0.8801, 0.8793, 0.8909]\n",
    "    \n",
    "}\n"
   ]
  },
  {
   "cell_type": "code",
   "execution_count": 50,
   "id": "c00abbf4",
   "metadata": {},
   "outputs": [
    {
     "data": {
      "application/pdf": "[encoded data removed]",
      "text/plain": [
       "<Figure size 432x288 with 2 Axes>"
      ]
     },
     "metadata": {
      "needs_background": "light"
     },
     "output_type": "display_data"
    }
   ],
   "source": [
    "fig, ax1 = plt.subplots()\n",
    "width = 0.4\n",
    "x1_list = []\n",
    "x2_list = []\n",
    "for i in range(adv_acc.shape[0]):\n",
    "    x1_list.append(i)\n",
    "    x2_list.append(i + width)\n",
    "\n",
    "# b1 = sns.lineplot(data=final_df, x=\"grad_of_adv\", y=\"acc@1\",color=sns.xkcd_rgb[\"pale red\"] )  \n",
    "b1, = plt.plot(T_dict[\"T\"], T_dict['accuracy@1'], '-ro', label='Accuracy@1')\n",
    "\n",
    "# b1 = ax1.bar(x1_list, adv_acc, width=width, label='Acc@1', color=sns.xkcd_rgb[\"pale red\"], tick_label=grad_range)\n",
    "ax2 = ax1.twinx()\n",
    "b2, = plt.plot(T_dict[\"T\"], T_dict['agreement@1'], '-bo', label='Agreement@1')\n",
    "# plt.grid('off')\n",
    "# b2 = sns.lineplot(data=final_df, x=\"grad_of_adv\", y=\"agree@1\", color=sns.xkcd_rgb[\"denim blue\"])\n",
    "# b2 = ax2.bar(x2_list, adv_agg, width=width, label='Agree@1', color=sns.xkcd_rgb[\"denim blue\"], tick_label=grad_range)\n",
    "ax1.set_xlabel('T', fontsize=12)\n",
    "ax1.set_ylabel('Accuracy@1', fontsize=12)\n",
    "ax2.set_ylabel('Agreement@1', fontsize=12)\n",
    "ax1.set_ylim(94, 95.5)\n",
    "ax2.set_ylim(97, 99)\n",
    "axs = [b1, b2]\n",
    "lbs = [ax.get_label() for ax in axs]\n",
    "ax1.legend(axs, lbs)\n",
    "plt.savefig('T/acc_agg.pdf')"
   ]
  },
  {
   "cell_type": "code",
   "execution_count": 54,
   "id": "36d5a48a",
   "metadata": {},
   "outputs": [
    {
     "data": {
      "application/pdf": "[encoded data removed]",
      "text/plain": [
       "<Figure size 432x288 with 1 Axes>"
      ]
     },
     "metadata": {
      "needs_background": "light"
     },
     "output_type": "display_data"
    }
   ],
   "source": [
    "plt.plot(T_dict[\"T\"], T_dict[\"prob_loyalty\"], '-go', label=\"prob_loyalty\")\n",
    "plt.ylim(0.87, 0.9)\n",
    "x_ticks = np.arange(4, 21, 4)\n",
    "y_ticks = np.arange(0.87, 0.9, 0.005)\n",
    "plt.xlabel('T', fontsize=14)\n",
    "plt.ylabel('probability loyalty', fontsize=14)\n",
    "plt.xticks(x_ticks, fontsize=12)\n",
    "plt.yticks(y_ticks, fontsize=12)\n",
    "plt.savefig('T/prob_loyalty.pdf')"
   ]
  },
  {
   "cell_type": "code",
   "execution_count": 50,
   "id": "586559ac",
   "metadata": {},
   "outputs": [],
   "source": [
    "if not os.path.exists('lambda_0/'):\n",
    "    os.mkdir('lambda_0/')\n",
    "lambda_0_dict = {\n",
    "    'lambda_0': [2, 2.2, 2.5, 2.8],\n",
    "    'accuracy@1': [93.34,93.24,93.17,93.10],\n",
    "    'agreement@1': [94.15, 94.02, 93.92, 93.97],\n",
    "    'loyalty': [0.8183, 0.8176, 0.8173, 0.8170],\n",
    "    'curriculum': ['logarithm', 'logarithm', 'logarithm', 'logarithm']\n",
    "}\n",
    "\n"
   ]
  },
  {
   "cell_type": "code",
   "execution_count": 52,
   "id": "701b42ac",
   "metadata": {},
   "outputs": [
    {
     "data": {
      "application/pdf": "[encoded data removed]",
      "text/plain": [
       "<Figure size 432x288 with 2 Axes>"
      ]
     },
     "metadata": {
      "needs_background": "light"
     },
     "output_type": "display_data"
    }
   ],
   "source": [
    "fig, ax1 = plt.subplots()\n",
    "# width = 0.4\n",
    "# x1_list = []\n",
    "# x2_list = []\n",
    "# for i in range(adv_acc.shape[0]):\n",
    "#     x1_list.append(i)\n",
    "#     x2_list.append(i + width)\n",
    "\n",
    "# b1 = sns.lineplot(data=final_df, x=\"grad_of_adv\", y=\"acc@1\",color=sns.xkcd_rgb[\"pale red\"] )  \n",
    "b1, = plt.plot(lambda_0_dict[\"lambda_0\"], lambda_0_dict['accuracy@1'], '-ro', label='Accuracy@1')\n",
    "\n",
    "# b1 = ax1.bar(x1_list, adv_acc, width=width, label='Acc@1', color=sns.xkcd_rgb[\"pale red\"], tick_label=grad_range)\n",
    "ax2 = ax1.twinx()\n",
    "b2, = plt.plot(lambda_0_dict[\"lambda_0\"], lambda_0_dict['agreement@1'], '-bo', label='Agreement@1')\n",
    "# plt.grid('off')\n",
    "# b2 = sns.lineplot(data=final_df, x=\"grad_of_adv\", y=\"agree@1\", color=sns.xkcd_rgb[\"denim blue\"])\n",
    "# b2 = ax2.bar(x2_list, adv_agg, width=width, label='Agree@1', color=sns.xkcd_rgb[\"denim blue\"], tick_label=grad_range)\n",
    "ax1.set_xlabel('lambda_0', fontsize=12)\n",
    "ax1.set_ylabel('Accuracy@1', fontsize=12)\n",
    "ax2.set_ylabel('Agreement@1', fontsize=12)\n",
    "ax1.set_ylim(93, 93.5)\n",
    "ax2.set_ylim(93.8, 94.2)\n",
    "axs = [b1, b2]\n",
    "lbs = [ax.get_label() for ax in axs]\n",
    "ax1.legend(axs, lbs)\n",
    "plt.savefig('lambda_0/acc_agg.pdf')"
   ]
  },
  {
   "cell_type": "code",
   "execution_count": 53,
   "id": "371357ce",
   "metadata": {
    "scrolled": true
   },
   "outputs": [
    {
     "data": {
      "application/pdf": "[encoded data removed]",
      "text/plain": [
       "<Figure size 432x288 with 1 Axes>"
      ]
     },
     "metadata": {
      "needs_background": "light"
     },
     "output_type": "display_data"
    }
   ],
   "source": [
    "plt.plot(lambda_0_dict[\"lambda_0\"], lambda_0_dict[\"loyalty\"], '-go', label=\"prob_loyalty\")\n",
    "plt.ylim(0.815, 0.82)\n",
    "x_ticks = np.arange(2, 3, 0.2)\n",
    "y_ticks = np.arange(0.815, 0.82, 0.001)\n",
    "plt.xlabel('lambda_0', fontsize=14)\n",
    "plt.ylabel('probability loyalty', fontsize=14)\n",
    "plt.xticks(x_ticks, fontsize=12)\n",
    "plt.yticks(y_ticks, fontsize=12)\n",
    "plt.savefig('lambda_0/prob_loyalty.pdf')"
   ]
  },
  {
   "cell_type": "code",
   "execution_count": 6,
   "id": "ca4a31ae",
   "metadata": {},
   "outputs": [
    {
     "data": {
      "text/html": [
       "<div>\n",
       "<style scoped>\n",
       "    .dataframe tbody tr th:only-of-type {\n",
       "        vertical-align: middle;\n",
       "    }\n",
       "\n",
       "    .dataframe tbody tr th {\n",
       "        vertical-align: top;\n",
       "    }\n",
       "\n",
       "    .dataframe thead th {\n",
       "        text-align: right;\n",
       "    }\n",
       "</style>\n",
       "<table border=\"1\" class=\"dataframe\">\n",
       "  <thead>\n",
       "    <tr style=\"text-align: right;\">\n",
       "      <th></th>\n",
       "      <th>k</th>\n",
       "      <th>accuracy@1</th>\n",
       "      <th>agreement@1</th>\n",
       "      <th>prob_loyalty</th>\n",
       "    </tr>\n",
       "  </thead>\n",
       "  <tbody>\n",
       "    <tr>\n",
       "      <th>0</th>\n",
       "      <td>0.60</td>\n",
       "      <td>92.96</td>\n",
       "      <td>95.10</td>\n",
       "      <td>0.8392</td>\n",
       "    </tr>\n",
       "    <tr>\n",
       "      <th>1</th>\n",
       "      <td>0.65</td>\n",
       "      <td>93.01</td>\n",
       "      <td>94.93</td>\n",
       "      <td>0.8362</td>\n",
       "    </tr>\n",
       "    <tr>\n",
       "      <th>2</th>\n",
       "      <td>0.70</td>\n",
       "      <td>92.78</td>\n",
       "      <td>94.95</td>\n",
       "      <td>0.8369</td>\n",
       "    </tr>\n",
       "    <tr>\n",
       "      <th>3</th>\n",
       "      <td>0.75</td>\n",
       "      <td>92.85</td>\n",
       "      <td>95.15</td>\n",
       "      <td>0.8371</td>\n",
       "    </tr>\n",
       "    <tr>\n",
       "      <th>4</th>\n",
       "      <td>0.80</td>\n",
       "      <td>93.09</td>\n",
       "      <td>95.19</td>\n",
       "      <td>0.8397</td>\n",
       "    </tr>\n",
       "    <tr>\n",
       "      <th>5</th>\n",
       "      <td>0.85</td>\n",
       "      <td>92.94</td>\n",
       "      <td>94.85</td>\n",
       "      <td>0.8356</td>\n",
       "    </tr>\n",
       "    <tr>\n",
       "      <th>6</th>\n",
       "      <td>0.90</td>\n",
       "      <td>93.15</td>\n",
       "      <td>95.17</td>\n",
       "      <td>0.8375</td>\n",
       "    </tr>\n",
       "    <tr>\n",
       "      <th>7</th>\n",
       "      <td>0.95</td>\n",
       "      <td>92.97</td>\n",
       "      <td>95.25</td>\n",
       "      <td>0.8386</td>\n",
       "    </tr>\n",
       "    <tr>\n",
       "      <th>8</th>\n",
       "      <td>1.00</td>\n",
       "      <td>93.05</td>\n",
       "      <td>95.35</td>\n",
       "      <td>0.8389</td>\n",
       "    </tr>\n",
       "  </tbody>\n",
       "</table>\n",
       "</div>"
      ],
      "text/plain": [
       "      k  accuracy@1  agreement@1  prob_loyalty\n",
       "0  0.60       92.96        95.10        0.8392\n",
       "1  0.65       93.01        94.93        0.8362\n",
       "2  0.70       92.78        94.95        0.8369\n",
       "3  0.75       92.85        95.15        0.8371\n",
       "4  0.80       93.09        95.19        0.8397\n",
       "5  0.85       92.94        94.85        0.8356\n",
       "6  0.90       93.15        95.17        0.8375\n",
       "7  0.95       92.97        95.25        0.8386\n",
       "8  1.00       93.05        95.35        0.8389"
      ]
     },
     "execution_count": 6,
     "metadata": {},
     "output_type": "execute_result"
    }
   ],
   "source": [
    "if not os.path.exists('k/'):\n",
    "    os.mkdir('k/')\n",
    "k_dict = {\n",
    "    'k': [0.6, 0.65, 0.7, 0.75, 0.8, 0.85, 0.9, 0.95, 1.0],\n",
    "    'accuracy@1': [92.96, 93.01,92.78,92.85, 93.09, 92.94, 93.15, 92.97, 93.05],\n",
    "    'agreement@1': [95.10, 94.93, 94.95, 95.15, 95.19, 94.85, 95.17, 95.25, 95.35],\n",
    "    'prob_loyalty': [0.8392, 0.8362, 0.8369, 0.8371, 0.8397, 0.8356, 0.8375, 0.8386, 0.8389]\n",
    "    \n",
    "}\n",
    "\n",
    "k_dict = pd.DataFrame(data=k_dict)\n",
    "k_dict"
   ]
  },
  {
   "cell_type": "code",
   "execution_count": 7,
   "id": "02e28e49",
   "metadata": {},
   "outputs": [
    {
     "data": {
      "text/html": [
       "<div>\n",
       "<style scoped>\n",
       "    .dataframe tbody tr th:only-of-type {\n",
       "        vertical-align: middle;\n",
       "    }\n",
       "\n",
       "    .dataframe tbody tr th {\n",
       "        vertical-align: top;\n",
       "    }\n",
       "\n",
       "    .dataframe thead th {\n",
       "        text-align: right;\n",
       "    }\n",
       "</style>\n",
       "<table border=\"1\" class=\"dataframe\">\n",
       "  <thead>\n",
       "    <tr style=\"text-align: right;\">\n",
       "      <th></th>\n",
       "      <th>Neg</th>\n",
       "      <th>accuracy@1</th>\n",
       "      <th>agreement@1</th>\n",
       "      <th>prob_loyalty</th>\n",
       "    </tr>\n",
       "  </thead>\n",
       "  <tbody>\n",
       "    <tr>\n",
       "      <th>0</th>\n",
       "      <td>4096</td>\n",
       "      <td>92.85</td>\n",
       "      <td>95.15</td>\n",
       "      <td>0.8371</td>\n",
       "    </tr>\n",
       "    <tr>\n",
       "      <th>1</th>\n",
       "      <td>6144</td>\n",
       "      <td>93.15</td>\n",
       "      <td>95.03</td>\n",
       "      <td>0.8387</td>\n",
       "    </tr>\n",
       "    <tr>\n",
       "      <th>2</th>\n",
       "      <td>8192</td>\n",
       "      <td>93.02</td>\n",
       "      <td>95.12</td>\n",
       "      <td>0.8378</td>\n",
       "    </tr>\n",
       "    <tr>\n",
       "      <th>3</th>\n",
       "      <td>16384</td>\n",
       "      <td>92.88</td>\n",
       "      <td>95.08</td>\n",
       "      <td>0.8379</td>\n",
       "    </tr>\n",
       "    <tr>\n",
       "      <th>4</th>\n",
       "      <td>24576</td>\n",
       "      <td>92.96</td>\n",
       "      <td>95.34</td>\n",
       "      <td>0.8415</td>\n",
       "    </tr>\n",
       "    <tr>\n",
       "      <th>5</th>\n",
       "      <td>32768</td>\n",
       "      <td>92.99</td>\n",
       "      <td>95.41</td>\n",
       "      <td>0.8383</td>\n",
       "    </tr>\n",
       "    <tr>\n",
       "      <th>6</th>\n",
       "      <td>49152</td>\n",
       "      <td>93.01</td>\n",
       "      <td>95.04</td>\n",
       "      <td>0.8369</td>\n",
       "    </tr>\n",
       "  </tbody>\n",
       "</table>\n",
       "</div>"
      ],
      "text/plain": [
       "     Neg  accuracy@1  agreement@1  prob_loyalty\n",
       "0   4096       92.85        95.15        0.8371\n",
       "1   6144       93.15        95.03        0.8387\n",
       "2   8192       93.02        95.12        0.8378\n",
       "3  16384       92.88        95.08        0.8379\n",
       "4  24576       92.96        95.34        0.8415\n",
       "5  32768       92.99        95.41        0.8383\n",
       "6  49152       93.01        95.04        0.8369"
      ]
     },
     "execution_count": 7,
     "metadata": {},
     "output_type": "execute_result"
    }
   ],
   "source": [
    "if not os.path.exists('Neg/'):\n",
    "    os.mkdir('Neg/')\n",
    "Neg_dict = {\n",
    "    'Neg': [4096, 6144, 8192, 16384, 24576, 32768, 49152],\n",
    "    'accuracy@1': [92.85, 93.15, 93.02, 92.88, 92.96, 92.99, 93.01],\n",
    "    'agreement@1': [95.15, 95.03, 95.12, 95.08, 95.34, 95.41, 95.04],\n",
    "    'prob_loyalty': [0.8371,0.8387, 0.8378, 0.8379, 0.8415, 0.8383, 0.8369]\n",
    "    \n",
    "}\n",
    "Neg_dict = pd.DataFrame(data=Neg_dict)\n",
    "Neg_dict"
   ]
  },
  {
   "cell_type": "code",
   "execution_count": 8,
   "id": "6bfc9221",
   "metadata": {},
   "outputs": [
    {
     "data": {
      "application/pdf": "[encoded data removed]",
      "text/plain": [
       "<Figure size 432x288 with 2 Axes>"
      ]
     },
     "metadata": {
      "needs_background": "light"
     },
     "output_type": "display_data"
    }
   ],
   "source": [
    "import matplotlib.pyplot as plt\n",
    "fig, ax1 = plt.subplots()\n",
    "# width = 0.4\n",
    "# x1_list = []\n",
    "# x2_list = []\n",
    "# for i in range(adv_acc.shape[0]):\n",
    "#     x1_list.append(i)\n",
    "#     x2_list.append(i + width)\n",
    "\n",
    "# b1 = sns.lineplot(data=final_df, x=\"grad_of_adv\", y=\"acc@1\",color=sns.xkcd_rgb[\"pale red\"] )  \n",
    "b1, = plt.plot(k_dict[\"k\"], k_dict['accuracy@1'], '-ro', label='Accuracy@1')\n",
    "\n",
    "# b1 = ax1.bar(x1_list, adv_acc, width=width, label='Acc@1', color=sns.xkcd_rgb[\"pale red\"], tick_label=grad_range)\n",
    "ax2 = ax1.twinx()\n",
    "b2, = plt.plot(k_dict[\"k\"], k_dict['agreement@1'], '-bo', label='Agreement@1')\n",
    "# plt.grid('off')\n",
    "# b2 = sns.lineplot(data=final_df, x=\"grad_of_adv\", y=\"agree@1\", color=sns.xkcd_rgb[\"denim blue\"])\n",
    "# b2 = ax2.bar(x2_list, adv_agg, width=width, label='Agree@1', color=sns.xkcd_rgb[\"denim blue\"], tick_label=grad_range)\n",
    "ax1.set_xlabel('k', fontsize=12)\n",
    "ax1.set_ylabel('Accuracy@1', fontsize=12)\n",
    "ax2.set_ylabel('Agreement@1', fontsize=12)\n",
    "ax1.set_ylim(92.5, 93.2)\n",
    "ax2.set_ylim(94.8, 95.5)\n",
    "axs = [b1, b2]\n",
    "lbs = [ax.get_label() for ax in axs]\n",
    "ax1.legend(axs, lbs)\n",
    "plt.savefig('k/acc_agg.pdf')"
   ]
  },
  {
   "cell_type": "code",
   "execution_count": 29,
   "id": "fbfbb8b8",
   "metadata": {},
   "outputs": [
    {
     "data": {
      "application/pdf": "[encoded data removed]",
      "text/plain": [
       "<Figure size 432x288 with 1 Axes>"
      ]
     },
     "metadata": {
      "needs_background": "light"
     },
     "output_type": "display_data"
    }
   ],
   "source": [
    "plt.plot(k_dict[\"k\"], k_dict[\"prob_loyalty\"], '-go', label=\"prob_loyalty\")\n",
    "plt.ylim(0.836, 0.84)\n",
    "x_ticks = np.arange(0.6, 1.05, 0.05)\n",
    "y_ticks = np.arange(0.835, 0.84, 0.001)\n",
    "plt.xlabel('k', fontsize=14)\n",
    "plt.ylabel('probability loyalty', fontsize=14)\n",
    "plt.xticks(x_ticks, fontsize=12)\n",
    "plt.yticks(y_ticks, fontsize=12)\n",
    "plt.savefig('k/prob_loyalty.pdf')"
   ]
  },
  {
   "cell_type": "code",
   "execution_count": 10,
   "id": "fe2695d7",
   "metadata": {},
   "outputs": [
    {
     "data": {
      "application/pdf": "[encoded data removed]",
      "text/plain": [
       "<Figure size 432x288 with 2 Axes>"
      ]
     },
     "metadata": {
      "needs_background": "light"
     },
     "output_type": "display_data"
    }
   ],
   "source": [
    "fig, ax1 = plt.subplots()\n",
    "# width = 0.4\n",
    "# x1_list = []\n",
    "# x2_list = []\n",
    "# for i in range(adv_acc.shape[0]):\n",
    "#     x1_list.append(i)\n",
    "#     x2_list.append(i + width)\n",
    "\n",
    "# b1 = sns.lineplot(data=final_df, x=\"grad_of_adv\", y=\"acc@1\",color=sns.xkcd_rgb[\"pale red\"] )  \n",
    "b1, = plt.plot(Neg_dict[\"Neg\"], Neg_dict['accuracy@1'], '-ro', label='Accuracy@1')\n",
    "\n",
    "# b1 = ax1.bar(x1_list, adv_acc, width=width, label='Acc@1', color=sns.xkcd_rgb[\"pale red\"], tick_label=grad_range)\n",
    "ax2 = ax1.twinx()\n",
    "b2, = plt.plot(Neg_dict[\"Neg\"], Neg_dict['agreement@1'], '-bo', label='Agreement@1')\n",
    "# plt.grid('off')\n",
    "# b2 = sns.lineplot(data=final_df, x=\"grad_of_adv\", y=\"agree@1\", color=sns.xkcd_rgb[\"denim blue\"])\n",
    "# b2 = ax2.bar(x2_list, adv_agg, width=width, label='Agree@1', color=sns.xkcd_rgb[\"denim blue\"], tick_label=grad_range)\n",
    "ax1.set_xlabel('Number of Negative samples', fontsize=12)\n",
    "ax1.set_ylabel('Accuracy@1', fontsize=12)\n",
    "ax2.set_ylabel('Agreement@1', fontsize=12)\n",
    "ax1.set_ylim(92.8, 93.2)\n",
    "ax2.set_ylim(95, 95.5)\n",
    "axs = [b1, b2]\n",
    "lbs = [ax.get_label() for ax in axs]\n",
    "ax1.legend(axs, lbs)\n",
    "plt.savefig('Neg/acc_agg.pdf')"
   ]
  },
  {
   "cell_type": "code",
   "execution_count": 26,
   "id": "a8a1e0c2",
   "metadata": {
    "scrolled": true
   },
   "outputs": [
    {
     "data": {
      "application/pdf": "[encoded data removed]",
      "text/plain": [
       "<Figure size 432x288 with 1 Axes>"
      ]
     },
     "metadata": {
      "needs_background": "light"
     },
     "output_type": "display_data"
    }
   ],
   "source": [
    "ax=plt.plot(Neg_dict[\"Neg\"], Neg_dict[\"prob_loyalty\"], '-go', label=\"prob_loyalty\")\n",
    "plt.ylim(0.835, 0.842)\n",
    "plt.xlim(4000, 50000)\n",
    "x_ticks = ['4096', '8192', '16384', '32768']\n",
    "y_ticks = np.arange(0.835, 0.842, 0.002)\n",
    "plt.xlabel('Number of Negative samples', fontsize=14)\n",
    "plt.xscale(\"log\", base=2)\n",
    "plt.ylabel('probability loyalty', fontsize=14)\n",
    "plt.xticks([4096, 8192, 16384, 32768], x_ticks, fontsize=12)\n",
    "plt.yticks(y_ticks, fontsize=12)\n",
    "plt.savefig('Neg/prob_loyalty.pdf')"
   ]
  },
  {
   "cell_type": "code",
   "execution_count": 3,
   "id": "b15e72de",
   "metadata": {},
   "outputs": [
    {
     "data": {
      "text/html": [
       "<div>\n",
       "<style scoped>\n",
       "    .dataframe tbody tr th:only-of-type {\n",
       "        vertical-align: middle;\n",
       "    }\n",
       "\n",
       "    .dataframe tbody tr th {\n",
       "        vertical-align: top;\n",
       "    }\n",
       "\n",
       "    .dataframe thead th {\n",
       "        text-align: right;\n",
       "    }\n",
       "</style>\n",
       "<table border=\"1\" class=\"dataframe\">\n",
       "  <thead>\n",
       "    <tr style=\"text-align: right;\">\n",
       "      <th></th>\n",
       "      <th>k</th>\n",
       "      <th>accuracy@1</th>\n",
       "      <th>agreement@1</th>\n",
       "      <th>prob_loyalty</th>\n",
       "    </tr>\n",
       "  </thead>\n",
       "  <tbody>\n",
       "    <tr>\n",
       "      <th>0</th>\n",
       "      <td>0.60</td>\n",
       "      <td>93.06</td>\n",
       "      <td>95.11</td>\n",
       "      <td>0.8368</td>\n",
       "    </tr>\n",
       "    <tr>\n",
       "      <th>1</th>\n",
       "      <td>0.65</td>\n",
       "      <td>92.76</td>\n",
       "      <td>94.92</td>\n",
       "      <td>0.8391</td>\n",
       "    </tr>\n",
       "    <tr>\n",
       "      <th>2</th>\n",
       "      <td>0.70</td>\n",
       "      <td>93.14</td>\n",
       "      <td>95.35</td>\n",
       "      <td>0.8373</td>\n",
       "    </tr>\n",
       "    <tr>\n",
       "      <th>3</th>\n",
       "      <td>0.75</td>\n",
       "      <td>93.02</td>\n",
       "      <td>95.12</td>\n",
       "      <td>0.8378</td>\n",
       "    </tr>\n",
       "    <tr>\n",
       "      <th>4</th>\n",
       "      <td>0.80</td>\n",
       "      <td>93.08</td>\n",
       "      <td>95.12</td>\n",
       "      <td>0.8378</td>\n",
       "    </tr>\n",
       "    <tr>\n",
       "      <th>5</th>\n",
       "      <td>0.85</td>\n",
       "      <td>92.80</td>\n",
       "      <td>94.93</td>\n",
       "      <td>0.8371</td>\n",
       "    </tr>\n",
       "    <tr>\n",
       "      <th>6</th>\n",
       "      <td>0.90</td>\n",
       "      <td>93.15</td>\n",
       "      <td>95.37</td>\n",
       "      <td>0.8376</td>\n",
       "    </tr>\n",
       "    <tr>\n",
       "      <th>7</th>\n",
       "      <td>0.95</td>\n",
       "      <td>92.85</td>\n",
       "      <td>95.17</td>\n",
       "      <td>0.8378</td>\n",
       "    </tr>\n",
       "    <tr>\n",
       "      <th>8</th>\n",
       "      <td>1.00</td>\n",
       "      <td>92.73</td>\n",
       "      <td>94.97</td>\n",
       "      <td>0.8386</td>\n",
       "    </tr>\n",
       "  </tbody>\n",
       "</table>\n",
       "</div>"
      ],
      "text/plain": [
       "      k  accuracy@1  agreement@1  prob_loyalty\n",
       "0  0.60       93.06        95.11        0.8368\n",
       "1  0.65       92.76        94.92        0.8391\n",
       "2  0.70       93.14        95.35        0.8373\n",
       "3  0.75       93.02        95.12        0.8378\n",
       "4  0.80       93.08        95.12        0.8378\n",
       "5  0.85       92.80        94.93        0.8371\n",
       "6  0.90       93.15        95.37        0.8376\n",
       "7  0.95       92.85        95.17        0.8378\n",
       "8  1.00       92.73        94.97        0.8386"
      ]
     },
     "execution_count": 3,
     "metadata": {},
     "output_type": "execute_result"
    }
   ],
   "source": [
    "k_dict_8192 = {\n",
    "    'k': [0.6, 0.65, 0.7, 0.75, 0.8, 0.85, 0.9, 0.95, 1.0],\n",
    "    'accuracy@1': [93.06, 92.76,93.14,93.02, 93.08, 92.80, 93.15, 92.85, 92.73],\n",
    "    'agreement@1': [95.11, 94.92, 95.35, 95.12, 95.12, 94.93, 95.37, 95.17, 94.97],\n",
    "    'prob_loyalty': [0.8368, 0.8391, 0.8373, 0.8378, 0.8378, 0.8371, 0.8376, 0.8378, 0.8386]\n",
    "    \n",
    "}\n",
    "\n",
    "k_dict_8192 = pd.DataFrame(data=k_dict_8192)\n",
    "k_dict_8192"
   ]
  },
  {
   "cell_type": "code",
   "execution_count": 4,
   "id": "47adf095",
   "metadata": {
    "scrolled": true
   },
   "outputs": [
    {
     "data": {
      "text/html": [
       "<div>\n",
       "<style scoped>\n",
       "    .dataframe tbody tr th:only-of-type {\n",
       "        vertical-align: middle;\n",
       "    }\n",
       "\n",
       "    .dataframe tbody tr th {\n",
       "        vertical-align: top;\n",
       "    }\n",
       "\n",
       "    .dataframe thead th {\n",
       "        text-align: right;\n",
       "    }\n",
       "</style>\n",
       "<table border=\"1\" class=\"dataframe\">\n",
       "  <thead>\n",
       "    <tr style=\"text-align: right;\">\n",
       "      <th></th>\n",
       "      <th>N_neg</th>\n",
       "      <th>k</th>\n",
       "      <th>hard</th>\n",
       "      <th>s_nce</th>\n",
       "      <th>Acc1</th>\n",
       "      <th>Agree1</th>\n",
       "      <th>Lp</th>\n",
       "    </tr>\n",
       "  </thead>\n",
       "  <tbody>\n",
       "    <tr>\n",
       "      <th>5</th>\n",
       "      <td>16384.0</td>\n",
       "      <td>0.8</td>\n",
       "      <td>0.1</td>\n",
       "      <td>0.05</td>\n",
       "      <td>66.49</td>\n",
       "      <td>71.58</td>\n",
       "      <td>0.5360</td>\n",
       "    </tr>\n",
       "    <tr>\n",
       "      <th>0</th>\n",
       "      <td>16384.0</td>\n",
       "      <td>0.8</td>\n",
       "      <td>0.1</td>\n",
       "      <td>0.10</td>\n",
       "      <td>67.02</td>\n",
       "      <td>72.07</td>\n",
       "      <td>0.5395</td>\n",
       "    </tr>\n",
       "    <tr>\n",
       "      <th>1</th>\n",
       "      <td>16384.0</td>\n",
       "      <td>0.8</td>\n",
       "      <td>0.1</td>\n",
       "      <td>0.15</td>\n",
       "      <td>66.42</td>\n",
       "      <td>71.37</td>\n",
       "      <td>0.5372</td>\n",
       "    </tr>\n",
       "    <tr>\n",
       "      <th>4</th>\n",
       "      <td>16384.0</td>\n",
       "      <td>0.8</td>\n",
       "      <td>0.1</td>\n",
       "      <td>0.20</td>\n",
       "      <td>66.14</td>\n",
       "      <td>71.04</td>\n",
       "      <td>0.5385</td>\n",
       "    </tr>\n",
       "    <tr>\n",
       "      <th>3</th>\n",
       "      <td>16384.0</td>\n",
       "      <td>0.8</td>\n",
       "      <td>0.1</td>\n",
       "      <td>0.25</td>\n",
       "      <td>65.43</td>\n",
       "      <td>70.62</td>\n",
       "      <td>0.5333</td>\n",
       "    </tr>\n",
       "    <tr>\n",
       "      <th>2</th>\n",
       "      <td>16384.0</td>\n",
       "      <td>0.8</td>\n",
       "      <td>0.1</td>\n",
       "      <td>0.30</td>\n",
       "      <td>66.43</td>\n",
       "      <td>71.90</td>\n",
       "      <td>0.5419</td>\n",
       "    </tr>\n",
       "  </tbody>\n",
       "</table>\n",
       "</div>"
      ],
      "text/plain": [
       "     N_neg    k  hard  s_nce   Acc1  Agree1      Lp\n",
       "5  16384.0  0.8   0.1   0.05  66.49   71.58  0.5360\n",
       "0  16384.0  0.8   0.1   0.10  67.02   72.07  0.5395\n",
       "1  16384.0  0.8   0.1   0.15  66.42   71.37  0.5372\n",
       "4  16384.0  0.8   0.1   0.20  66.14   71.04  0.5385\n",
       "3  16384.0  0.8   0.1   0.25  65.43   70.62  0.5333\n",
       "2  16384.0  0.8   0.1   0.30  66.43   71.90  0.5419"
      ]
     },
     "execution_count": 4,
     "metadata": {},
     "output_type": "execute_result"
    }
   ],
   "source": [
    "import json\n",
    "import pandas as pd\n",
    "with open('res.json', 'r') as f:\n",
    "    lambda_dict = json.load(f)\n",
    "\n",
    "l_dict = {k:[v[0]]+v[5:10] for k,v in lambda_dict.items()}\n",
    "rel_dict = {k:v[:5] for k,v in lambda_dict.items()}\n",
    "l_dict = pd.DataFrame(data=l_dict)\n",
    "l_dict = l_dict.sort_values(by='s_nce')\n",
    "l_dict"
   ]
  },
  {
   "cell_type": "code",
   "execution_count": 5,
   "id": "c04884a5",
   "metadata": {
    "scrolled": true
   },
   "outputs": [
    {
     "data": {
      "text/html": [
       "<div>\n",
       "<style scoped>\n",
       "    .dataframe tbody tr th:only-of-type {\n",
       "        vertical-align: middle;\n",
       "    }\n",
       "\n",
       "    .dataframe tbody tr th {\n",
       "        vertical-align: top;\n",
       "    }\n",
       "\n",
       "    .dataframe thead th {\n",
       "        text-align: right;\n",
       "    }\n",
       "</style>\n",
       "<table border=\"1\" class=\"dataframe\">\n",
       "  <thead>\n",
       "    <tr style=\"text-align: right;\">\n",
       "      <th></th>\n",
       "      <th>N_neg</th>\n",
       "      <th>k</th>\n",
       "      <th>hard</th>\n",
       "      <th>s_nce</th>\n",
       "      <th>Acc1</th>\n",
       "      <th>Agree1</th>\n",
       "      <th>Lp</th>\n",
       "    </tr>\n",
       "  </thead>\n",
       "  <tbody>\n",
       "    <tr>\n",
       "      <th>3</th>\n",
       "      <td>16384.0</td>\n",
       "      <td>0.8</td>\n",
       "      <td>0.05</td>\n",
       "      <td>0.1</td>\n",
       "      <td>66.60</td>\n",
       "      <td>71.60</td>\n",
       "      <td>0.5404</td>\n",
       "    </tr>\n",
       "    <tr>\n",
       "      <th>0</th>\n",
       "      <td>16384.0</td>\n",
       "      <td>0.8</td>\n",
       "      <td>0.10</td>\n",
       "      <td>0.1</td>\n",
       "      <td>67.02</td>\n",
       "      <td>72.07</td>\n",
       "      <td>0.5395</td>\n",
       "    </tr>\n",
       "    <tr>\n",
       "      <th>2</th>\n",
       "      <td>16384.0</td>\n",
       "      <td>0.8</td>\n",
       "      <td>0.15</td>\n",
       "      <td>0.1</td>\n",
       "      <td>66.47</td>\n",
       "      <td>71.68</td>\n",
       "      <td>0.5370</td>\n",
       "    </tr>\n",
       "    <tr>\n",
       "      <th>4</th>\n",
       "      <td>16384.0</td>\n",
       "      <td>0.8</td>\n",
       "      <td>0.20</td>\n",
       "      <td>0.1</td>\n",
       "      <td>65.97</td>\n",
       "      <td>71.49</td>\n",
       "      <td>0.5364</td>\n",
       "    </tr>\n",
       "    <tr>\n",
       "      <th>1</th>\n",
       "      <td>16384.0</td>\n",
       "      <td>0.8</td>\n",
       "      <td>0.25</td>\n",
       "      <td>0.1</td>\n",
       "      <td>66.25</td>\n",
       "      <td>71.45</td>\n",
       "      <td>0.5337</td>\n",
       "    </tr>\n",
       "  </tbody>\n",
       "</table>\n",
       "</div>"
      ],
      "text/plain": [
       "     N_neg    k  hard  s_nce   Acc1  Agree1      Lp\n",
       "3  16384.0  0.8  0.05    0.1  66.60   71.60  0.5404\n",
       "0  16384.0  0.8  0.10    0.1  67.02   72.07  0.5395\n",
       "2  16384.0  0.8  0.15    0.1  66.47   71.68  0.5370\n",
       "4  16384.0  0.8  0.20    0.1  65.97   71.49  0.5364\n",
       "1  16384.0  0.8  0.25    0.1  66.25   71.45  0.5337"
      ]
     },
     "execution_count": 5,
     "metadata": {},
     "output_type": "execute_result"
    }
   ],
   "source": [
    "rel_dict = pd.DataFrame(data=rel_dict)\n",
    "rel_dict = rel_dict.sort_values(by='hard')\n",
    "rel_dict"
   ]
  },
  {
   "cell_type": "code",
   "execution_count": 6,
   "id": "fd5bc487",
   "metadata": {},
   "outputs": [],
   "source": [
    "import os\n",
    "if not os.path.exists('lambda/'):\n",
    "    os.mkdir('lambda/')\n",
    "    \n",
    "if not os.path.exists('lambda_rel/'):\n",
    "    os.mkdir('lambda_rel/')"
   ]
  },
  {
   "cell_type": "code",
   "execution_count": 9,
   "id": "2b6a4a17",
   "metadata": {},
   "outputs": [
    {
     "data": {
      "application/pdf": "[encoded data removed]",
      "text/plain": [
       "<Figure size 432x288 with 1 Axes>"
      ]
     },
     "metadata": {},
     "output_type": "display_data"
    }
   ],
   "source": [
    "import seaborn as sns\n",
    "sns.set()\n",
    "palette = sns.color_palette(\"mako_r\", 1)\n",
    "# palette = sns.xkcd_palette([\"yellow\", \"amber\", \"greyish\", \"faded green\", \"dusty purple\", \"red\", \"black\"])\n",
    "ax = sns.lineplot(data=l_dict, x='s_nce', y='Acc1', markers=\"-\", palette=palette)\n",
    "ax.set_xlabel('lambda', fontsize=12)\n",
    "ax.set_ylabel('Acc@1', fontsize=12)\n",
    "plt.savefig('lambda/acc1.pdf')"
   ]
  },
  {
   "cell_type": "code",
   "execution_count": 10,
   "id": "a2af6d63",
   "metadata": {},
   "outputs": [
    {
     "data": {
      "application/pdf": "[encoded data removed]",
      "text/plain": [
       "<Figure size 432x288 with 1 Axes>"
      ]
     },
     "metadata": {},
     "output_type": "display_data"
    }
   ],
   "source": [
    "import seaborn as sns\n",
    "sns.set()\n",
    "ax = sns.lineplot(data=l_dict, x='s_nce', y='Agree1', markers=True)\n",
    "ax.set_xlabel('lambda', fontsize=12)\n",
    "ax.set_ylabel('Agree@1', fontsize=12)\n",
    "plt.savefig('lambda/agree1.pdf')"
   ]
  },
  {
   "cell_type": "code",
   "execution_count": 11,
   "id": "4854d473",
   "metadata": {},
   "outputs": [
    {
     "data": {
      "application/pdf": "[encoded data removed]",
      "text/plain": [
       "<Figure size 432x288 with 1 Axes>"
      ]
     },
     "metadata": {},
     "output_type": "display_data"
    }
   ],
   "source": [
    "import seaborn as sns\n",
    "sns.set()\n",
    "ax = sns.lineplot(data=l_dict, x='s_nce', y='Lp', markers=\"-\")\n",
    "ax.set_xlabel('lambda', fontsize=12)\n",
    "ax.set_ylabel('Probability Loyalty', fontsize=12)\n",
    "plt.savefig('lambda/lp.pdf')"
   ]
  },
  {
   "cell_type": "code",
   "execution_count": 12,
   "id": "b90c3d0d",
   "metadata": {},
   "outputs": [
    {
     "data": {
      "application/pdf": "[encoded data removed]",
      "text/plain": [
       "<Figure size 432x288 with 1 Axes>"
      ]
     },
     "metadata": {},
     "output_type": "display_data"
    }
   ],
   "source": [
    "import seaborn as sns\n",
    "sns.set()\n",
    "palette = sns.color_palette(\"mako_r\", 1)\n",
    "# palette = sns.xkcd_palette([\"yellow\", \"amber\", \"greyish\", \"faded green\", \"dusty purple\", \"red\", \"black\"])\n",
    "ax = sns.lineplot(data=rel_dict, x='hard', y='Acc1', markers=\"-\", palette=palette)\n",
    "ax.set_xlabel('lambda_rel', fontsize=12)\n",
    "ax.set_ylabel('Acc@1', fontsize=12)\n",
    "plt.savefig('lambda_rel/acc1.pdf')"
   ]
  },
  {
   "cell_type": "code",
   "execution_count": 13,
   "id": "5d635d20",
   "metadata": {},
   "outputs": [
    {
     "data": {
      "application/pdf": "[encoded data removed]",
      "text/plain": [
       "<Figure size 432x288 with 1 Axes>"
      ]
     },
     "metadata": {},
     "output_type": "display_data"
    }
   ],
   "source": [
    "sns.set()\n",
    "palette = sns.color_palette(\"mako_r\", 1)\n",
    "# palette = sns.xkcd_palette([\"yellow\", \"amber\", \"greyish\", \"faded green\", \"dusty purple\", \"red\", \"black\"])\n",
    "ax = sns.lineplot(data=rel_dict, x='hard', y='Agree1', markers=\"-\", palette=palette)\n",
    "ax.set_xlabel('lambda_rel', fontsize=12)\n",
    "ax.set_ylabel('Agree@1', fontsize=12)\n",
    "plt.savefig('lambda_rel/agree1.pdf')"
   ]
  },
  {
   "cell_type": "code",
   "execution_count": 14,
   "id": "8428cd8c",
   "metadata": {},
   "outputs": [
    {
     "data": {
      "application/pdf": "[encoded data removed]",
      "text/plain": [
       "<Figure size 432x288 with 1 Axes>"
      ]
     },
     "metadata": {},
     "output_type": "display_data"
    }
   ],
   "source": [
    "sns.set()\n",
    "palette = sns.color_palette(\"mako_r\", 1)\n",
    "# palette = sns.xkcd_palette([\"yellow\", \"amber\", \"greyish\", \"faded green\", \"dusty purple\", \"red\", \"black\"])\n",
    "ax = sns.lineplot(data=rel_dict, x='hard', y='Lp', markers=\"-\", palette=palette)\n",
    "ax.set_xlabel('lambda_rel', fontsize=12)\n",
    "ax.set_ylabel('Probability Loyalty', fontsize=12)\n",
    "plt.savefig('lambda_rel/lp.pdf')"
   ]
  },
  {
   "cell_type": "code",
   "execution_count": 7,
   "id": "21256ff5",
   "metadata": {},
   "outputs": [
    {
     "data": {
      "text/html": [
       "<div>\n",
       "<style scoped>\n",
       "    .dataframe tbody tr th:only-of-type {\n",
       "        vertical-align: middle;\n",
       "    }\n",
       "\n",
       "    .dataframe tbody tr th {\n",
       "        vertical-align: top;\n",
       "    }\n",
       "\n",
       "    .dataframe thead th {\n",
       "        text-align: right;\n",
       "    }\n",
       "</style>\n",
       "<table border=\"1\" class=\"dataframe\">\n",
       "  <thead>\n",
       "    <tr style=\"text-align: right;\">\n",
       "      <th></th>\n",
       "      <th>N_neg</th>\n",
       "      <th>k</th>\n",
       "      <th>hard</th>\n",
       "      <th>s_nce</th>\n",
       "      <th>Acc1</th>\n",
       "      <th>Agree1</th>\n",
       "      <th>L_p</th>\n",
       "    </tr>\n",
       "  </thead>\n",
       "  <tbody>\n",
       "    <tr>\n",
       "      <th>0</th>\n",
       "      <td>16384.0</td>\n",
       "      <td>0.70</td>\n",
       "      <td>0.1</td>\n",
       "      <td>0.1</td>\n",
       "      <td>66.60</td>\n",
       "      <td>71.93</td>\n",
       "      <td>0.5391</td>\n",
       "    </tr>\n",
       "    <tr>\n",
       "      <th>1</th>\n",
       "      <td>16384.0</td>\n",
       "      <td>0.75</td>\n",
       "      <td>0.1</td>\n",
       "      <td>0.1</td>\n",
       "      <td>66.44</td>\n",
       "      <td>71.76</td>\n",
       "      <td>0.5378</td>\n",
       "    </tr>\n",
       "    <tr>\n",
       "      <th>2</th>\n",
       "      <td>16384.0</td>\n",
       "      <td>0.80</td>\n",
       "      <td>0.1</td>\n",
       "      <td>0.1</td>\n",
       "      <td>67.02</td>\n",
       "      <td>72.07</td>\n",
       "      <td>0.5395</td>\n",
       "    </tr>\n",
       "    <tr>\n",
       "      <th>3</th>\n",
       "      <td>16384.0</td>\n",
       "      <td>0.85</td>\n",
       "      <td>0.1</td>\n",
       "      <td>0.1</td>\n",
       "      <td>65.32</td>\n",
       "      <td>70.41</td>\n",
       "      <td>0.5273</td>\n",
       "    </tr>\n",
       "    <tr>\n",
       "      <th>4</th>\n",
       "      <td>16384.0</td>\n",
       "      <td>0.90</td>\n",
       "      <td>0.1</td>\n",
       "      <td>0.1</td>\n",
       "      <td>66.65</td>\n",
       "      <td>71.29</td>\n",
       "      <td>0.5345</td>\n",
       "    </tr>\n",
       "    <tr>\n",
       "      <th>5</th>\n",
       "      <td>16384.0</td>\n",
       "      <td>0.95</td>\n",
       "      <td>0.1</td>\n",
       "      <td>0.1</td>\n",
       "      <td>66.28</td>\n",
       "      <td>71.36</td>\n",
       "      <td>0.5362</td>\n",
       "    </tr>\n",
       "    <tr>\n",
       "      <th>6</th>\n",
       "      <td>16384.0</td>\n",
       "      <td>1.00</td>\n",
       "      <td>0.1</td>\n",
       "      <td>0.1</td>\n",
       "      <td>65.72</td>\n",
       "      <td>70.67</td>\n",
       "      <td>0.5301</td>\n",
       "    </tr>\n",
       "    <tr>\n",
       "      <th>7</th>\n",
       "      <td>16384.0</td>\n",
       "      <td>0.60</td>\n",
       "      <td>0.1</td>\n",
       "      <td>0.1</td>\n",
       "      <td>66.24</td>\n",
       "      <td>70.78</td>\n",
       "      <td>0.5289</td>\n",
       "    </tr>\n",
       "    <tr>\n",
       "      <th>8</th>\n",
       "      <td>16384.0</td>\n",
       "      <td>0.65</td>\n",
       "      <td>0.1</td>\n",
       "      <td>0.1</td>\n",
       "      <td>66.29</td>\n",
       "      <td>71.61</td>\n",
       "      <td>0.5372</td>\n",
       "    </tr>\n",
       "    <tr>\n",
       "      <th>9</th>\n",
       "      <td>16384.0</td>\n",
       "      <td>0.70</td>\n",
       "      <td>0.1</td>\n",
       "      <td>0.1</td>\n",
       "      <td>67.10</td>\n",
       "      <td>72.26</td>\n",
       "      <td>0.5438</td>\n",
       "    </tr>\n",
       "    <tr>\n",
       "      <th>10</th>\n",
       "      <td>16384.0</td>\n",
       "      <td>0.75</td>\n",
       "      <td>0.1</td>\n",
       "      <td>0.1</td>\n",
       "      <td>66.04</td>\n",
       "      <td>71.26</td>\n",
       "      <td>0.5354</td>\n",
       "    </tr>\n",
       "    <tr>\n",
       "      <th>11</th>\n",
       "      <td>16384.0</td>\n",
       "      <td>0.80</td>\n",
       "      <td>0.1</td>\n",
       "      <td>0.1</td>\n",
       "      <td>66.77</td>\n",
       "      <td>72.15</td>\n",
       "      <td>0.5407</td>\n",
       "    </tr>\n",
       "    <tr>\n",
       "      <th>12</th>\n",
       "      <td>16384.0</td>\n",
       "      <td>0.85</td>\n",
       "      <td>0.1</td>\n",
       "      <td>0.1</td>\n",
       "      <td>66.65</td>\n",
       "      <td>71.50</td>\n",
       "      <td>0.5388</td>\n",
       "    </tr>\n",
       "    <tr>\n",
       "      <th>13</th>\n",
       "      <td>16384.0</td>\n",
       "      <td>0.90</td>\n",
       "      <td>0.1</td>\n",
       "      <td>0.1</td>\n",
       "      <td>65.95</td>\n",
       "      <td>71.42</td>\n",
       "      <td>0.5335</td>\n",
       "    </tr>\n",
       "    <tr>\n",
       "      <th>14</th>\n",
       "      <td>16384.0</td>\n",
       "      <td>0.95</td>\n",
       "      <td>0.1</td>\n",
       "      <td>0.1</td>\n",
       "      <td>65.99</td>\n",
       "      <td>71.53</td>\n",
       "      <td>0.5364</td>\n",
       "    </tr>\n",
       "    <tr>\n",
       "      <th>15</th>\n",
       "      <td>16384.0</td>\n",
       "      <td>1.00</td>\n",
       "      <td>0.1</td>\n",
       "      <td>0.1</td>\n",
       "      <td>66.59</td>\n",
       "      <td>71.66</td>\n",
       "      <td>0.5353</td>\n",
       "    </tr>\n",
       "    <tr>\n",
       "      <th>16</th>\n",
       "      <td>16384.0</td>\n",
       "      <td>0.60</td>\n",
       "      <td>0.1</td>\n",
       "      <td>0.1</td>\n",
       "      <td>66.86</td>\n",
       "      <td>72.36</td>\n",
       "      <td>0.5394</td>\n",
       "    </tr>\n",
       "    <tr>\n",
       "      <th>17</th>\n",
       "      <td>16384.0</td>\n",
       "      <td>0.65</td>\n",
       "      <td>0.1</td>\n",
       "      <td>0.1</td>\n",
       "      <td>66.32</td>\n",
       "      <td>71.41</td>\n",
       "      <td>0.5341</td>\n",
       "    </tr>\n",
       "    <tr>\n",
       "      <th>18</th>\n",
       "      <td>16384.0</td>\n",
       "      <td>0.70</td>\n",
       "      <td>0.1</td>\n",
       "      <td>0.1</td>\n",
       "      <td>65.75</td>\n",
       "      <td>70.91</td>\n",
       "      <td>0.5302</td>\n",
       "    </tr>\n",
       "    <tr>\n",
       "      <th>19</th>\n",
       "      <td>16384.0</td>\n",
       "      <td>0.75</td>\n",
       "      <td>0.1</td>\n",
       "      <td>0.1</td>\n",
       "      <td>66.51</td>\n",
       "      <td>71.69</td>\n",
       "      <td>0.5362</td>\n",
       "    </tr>\n",
       "    <tr>\n",
       "      <th>20</th>\n",
       "      <td>16384.0</td>\n",
       "      <td>0.60</td>\n",
       "      <td>0.1</td>\n",
       "      <td>0.1</td>\n",
       "      <td>66.77</td>\n",
       "      <td>71.95</td>\n",
       "      <td>0.5383</td>\n",
       "    </tr>\n",
       "    <tr>\n",
       "      <th>21</th>\n",
       "      <td>16384.0</td>\n",
       "      <td>0.65</td>\n",
       "      <td>0.1</td>\n",
       "      <td>0.1</td>\n",
       "      <td>66.25</td>\n",
       "      <td>71.55</td>\n",
       "      <td>0.5343</td>\n",
       "    </tr>\n",
       "    <tr>\n",
       "      <th>22</th>\n",
       "      <td>16384.0</td>\n",
       "      <td>0.80</td>\n",
       "      <td>0.1</td>\n",
       "      <td>0.1</td>\n",
       "      <td>66.68</td>\n",
       "      <td>71.86</td>\n",
       "      <td>0.5398</td>\n",
       "    </tr>\n",
       "    <tr>\n",
       "      <th>23</th>\n",
       "      <td>16384.0</td>\n",
       "      <td>0.85</td>\n",
       "      <td>0.1</td>\n",
       "      <td>0.1</td>\n",
       "      <td>66.44</td>\n",
       "      <td>71.56</td>\n",
       "      <td>0.5342</td>\n",
       "    </tr>\n",
       "    <tr>\n",
       "      <th>24</th>\n",
       "      <td>16384.0</td>\n",
       "      <td>0.90</td>\n",
       "      <td>0.1</td>\n",
       "      <td>0.1</td>\n",
       "      <td>66.20</td>\n",
       "      <td>70.80</td>\n",
       "      <td>0.5293</td>\n",
       "    </tr>\n",
       "    <tr>\n",
       "      <th>25</th>\n",
       "      <td>16384.0</td>\n",
       "      <td>0.95</td>\n",
       "      <td>0.1</td>\n",
       "      <td>0.1</td>\n",
       "      <td>65.74</td>\n",
       "      <td>70.61</td>\n",
       "      <td>0.5302</td>\n",
       "    </tr>\n",
       "    <tr>\n",
       "      <th>26</th>\n",
       "      <td>16384.0</td>\n",
       "      <td>1.00</td>\n",
       "      <td>0.1</td>\n",
       "      <td>0.1</td>\n",
       "      <td>66.24</td>\n",
       "      <td>71.51</td>\n",
       "      <td>0.5365</td>\n",
       "    </tr>\n",
       "  </tbody>\n",
       "</table>\n",
       "</div>"
      ],
      "text/plain": [
       "      N_neg     k  hard  s_nce   Acc1  Agree1     L_p\n",
       "0   16384.0  0.70   0.1    0.1  66.60   71.93  0.5391\n",
       "1   16384.0  0.75   0.1    0.1  66.44   71.76  0.5378\n",
       "2   16384.0  0.80   0.1    0.1  67.02   72.07  0.5395\n",
       "3   16384.0  0.85   0.1    0.1  65.32   70.41  0.5273\n",
       "4   16384.0  0.90   0.1    0.1  66.65   71.29  0.5345\n",
       "5   16384.0  0.95   0.1    0.1  66.28   71.36  0.5362\n",
       "6   16384.0  1.00   0.1    0.1  65.72   70.67  0.5301\n",
       "7   16384.0  0.60   0.1    0.1  66.24   70.78  0.5289\n",
       "8   16384.0  0.65   0.1    0.1  66.29   71.61  0.5372\n",
       "9   16384.0  0.70   0.1    0.1  67.10   72.26  0.5438\n",
       "10  16384.0  0.75   0.1    0.1  66.04   71.26  0.5354\n",
       "11  16384.0  0.80   0.1    0.1  66.77   72.15  0.5407\n",
       "12  16384.0  0.85   0.1    0.1  66.65   71.50  0.5388\n",
       "13  16384.0  0.90   0.1    0.1  65.95   71.42  0.5335\n",
       "14  16384.0  0.95   0.1    0.1  65.99   71.53  0.5364\n",
       "15  16384.0  1.00   0.1    0.1  66.59   71.66  0.5353\n",
       "16  16384.0  0.60   0.1    0.1  66.86   72.36  0.5394\n",
       "17  16384.0  0.65   0.1    0.1  66.32   71.41  0.5341\n",
       "18  16384.0  0.70   0.1    0.1  65.75   70.91  0.5302\n",
       "19  16384.0  0.75   0.1    0.1  66.51   71.69  0.5362\n",
       "20  16384.0  0.60   0.1    0.1  66.77   71.95  0.5383\n",
       "21  16384.0  0.65   0.1    0.1  66.25   71.55  0.5343\n",
       "22  16384.0  0.80   0.1    0.1  66.68   71.86  0.5398\n",
       "23  16384.0  0.85   0.1    0.1  66.44   71.56  0.5342\n",
       "24  16384.0  0.90   0.1    0.1  66.20   70.80  0.5293\n",
       "25  16384.0  0.95   0.1    0.1  65.74   70.61  0.5302\n",
       "26  16384.0  1.00   0.1    0.1  66.24   71.51  0.5365"
      ]
     },
     "execution_count": 7,
     "metadata": {},
     "output_type": "execute_result"
    }
   ],
   "source": [
    "if not os.path.exists('real_k/'):\n",
    "    os.mkdir('real_k/')\n",
    "    \n",
    "with open('res_k_0203.json', 'r') as f:\n",
    "    k_dict = json.load(f)\n",
    "\n",
    "k_dict = pd.DataFrame(data=k_dict)\n",
    "k_dict"
   ]
  },
  {
   "cell_type": "code",
   "execution_count": 8,
   "id": "3ff13e65",
   "metadata": {},
   "outputs": [
    {
     "data": {
      "application/pdf": "[encoded data removed]",
      "text/plain": [
       "<Figure size 432x288 with 1 Axes>"
      ]
     },
     "metadata": {},
     "output_type": "display_data"
    }
   ],
   "source": [
    "import seaborn as sns\n",
    "import matplotlib.pyplot as plt\n",
    "sns.set()\n",
    "palette = sns.color_palette(\"mako_r\", 1)\n",
    "# palette = sns.xkcd_palette([\"yellow\", \"amber\", \"greyish\", \"faded green\", \"dusty purple\", \"red\", \"black\"])\n",
    "ax = sns.lineplot(data=k_dict, x='k', y='Acc1', markers=\"-\", palette=palette)\n",
    "ax.set_xlabel('k', fontsize=12)\n",
    "ax.set_ylabel('Acc@1', fontsize=12)\n",
    "plt.savefig('real_k/acc1.pdf')"
   ]
  },
  {
   "cell_type": "code",
   "execution_count": 9,
   "id": "e51bfc7c",
   "metadata": {},
   "outputs": [
    {
     "data": {
      "application/pdf": "[encoded data removed]",
      "text/plain": [
       "<Figure size 432x288 with 1 Axes>"
      ]
     },
     "metadata": {},
     "output_type": "display_data"
    }
   ],
   "source": [
    "sns.set()\n",
    "palette = sns.color_palette(\"mako_r\", 1)\n",
    "# palette = sns.xkcd_palette([\"yellow\", \"amber\", \"greyish\", \"faded green\", \"dusty purple\", \"red\", \"black\"])\n",
    "ax = sns.lineplot(data=k_dict, x='k', y='Agree1', markers=\"-\", palette=palette)\n",
    "ax.set_xlabel('k', fontsize=12)\n",
    "ax.set_ylabel('Agree@1', fontsize=12)\n",
    "plt.savefig('real_k/agree1.pdf')"
   ]
  },
  {
   "cell_type": "code",
   "execution_count": 10,
   "id": "eb297354",
   "metadata": {},
   "outputs": [
    {
     "data": {
      "application/pdf": "[encoded data removed]",
      "text/plain": [
       "<Figure size 432x288 with 1 Axes>"
      ]
     },
     "metadata": {},
     "output_type": "display_data"
    }
   ],
   "source": [
    "sns.set()\n",
    "palette = sns.color_palette(\"mako_r\", 1)\n",
    "# palette = sns.xkcd_palette([\"yellow\", \"amber\", \"greyish\", \"faded green\", \"dusty purple\", \"red\", \"black\"])\n",
    "ax = sns.lineplot(data=k_dict, x='k', y='L_p', markers=\"-\", palette=palette)\n",
    "ax.set_xlabel('k', fontsize=12)\n",
    "ax.set_ylabel('Probability Loyalty', fontsize=12)\n",
    "plt.savefig('real_k/lp.pdf')"
   ]
  },
  {
   "cell_type": "code",
   "execution_count": 22,
   "id": "41393511",
   "metadata": {},
   "outputs": [
    {
     "data": {
      "text/html": [
       "<div>\n",
       "<style scoped>\n",
       "    .dataframe tbody tr th:only-of-type {\n",
       "        vertical-align: middle;\n",
       "    }\n",
       "\n",
       "    .dataframe tbody tr th {\n",
       "        vertical-align: top;\n",
       "    }\n",
       "\n",
       "    .dataframe thead th {\n",
       "        text-align: right;\n",
       "    }\n",
       "</style>\n",
       "<table border=\"1\" class=\"dataframe\">\n",
       "  <thead>\n",
       "    <tr style=\"text-align: right;\">\n",
       "      <th></th>\n",
       "      <th>N_neg</th>\n",
       "      <th>k</th>\n",
       "      <th>hard</th>\n",
       "      <th>s_nce</th>\n",
       "      <th>Acc1</th>\n",
       "      <th>Agree1</th>\n",
       "      <th>L_p</th>\n",
       "    </tr>\n",
       "  </thead>\n",
       "  <tbody>\n",
       "    <tr>\n",
       "      <th>0</th>\n",
       "      <td>12288.0</td>\n",
       "      <td>0.8</td>\n",
       "      <td>0.1</td>\n",
       "      <td>0.1</td>\n",
       "      <td>66.04</td>\n",
       "      <td>71.05</td>\n",
       "      <td>0.5350</td>\n",
       "    </tr>\n",
       "    <tr>\n",
       "      <th>1</th>\n",
       "      <td>8192.0</td>\n",
       "      <td>0.8</td>\n",
       "      <td>0.1</td>\n",
       "      <td>0.1</td>\n",
       "      <td>65.58</td>\n",
       "      <td>70.69</td>\n",
       "      <td>0.5285</td>\n",
       "    </tr>\n",
       "    <tr>\n",
       "      <th>2</th>\n",
       "      <td>24576.0</td>\n",
       "      <td>0.8</td>\n",
       "      <td>0.1</td>\n",
       "      <td>0.1</td>\n",
       "      <td>66.20</td>\n",
       "      <td>71.13</td>\n",
       "      <td>0.5374</td>\n",
       "    </tr>\n",
       "    <tr>\n",
       "      <th>3</th>\n",
       "      <td>32768.0</td>\n",
       "      <td>0.8</td>\n",
       "      <td>0.1</td>\n",
       "      <td>0.1</td>\n",
       "      <td>66.51</td>\n",
       "      <td>71.82</td>\n",
       "      <td>0.5415</td>\n",
       "    </tr>\n",
       "    <tr>\n",
       "      <th>4</th>\n",
       "      <td>16384.0</td>\n",
       "      <td>0.8</td>\n",
       "      <td>0.1</td>\n",
       "      <td>0.1</td>\n",
       "      <td>67.02</td>\n",
       "      <td>72.07</td>\n",
       "      <td>0.5395</td>\n",
       "    </tr>\n",
       "    <tr>\n",
       "      <th>5</th>\n",
       "      <td>65536.0</td>\n",
       "      <td>0.8</td>\n",
       "      <td>0.1</td>\n",
       "      <td>0.1</td>\n",
       "      <td>65.99</td>\n",
       "      <td>70.98</td>\n",
       "      <td>0.5327</td>\n",
       "    </tr>\n",
       "    <tr>\n",
       "      <th>6</th>\n",
       "      <td>16384.0</td>\n",
       "      <td>0.8</td>\n",
       "      <td>0.1</td>\n",
       "      <td>0.1</td>\n",
       "      <td>66.77</td>\n",
       "      <td>72.15</td>\n",
       "      <td>0.5407</td>\n",
       "    </tr>\n",
       "    <tr>\n",
       "      <th>7</th>\n",
       "      <td>16384.0</td>\n",
       "      <td>0.8</td>\n",
       "      <td>0.1</td>\n",
       "      <td>0.1</td>\n",
       "      <td>66.68</td>\n",
       "      <td>71.86</td>\n",
       "      <td>0.5398</td>\n",
       "    </tr>\n",
       "    <tr>\n",
       "      <th>8</th>\n",
       "      <td>12288.0</td>\n",
       "      <td>0.8</td>\n",
       "      <td>0.1</td>\n",
       "      <td>0.1</td>\n",
       "      <td>66.44</td>\n",
       "      <td>71.23</td>\n",
       "      <td>0.5309</td>\n",
       "    </tr>\n",
       "    <tr>\n",
       "      <th>9</th>\n",
       "      <td>8192.0</td>\n",
       "      <td>0.8</td>\n",
       "      <td>0.1</td>\n",
       "      <td>0.1</td>\n",
       "      <td>67.10</td>\n",
       "      <td>72.34</td>\n",
       "      <td>0.5439</td>\n",
       "    </tr>\n",
       "    <tr>\n",
       "      <th>10</th>\n",
       "      <td>24576.0</td>\n",
       "      <td>0.8</td>\n",
       "      <td>0.1</td>\n",
       "      <td>0.1</td>\n",
       "      <td>67.10</td>\n",
       "      <td>72.06</td>\n",
       "      <td>0.5394</td>\n",
       "    </tr>\n",
       "    <tr>\n",
       "      <th>11</th>\n",
       "      <td>32768.0</td>\n",
       "      <td>0.8</td>\n",
       "      <td>0.1</td>\n",
       "      <td>0.1</td>\n",
       "      <td>67.10</td>\n",
       "      <td>72.73</td>\n",
       "      <td>0.5476</td>\n",
       "    </tr>\n",
       "    <tr>\n",
       "      <th>12</th>\n",
       "      <td>65536.0</td>\n",
       "      <td>0.8</td>\n",
       "      <td>0.1</td>\n",
       "      <td>0.1</td>\n",
       "      <td>66.87</td>\n",
       "      <td>72.11</td>\n",
       "      <td>0.5400</td>\n",
       "    </tr>\n",
       "    <tr>\n",
       "      <th>13</th>\n",
       "      <td>12288.0</td>\n",
       "      <td>0.8</td>\n",
       "      <td>0.1</td>\n",
       "      <td>0.1</td>\n",
       "      <td>66.45</td>\n",
       "      <td>71.73</td>\n",
       "      <td>0.5406</td>\n",
       "    </tr>\n",
       "    <tr>\n",
       "      <th>14</th>\n",
       "      <td>8192.0</td>\n",
       "      <td>0.8</td>\n",
       "      <td>0.1</td>\n",
       "      <td>0.1</td>\n",
       "      <td>66.98</td>\n",
       "      <td>71.92</td>\n",
       "      <td>0.5330</td>\n",
       "    </tr>\n",
       "    <tr>\n",
       "      <th>15</th>\n",
       "      <td>24576.0</td>\n",
       "      <td>0.8</td>\n",
       "      <td>0.1</td>\n",
       "      <td>0.1</td>\n",
       "      <td>66.74</td>\n",
       "      <td>71.18</td>\n",
       "      <td>0.5357</td>\n",
       "    </tr>\n",
       "    <tr>\n",
       "      <th>16</th>\n",
       "      <td>32768.0</td>\n",
       "      <td>0.8</td>\n",
       "      <td>0.1</td>\n",
       "      <td>0.1</td>\n",
       "      <td>67.02</td>\n",
       "      <td>72.11</td>\n",
       "      <td>0.5419</td>\n",
       "    </tr>\n",
       "    <tr>\n",
       "      <th>17</th>\n",
       "      <td>65536.0</td>\n",
       "      <td>0.8</td>\n",
       "      <td>0.1</td>\n",
       "      <td>0.1</td>\n",
       "      <td>66.57</td>\n",
       "      <td>71.46</td>\n",
       "      <td>0.5394</td>\n",
       "    </tr>\n",
       "  </tbody>\n",
       "</table>\n",
       "</div>"
      ],
      "text/plain": [
       "      N_neg    k  hard  s_nce   Acc1  Agree1     L_p\n",
       "0   12288.0  0.8   0.1    0.1  66.04   71.05  0.5350\n",
       "1    8192.0  0.8   0.1    0.1  65.58   70.69  0.5285\n",
       "2   24576.0  0.8   0.1    0.1  66.20   71.13  0.5374\n",
       "3   32768.0  0.8   0.1    0.1  66.51   71.82  0.5415\n",
       "4   16384.0  0.8   0.1    0.1  67.02   72.07  0.5395\n",
       "5   65536.0  0.8   0.1    0.1  65.99   70.98  0.5327\n",
       "6   16384.0  0.8   0.1    0.1  66.77   72.15  0.5407\n",
       "7   16384.0  0.8   0.1    0.1  66.68   71.86  0.5398\n",
       "8   12288.0  0.8   0.1    0.1  66.44   71.23  0.5309\n",
       "9    8192.0  0.8   0.1    0.1  67.10   72.34  0.5439\n",
       "10  24576.0  0.8   0.1    0.1  67.10   72.06  0.5394\n",
       "11  32768.0  0.8   0.1    0.1  67.10   72.73  0.5476\n",
       "12  65536.0  0.8   0.1    0.1  66.87   72.11  0.5400\n",
       "13  12288.0  0.8   0.1    0.1  66.45   71.73  0.5406\n",
       "14   8192.0  0.8   0.1    0.1  66.98   71.92  0.5330\n",
       "15  24576.0  0.8   0.1    0.1  66.74   71.18  0.5357\n",
       "16  32768.0  0.8   0.1    0.1  67.02   72.11  0.5419\n",
       "17  65536.0  0.8   0.1    0.1  66.57   71.46  0.5394"
      ]
     },
     "execution_count": 22,
     "metadata": {},
     "output_type": "execute_result"
    }
   ],
   "source": [
    "if not os.path.exists('Nneg/'):\n",
    "    os.mkdir('Nneg/')\n",
    "    \n",
    "with open('res_neg_0203.json', 'r') as f:\n",
    "    neg_dict = json.load(f)\n",
    "\n",
    "neg_dict = pd.DataFrame(data=neg_dict)\n",
    "neg_dict"
   ]
  },
  {
   "cell_type": "code",
   "execution_count": 25,
   "id": "c88b8730",
   "metadata": {},
   "outputs": [
    {
     "data": {
      "application/pdf": "[encoded data removed]",
      "text/plain": [
       "<Figure size 576x360 with 1 Axes>"
      ]
     },
     "metadata": {},
     "output_type": "display_data"
    }
   ],
   "source": [
    "sns.set()\n",
    "plt.figure(figsize=(8,5))\n",
    "palette = sns.color_palette(\"mako_r\", 1)\n",
    "# palette = sns.xkcd_palette([\"yellow\", \"amber\", \"greyish\", \"faded green\", \"dusty purple\", \"red\", \"black\"])\n",
    "ax = sns.lineplot(data=neg_dict, x='N_neg', y='Acc1', markers=\"-\", palette=palette)\n",
    "ax.set_xlabel('Nneg', fontsize=12)\n",
    "ax.set_ylabel('Acc@1', fontsize=12)\n",
    "plt.savefig('Nneg/acc1.pdf')"
   ]
  },
  {
   "cell_type": "code",
   "execution_count": 26,
   "id": "e1c085e8",
   "metadata": {},
   "outputs": [
    {
     "data": {
      "application/pdf": "[encoded data removed]",
      "text/plain": [
       "<Figure size 576x360 with 1 Axes>"
      ]
     },
     "metadata": {},
     "output_type": "display_data"
    }
   ],
   "source": [
    "sns.set()\n",
    "plt.figure(figsize=(8,5))\n",
    "palette = sns.color_palette(\"mako_r\", 1)\n",
    "# palette = sns.xkcd_palette([\"yellow\", \"amber\", \"greyish\", \"faded green\", \"dusty purple\", \"red\", \"black\"])\n",
    "ax = sns.lineplot(data=neg_dict, x='N_neg', y='Agree1', markers=\"-\", palette=palette)\n",
    "ax.set_xlabel('Nneg', fontsize=12)\n",
    "ax.set_ylabel('Agree@1', fontsize=12)\n",
    "plt.savefig('Nneg/agree1.pdf')"
   ]
  },
  {
   "cell_type": "code",
   "execution_count": 27,
   "id": "b824976b",
   "metadata": {},
   "outputs": [
    {
     "data": {
      "application/pdf": "[encoded data removed]",
      "text/plain": [
       "<Figure size 576x360 with 1 Axes>"
      ]
     },
     "metadata": {},
     "output_type": "display_data"
    }
   ],
   "source": [
    "sns.set()\n",
    "plt.figure(figsize=(8,5))\n",
    "palette = sns.color_palette(\"mako_r\", 1)\n",
    "# palette = sns.xkcd_palette([\"yellow\", \"amber\", \"greyish\", \"faded green\", \"dusty purple\", \"red\", \"black\"])\n",
    "ax = sns.lineplot(data=neg_dict, x='N_neg', y='L_p', markers=\"-\", palette=palette)\n",
    "ax.set_xlabel('Nneg', fontsize=12)\n",
    "ax.set_ylabel('Probability Loyalty', fontsize=12)\n",
    "plt.savefig('Nneg/lp.pdf')"
   ]
  },
  {
   "cell_type": "code",
   "execution_count": 21,
   "id": "143aeea2",
   "metadata": {},
   "outputs": [
    {
     "data": {
      "image/png": "[encoded data removed]",
      "text/plain": [
       "<Figure size 432x288 with 2 Axes>"
      ]
     },
     "metadata": {
      "needs_background": "light"
     },
     "output_type": "display_data"
    }
   ],
   "source": [
    "import matplotlib.pyplot as plt\n",
    "fig, ax1 = plt.subplots()\n",
    "# width = 0.4\n",
    "# x1_list = []\n",
    "# x2_list = []\n",
    "# for i in range(adv_acc.shape[0]):\n",
    "#     x1_list.append(i)\n",
    "#     x2_list.append(i + width)\n",
    "\n",
    "# b1 = sns.lineplot(data=final_df, x=\"grad_of_adv\", y=\"acc@1\",color=sns.xkcd_rgb[\"pale red\"] )  \n",
    "b1, = plt.plot(l_dict[\"s_nce\"], l_dict['Acc1'], '-ro', label='Accuracy@1')\n",
    "\n",
    "# b1 = ax1.bar(x1_list, adv_acc, width=width, label='Acc@1', color=sns.xkcd_rgb[\"pale red\"], tick_label=grad_range)\n",
    "ax2 = ax1.twinx()\n",
    "b2, = plt.plot(l_dict[\"s_nce\"], l_dict['Agree1'], '-bo', label='Agreement@1')\n",
    "# plt.grid('off')\n",
    "# b2 = sns.lineplot(data=final_df, x=\"grad_of_adv\", y=\"agree@1\", color=sns.xkcd_rgb[\"denim blue\"])\n",
    "# b2 = ax2.bar(x2_list, adv_agg, width=width, label='Agree@1', color=sns.xkcd_rgb[\"denim blue\"], tick_label=grad_range)\n",
    "ax1.set_xlabel('lambda', fontsize=12)\n",
    "ax1.set_ylabel('Accuracy@1', fontsize=12)\n",
    "ax2.set_ylabel('Agreement@1', fontsize=12)\n",
    "ax1.set_ylim(65, 67.5)\n",
    "ax2.set_ylim(70, 72.5)\n",
    "axs = [b1, b2]\n",
    "lbs = [ax.get_label() for ax in axs]\n",
    "ax1.legend(axs, lbs)\n",
    "plt.savefig('lambda/acc_agg.pdf')"
   ]
  },
  {
   "cell_type": "code",
   "execution_count": 26,
   "id": "0098e16a",
   "metadata": {},
   "outputs": [
    {
     "data": {
      "image/png": "[encoded data removed]",
      "text/plain": [
       "<Figure size 432x288 with 1 Axes>"
      ]
     },
     "metadata": {
      "needs_background": "light"
     },
     "output_type": "display_data"
    }
   ],
   "source": [
    "import numpy as np\n",
    "plt.plot(l_dict[\"s_nce\"], l_dict[\"Lp\"], '-go', label=\"prob_loyalty\")\n",
    "plt.ylim(0.53, 0.545)\n",
    "x_ticks = np.arange(0., 0.3, 0.05)\n",
    "y_ticks = np.arange(0.53, 0.545, 0.002)\n",
    "plt.xlabel('lambda', fontsize=14)\n",
    "plt.ylabel('probability loyalty', fontsize=14)\n",
    "plt.xticks(x_ticks, fontsize=12)\n",
    "plt.yticks(y_ticks, fontsize=12)\n",
    "plt.savefig('lambda/prob_loyalty.pdf')"
   ]
  },
  {
   "cell_type": "code",
   "execution_count": 38,
   "id": "e616aab8",
   "metadata": {},
   "outputs": [
    {
     "data": {
      "text/html": [
       "<div>\n",
       "<style scoped>\n",
       "    .dataframe tbody tr th:only-of-type {\n",
       "        vertical-align: middle;\n",
       "    }\n",
       "\n",
       "    .dataframe tbody tr th {\n",
       "        vertical-align: top;\n",
       "    }\n",
       "\n",
       "    .dataframe thead th {\n",
       "        text-align: right;\n",
       "    }\n",
       "</style>\n",
       "<table border=\"1\" class=\"dataframe\">\n",
       "  <thead>\n",
       "    <tr style=\"text-align: right;\">\n",
       "      <th></th>\n",
       "      <th>k</th>\n",
       "      <th>accuracy@1</th>\n",
       "      <th>agreement@1</th>\n",
       "      <th>prob_loyalty</th>\n",
       "    </tr>\n",
       "  </thead>\n",
       "  <tbody>\n",
       "    <tr>\n",
       "      <th>0</th>\n",
       "      <td>0.60</td>\n",
       "      <td>93.06</td>\n",
       "      <td>95.11</td>\n",
       "      <td>0.8368</td>\n",
       "    </tr>\n",
       "    <tr>\n",
       "      <th>1</th>\n",
       "      <td>0.65</td>\n",
       "      <td>93.15</td>\n",
       "      <td>95.12</td>\n",
       "      <td>0.8395</td>\n",
       "    </tr>\n",
       "    <tr>\n",
       "      <th>2</th>\n",
       "      <td>0.70</td>\n",
       "      <td>92.96</td>\n",
       "      <td>95.11</td>\n",
       "      <td>0.8369</td>\n",
       "    </tr>\n",
       "    <tr>\n",
       "      <th>3</th>\n",
       "      <td>0.75</td>\n",
       "      <td>92.88</td>\n",
       "      <td>95.08</td>\n",
       "      <td>0.8379</td>\n",
       "    </tr>\n",
       "    <tr>\n",
       "      <th>4</th>\n",
       "      <td>0.80</td>\n",
       "      <td>93.06</td>\n",
       "      <td>95.31</td>\n",
       "      <td>0.8401</td>\n",
       "    </tr>\n",
       "    <tr>\n",
       "      <th>5</th>\n",
       "      <td>0.85</td>\n",
       "      <td>93.08</td>\n",
       "      <td>95.25</td>\n",
       "      <td>0.8381</td>\n",
       "    </tr>\n",
       "    <tr>\n",
       "      <th>6</th>\n",
       "      <td>0.90</td>\n",
       "      <td>93.04</td>\n",
       "      <td>95.00</td>\n",
       "      <td>0.8373</td>\n",
       "    </tr>\n",
       "    <tr>\n",
       "      <th>7</th>\n",
       "      <td>0.95</td>\n",
       "      <td>92.86</td>\n",
       "      <td>95.08</td>\n",
       "      <td>0.8384</td>\n",
       "    </tr>\n",
       "    <tr>\n",
       "      <th>8</th>\n",
       "      <td>1.00</td>\n",
       "      <td>92.87</td>\n",
       "      <td>95.11</td>\n",
       "      <td>0.8391</td>\n",
       "    </tr>\n",
       "  </tbody>\n",
       "</table>\n",
       "</div>"
      ],
      "text/plain": [
       "      k  accuracy@1  agreement@1  prob_loyalty\n",
       "0  0.60       93.06        95.11        0.8368\n",
       "1  0.65       93.15        95.12        0.8395\n",
       "2  0.70       92.96        95.11        0.8369\n",
       "3  0.75       92.88        95.08        0.8379\n",
       "4  0.80       93.06        95.31        0.8401\n",
       "5  0.85       93.08        95.25        0.8381\n",
       "6  0.90       93.04        95.00        0.8373\n",
       "7  0.95       92.86        95.08        0.8384\n",
       "8  1.00       92.87        95.11        0.8391"
      ]
     },
     "execution_count": 38,
     "metadata": {},
     "output_type": "execute_result"
    }
   ],
   "source": [
    "k_dict_16384 = {\n",
    "    'k': [0.6, 0.65, 0.7, 0.75, 0.8, 0.85, 0.9, 0.95, 1.0],\n",
    "    'accuracy@1': [93.06, 93.15,92.96,92.88, 93.06, 93.08, 93.04, 92.86, 92.87],\n",
    "    'agreement@1': [95.11, 95.12, 95.11, 95.08, 95.31, 95.25, 95.00, 95.08, 95.11],\n",
    "    'prob_loyalty': [0.8368, 0.8395, 0.8369, 0.8379, 0.8401, 0.8381, 0.8373, 0.8384, 0.8391]\n",
    "    \n",
    "}\n",
    "\n",
    "k_dict_16384 = pd.DataFrame(data=k_dict_16384)\n",
    "k_dict_16384"
   ]
  },
  {
   "cell_type": "code",
   "execution_count": 40,
   "id": "720438a1",
   "metadata": {},
   "outputs": [
    {
     "data": {
      "application/pdf": "[encoded data removed]",
      "text/plain": [
       "<Figure size 432x288 with 2 Axes>"
      ]
     },
     "metadata": {
      "needs_background": "light"
     },
     "output_type": "display_data"
    }
   ],
   "source": [
    "import matplotlib.pyplot as plt\n",
    "fig, ax1 = plt.subplots()\n",
    "# width = 0.4\n",
    "# x1_list = []\n",
    "# x2_list = []\n",
    "# for i in range(adv_acc.shape[0]):\n",
    "#     x1_list.append(i)\n",
    "#     x2_list.append(i + width)\n",
    "\n",
    "# b1 = sns.lineplot(data=final_df, x=\"grad_of_adv\", y=\"acc@1\",color=sns.xkcd_rgb[\"pale red\"] )  \n",
    "b1, = plt.plot(k_dict_16384[\"k\"], k_dict_16384['accuracy@1'], '-ro', label='Accuracy@1')\n",
    "\n",
    "# b1 = ax1.bar(x1_list, adv_acc, width=width, label='Acc@1', color=sns.xkcd_rgb[\"pale red\"], tick_label=grad_range)\n",
    "ax2 = ax1.twinx()\n",
    "b2, = plt.plot(k_dict_16384[\"k\"], k_dict_16384['agreement@1'], '-bo', label='Agreement@1')\n",
    "# plt.grid('off')\n",
    "# b2 = sns.lineplot(data=final_df, x=\"grad_of_adv\", y=\"agree@1\", color=sns.xkcd_rgb[\"denim blue\"])\n",
    "# b2 = ax2.bar(x2_list, adv_agg, width=width, label='Agree@1', color=sns.xkcd_rgb[\"denim blue\"], tick_label=grad_range)\n",
    "ax1.set_xlabel('k', fontsize=12)\n",
    "ax1.set_ylabel('Accuracy@1', fontsize=12)\n",
    "ax2.set_ylabel('Agreement@1', fontsize=12)\n",
    "ax1.set_ylim(92.8, 93.2)\n",
    "ax2.set_ylim(94.9, 95.4)\n",
    "axs = [b1, b2]\n",
    "lbs = [ax.get_label() for ax in axs]\n",
    "ax1.legend(axs, lbs)\n",
    "plt.savefig('k/acc_agg_16384.pdf')"
   ]
  },
  {
   "cell_type": "code",
   "execution_count": 41,
   "id": "e3948ed9",
   "metadata": {},
   "outputs": [
    {
     "data": {
      "application/pdf": "[encoded data removed]",
      "text/plain": [
       "<Figure size 432x288 with 1 Axes>"
      ]
     },
     "metadata": {
      "needs_background": "light"
     },
     "output_type": "display_data"
    }
   ],
   "source": [
    "plt.plot(k_dict_16384[\"k\"], k_dict_16384[\"prob_loyalty\"], '-go', label=\"prob_loyalty\")\n",
    "plt.ylim(0.836, 0.841)\n",
    "x_ticks = np.arange(0.6, 1.05, 0.05)\n",
    "y_ticks = np.arange(0.836, 0.841, 0.001)\n",
    "plt.xlabel('k', fontsize=14)\n",
    "plt.ylabel('probability loyalty', fontsize=14)\n",
    "plt.xticks(x_ticks, fontsize=12)\n",
    "plt.yticks(y_ticks, fontsize=12)\n",
    "plt.savefig('k/prob_loyalty_16384.pdf')"
   ]
  },
  {
   "cell_type": "code",
   "execution_count": 5,
   "id": "bfc11085",
   "metadata": {},
   "outputs": [
    {
     "name": "stdout",
     "output_type": "stream",
     "text": [
      "32\n",
      "32\n",
      "32\n",
      "32\n",
      "32\n"
     ]
    },
    {
     "data": {
      "text/html": [
       "<div>\n",
       "<style scoped>\n",
       "    .dataframe tbody tr th:only-of-type {\n",
       "        vertical-align: middle;\n",
       "    }\n",
       "\n",
       "    .dataframe tbody tr th {\n",
       "        vertical-align: top;\n",
       "    }\n",
       "\n",
       "    .dataframe thead th {\n",
       "        text-align: right;\n",
       "    }\n",
       "</style>\n",
       "<table border=\"1\" class=\"dataframe\">\n",
       "  <thead>\n",
       "    <tr style=\"text-align: right;\">\n",
       "      <th></th>\n",
       "      <th>method</th>\n",
       "      <th>acc@1</th>\n",
       "      <th>type</th>\n",
       "      <th>agree@1</th>\n",
       "      <th>loyalty</th>\n",
       "    </tr>\n",
       "  </thead>\n",
       "  <tbody>\n",
       "    <tr>\n",
       "      <th>0</th>\n",
       "      <td>teacher</td>\n",
       "      <td>95.70</td>\n",
       "      <td>clean</td>\n",
       "      <td>100.00</td>\n",
       "      <td>1.0000</td>\n",
       "    </tr>\n",
       "    <tr>\n",
       "      <th>1</th>\n",
       "      <td>teacher</td>\n",
       "      <td>94.07</td>\n",
       "      <td>noisy</td>\n",
       "      <td>100.00</td>\n",
       "      <td>1.0000</td>\n",
       "    </tr>\n",
       "    <tr>\n",
       "      <th>2</th>\n",
       "      <td>AdaDFKD</td>\n",
       "      <td>95.01</td>\n",
       "      <td>clean</td>\n",
       "      <td>97.88</td>\n",
       "      <td>0.8841</td>\n",
       "    </tr>\n",
       "    <tr>\n",
       "      <th>3</th>\n",
       "      <td>AdaDFKD</td>\n",
       "      <td>94.98</td>\n",
       "      <td>clean</td>\n",
       "      <td>97.76</td>\n",
       "      <td>0.8833</td>\n",
       "    </tr>\n",
       "    <tr>\n",
       "      <th>4</th>\n",
       "      <td>AdaDFKD</td>\n",
       "      <td>94.95</td>\n",
       "      <td>clean</td>\n",
       "      <td>97.82</td>\n",
       "      <td>0.8864</td>\n",
       "    </tr>\n",
       "    <tr>\n",
       "      <th>5</th>\n",
       "      <td>AdaDFKD</td>\n",
       "      <td>93.10</td>\n",
       "      <td>noisy</td>\n",
       "      <td>96.94</td>\n",
       "      <td>0.8907</td>\n",
       "    </tr>\n",
       "    <tr>\n",
       "      <th>6</th>\n",
       "      <td>AdaDFKD</td>\n",
       "      <td>93.13</td>\n",
       "      <td>noisy</td>\n",
       "      <td>97.30</td>\n",
       "      <td>0.8955</td>\n",
       "    </tr>\n",
       "    <tr>\n",
       "      <th>7</th>\n",
       "      <td>AdaDFKD</td>\n",
       "      <td>93.18</td>\n",
       "      <td>noisy</td>\n",
       "      <td>97.35</td>\n",
       "      <td>0.8948</td>\n",
       "    </tr>\n",
       "    <tr>\n",
       "      <th>8</th>\n",
       "      <td>cudfkd</td>\n",
       "      <td>95.21</td>\n",
       "      <td>clean</td>\n",
       "      <td>98.19</td>\n",
       "      <td>0.8909</td>\n",
       "    </tr>\n",
       "    <tr>\n",
       "      <th>9</th>\n",
       "      <td>cudfkd</td>\n",
       "      <td>92.90</td>\n",
       "      <td>noisy</td>\n",
       "      <td>96.86</td>\n",
       "      <td>0.8926</td>\n",
       "    </tr>\n",
       "    <tr>\n",
       "      <th>10</th>\n",
       "      <td>cmi</td>\n",
       "      <td>94.84</td>\n",
       "      <td>clean</td>\n",
       "      <td>96.46</td>\n",
       "      <td>0.8747</td>\n",
       "    </tr>\n",
       "    <tr>\n",
       "      <th>11</th>\n",
       "      <td>cmi</td>\n",
       "      <td>91.97</td>\n",
       "      <td>noisy</td>\n",
       "      <td>94.99</td>\n",
       "      <td>0.8700</td>\n",
       "    </tr>\n",
       "    <tr>\n",
       "      <th>12</th>\n",
       "      <td>dafl</td>\n",
       "      <td>91.45</td>\n",
       "      <td>clean</td>\n",
       "      <td>93.20</td>\n",
       "      <td>0.7686</td>\n",
       "    </tr>\n",
       "    <tr>\n",
       "      <th>13</th>\n",
       "      <td>dafl</td>\n",
       "      <td>81.66</td>\n",
       "      <td>noisy</td>\n",
       "      <td>83.85</td>\n",
       "      <td>0.6521</td>\n",
       "    </tr>\n",
       "    <tr>\n",
       "      <th>14</th>\n",
       "      <td>adi</td>\n",
       "      <td>93.26</td>\n",
       "      <td>clean</td>\n",
       "      <td>95.33</td>\n",
       "      <td>0.8478</td>\n",
       "    </tr>\n",
       "    <tr>\n",
       "      <th>15</th>\n",
       "      <td>adi</td>\n",
       "      <td>90.38</td>\n",
       "      <td>noisy</td>\n",
       "      <td>92.88</td>\n",
       "      <td>0.8247</td>\n",
       "    </tr>\n",
       "    <tr>\n",
       "      <th>16</th>\n",
       "      <td>adi</td>\n",
       "      <td>90.36</td>\n",
       "      <td>noisy</td>\n",
       "      <td>92.90</td>\n",
       "      <td>0.8235</td>\n",
       "    </tr>\n",
       "    <tr>\n",
       "      <th>17</th>\n",
       "      <td>adi</td>\n",
       "      <td>90.17</td>\n",
       "      <td>noisy</td>\n",
       "      <td>92.92</td>\n",
       "      <td>0.8245</td>\n",
       "    </tr>\n",
       "    <tr>\n",
       "      <th>18</th>\n",
       "      <td>cudfkd</td>\n",
       "      <td>95.24</td>\n",
       "      <td>clean</td>\n",
       "      <td>98.20</td>\n",
       "      <td>0.8915</td>\n",
       "    </tr>\n",
       "    <tr>\n",
       "      <th>19</th>\n",
       "      <td>cudfkd</td>\n",
       "      <td>95.15</td>\n",
       "      <td>clean</td>\n",
       "      <td>98.09</td>\n",
       "      <td>0.8897</td>\n",
       "    </tr>\n",
       "    <tr>\n",
       "      <th>20</th>\n",
       "      <td>dafl</td>\n",
       "      <td>82.89</td>\n",
       "      <td>noisy</td>\n",
       "      <td>85.03</td>\n",
       "      <td>0.6803</td>\n",
       "    </tr>\n",
       "    <tr>\n",
       "      <th>21</th>\n",
       "      <td>dafl</td>\n",
       "      <td>81.86</td>\n",
       "      <td>noisy</td>\n",
       "      <td>83.55</td>\n",
       "      <td>0.6527</td>\n",
       "    </tr>\n",
       "    <tr>\n",
       "      <th>22</th>\n",
       "      <td>cmi</td>\n",
       "      <td>91.95</td>\n",
       "      <td>noisy</td>\n",
       "      <td>94.98</td>\n",
       "      <td>0.8701</td>\n",
       "    </tr>\n",
       "    <tr>\n",
       "      <th>23</th>\n",
       "      <td>cmi</td>\n",
       "      <td>91.85</td>\n",
       "      <td>noisy</td>\n",
       "      <td>95.10</td>\n",
       "      <td>0.8711</td>\n",
       "    </tr>\n",
       "    <tr>\n",
       "      <th>24</th>\n",
       "      <td>adi</td>\n",
       "      <td>93.18</td>\n",
       "      <td>clean</td>\n",
       "      <td>95.23</td>\n",
       "      <td>0.8501</td>\n",
       "    </tr>\n",
       "    <tr>\n",
       "      <th>25</th>\n",
       "      <td>adi</td>\n",
       "      <td>93.36</td>\n",
       "      <td>clean</td>\n",
       "      <td>95.34</td>\n",
       "      <td>0.8499</td>\n",
       "    </tr>\n",
       "    <tr>\n",
       "      <th>26</th>\n",
       "      <td>cmi</td>\n",
       "      <td>94.56</td>\n",
       "      <td>clean</td>\n",
       "      <td>96.96</td>\n",
       "      <td>0.8849</td>\n",
       "    </tr>\n",
       "    <tr>\n",
       "      <th>27</th>\n",
       "      <td>cmi</td>\n",
       "      <td>94.63</td>\n",
       "      <td>clean</td>\n",
       "      <td>96.85</td>\n",
       "      <td>0.8833</td>\n",
       "    </tr>\n",
       "    <tr>\n",
       "      <th>28</th>\n",
       "      <td>dafl</td>\n",
       "      <td>89.41</td>\n",
       "      <td>clean</td>\n",
       "      <td>91.06</td>\n",
       "      <td>0.7298</td>\n",
       "    </tr>\n",
       "    <tr>\n",
       "      <th>29</th>\n",
       "      <td>dafl</td>\n",
       "      <td>89.04</td>\n",
       "      <td>clean</td>\n",
       "      <td>90.69</td>\n",
       "      <td>0.7336</td>\n",
       "    </tr>\n",
       "    <tr>\n",
       "      <th>30</th>\n",
       "      <td>cudfkd</td>\n",
       "      <td>92.85</td>\n",
       "      <td>noisy</td>\n",
       "      <td>96.98</td>\n",
       "      <td>0.8972</td>\n",
       "    </tr>\n",
       "    <tr>\n",
       "      <th>31</th>\n",
       "      <td>cudfkd</td>\n",
       "      <td>93.02</td>\n",
       "      <td>noisy</td>\n",
       "      <td>96.94</td>\n",
       "      <td>0.8959</td>\n",
       "    </tr>\n",
       "  </tbody>\n",
       "</table>\n",
       "</div>"
      ],
      "text/plain": [
       "     method  acc@1   type  agree@1  loyalty\n",
       "0   teacher  95.70  clean   100.00   1.0000\n",
       "1   teacher  94.07  noisy   100.00   1.0000\n",
       "2   AdaDFKD  95.01  clean    97.88   0.8841\n",
       "3   AdaDFKD  94.98  clean    97.76   0.8833\n",
       "4   AdaDFKD  94.95  clean    97.82   0.8864\n",
       "5   AdaDFKD  93.10  noisy    96.94   0.8907\n",
       "6   AdaDFKD  93.13  noisy    97.30   0.8955\n",
       "7   AdaDFKD  93.18  noisy    97.35   0.8948\n",
       "8    cudfkd  95.21  clean    98.19   0.8909\n",
       "9    cudfkd  92.90  noisy    96.86   0.8926\n",
       "10      cmi  94.84  clean    96.46   0.8747\n",
       "11      cmi  91.97  noisy    94.99   0.8700\n",
       "12     dafl  91.45  clean    93.20   0.7686\n",
       "13     dafl  81.66  noisy    83.85   0.6521\n",
       "14      adi  93.26  clean    95.33   0.8478\n",
       "15      adi  90.38  noisy    92.88   0.8247\n",
       "16      adi  90.36  noisy    92.90   0.8235\n",
       "17      adi  90.17  noisy    92.92   0.8245\n",
       "18   cudfkd  95.24  clean    98.20   0.8915\n",
       "19   cudfkd  95.15  clean    98.09   0.8897\n",
       "20     dafl  82.89  noisy    85.03   0.6803\n",
       "21     dafl  81.86  noisy    83.55   0.6527\n",
       "22      cmi  91.95  noisy    94.98   0.8701\n",
       "23      cmi  91.85  noisy    95.10   0.8711\n",
       "24      adi  93.18  clean    95.23   0.8501\n",
       "25      adi  93.36  clean    95.34   0.8499\n",
       "26      cmi  94.56  clean    96.96   0.8849\n",
       "27      cmi  94.63  clean    96.85   0.8833\n",
       "28     dafl  89.41  clean    91.06   0.7298\n",
       "29     dafl  89.04  clean    90.69   0.7336\n",
       "30   cudfkd  92.85  noisy    96.98   0.8972\n",
       "31   cudfkd  93.02  noisy    96.94   0.8959"
      ]
     },
     "execution_count": 5,
     "metadata": {},
     "output_type": "execute_result"
    }
   ],
   "source": [
    "import pandas as pd\n",
    "import seaborn as sns\n",
    "import matplotlib.pyplot as plt\n",
    "%matplotlib inline\n",
    "%config InlineBackend.figure_format = 'pdf'\n",
    "# res_dict_below = {\n",
    "#     'method': ['teacher', 'teacher' ,'AdaDFKD(S)','AdaDFKD(S)','AdaDFKD(S)','AdaDFKD(S)','AdaDFKD(S)','AdaDFKD(S)','AdaDFKD(G)','AdaDFKD(G)','AdaDFKD(G)','AdaDFKD(G)','AdaDFKD(G)','AdaDFKD(G)','cudfkd', 'cudfkd', 'cmi', 'cmi', 'dafl', 'dafl', 'adi', 'adi', 'adi', 'adi', 'cudfkd', 'cudfkd', 'dafl', 'dafl', 'cmi', 'cmi', 'adi', 'adi', 'cmi', 'cmi', 'dafl', 'dafl', 'cudfkd', 'cudfkd'],\n",
    "#     'acc@1': [95.70, 94.07,94.67, 94.91, 94.92, 92.91,92.95,93.04,95.01,94.98,94.95, 93.10, 93.13, 93.18, 95.21, 92.90, 94.84, 91.97, 91.45 , 81.66, 93.26, 90.38, 90.36, 90.17, 95.24, 95.15, 82.89, 81.86, 91.95, 91.85,  93.18, 93.36,94.56, 94.63, 89.41, 89.04, 92.85, 93.02],\n",
    "#     'type': ['clean', 'noisy','clean', 'clean', 'clean', 'noisy', 'noisy','noisy','clean', 'clean', 'clean', 'noisy', 'noisy','noisy', 'clean', 'noisy','clean', 'noisy','clean', 'noisy','clean', 'noisy', 'noisy', 'noisy', 'clean', 'clean', 'noisy', 'noisy', 'noisy', 'noisy', 'clean', 'clean', 'clean', 'clean', 'clean', 'clean', 'noisy', 'noisy'],\n",
    "#     'agree@1':[100.00, 100.00, 97.48, 97.66, 97.65, 97.15,97.08,97.03, 97.88, 97.76,97.82, 96.94, 97.30, 97.35, 98.19, 93.86, 96.46, 94.99, 93.20, 83.85, 95.33, 92.88, 92.90, 92.92 , 98.20, 98.09, 85.03, 83.55, 94.98, 95.10,  95.23, 95.34, 96.96, 96.85,91.06, 90.69, 93.98, 93.94],\n",
    "#     'loyalty':[1.0000, 1.0000, 0.8790, 0.8843, 0.8829, 0.8911, 0.8908,0.8890,0.8841, 0.8833,0.8864, 0.8907, 0.8955, 0.8948, 0.8909, 0.8926, 0.8747, 0.8700, 0.7686, 0.6521, 0.8478, 0.8247, 0.8235, 0.8245, 0.8915, 0.8897, 0.6803, 0.6527, 0.8701, 0.8711,  0.8501,0.8499,0.8849, 0.8833, 0.7298, 0.7336, 0.8972, 0.8959],\n",
    "# }\n",
    "\n",
    "res_dict_below = {\n",
    "    'method': ['teacher', 'teacher' ,'AdaDFKD','AdaDFKD','AdaDFKD','AdaDFKD','AdaDFKD','AdaDFKD','cudfkd', 'cudfkd', 'cmi', 'cmi', 'dafl', 'dafl', 'adi', 'adi', 'adi', 'adi', 'cudfkd', 'cudfkd', 'dafl', 'dafl', 'cmi', 'cmi', 'adi', 'adi', 'cmi', 'cmi', 'dafl', 'dafl', 'cudfkd', 'cudfkd'],\n",
    "    'acc@1': [95.70, 94.07,95.01,94.98,94.95, 93.10, 93.13, 93.18, 95.21, 92.90, 94.84, 91.97, 91.45 , 81.66, 93.26, 90.38, 90.36, 90.17, 95.24, 95.15, 82.89, 81.86, 91.95, 91.85,  93.18, 93.36,94.56, 94.63, 89.41, 89.04, 92.85, 93.02],\n",
    "    'type': ['clean', 'noisy','clean', 'clean', 'clean', 'noisy', 'noisy','noisy', 'clean', 'noisy','clean', 'noisy','clean', 'noisy','clean', 'noisy', 'noisy', 'noisy', 'clean', 'clean', 'noisy', 'noisy', 'noisy', 'noisy', 'clean', 'clean', 'clean', 'clean', 'clean', 'clean', 'noisy', 'noisy'],\n",
    "    'agree@1':[100.00, 100.00, 97.88, 97.76,97.82, 96.94, 97.30, 97.35, 98.19, 96.86, 96.46, 94.99, 93.20, 83.85, 95.33, 92.88, 92.90, 92.92 , 98.20, 98.09, 85.03, 83.55, 94.98, 95.10,  95.23, 95.34, 96.96, 96.85,91.06, 90.69, 96.98, 96.94],\n",
    "    'loyalty':[1.0000, 1.0000,0.8841, 0.8833,0.8864, 0.8907, 0.8955, 0.8948, 0.8909, 0.8926, 0.8747, 0.8700, 0.7686, 0.6521, 0.8478, 0.8247, 0.8235, 0.8245, 0.8915, 0.8897, 0.6803, 0.6527, 0.8701, 0.8711,  0.8501,0.8499,0.8849, 0.8833, 0.7298, 0.7336, 0.8972, 0.8959],\n",
    "}\n",
    "for k, v in res_dict_below.items():\n",
    "    print(len(v))\n",
    "noisy_df = pd.DataFrame(data=res_dict_below)\n",
    "noisy_df"
   ]
  },
  {
   "cell_type": "code",
   "execution_count": 6,
   "id": "0de8447c",
   "metadata": {
    "scrolled": true
   },
   "outputs": [
    {
     "data": {
      "application/pdf": "[encoded data removed]",
      "text/plain": [
       "<Figure size 576x360 with 1 Axes>"
      ]
     },
     "metadata": {
      "needs_background": "light"
     },
     "output_type": "display_data"
    }
   ],
   "source": [
    "# noisy_df.columns\n",
    "import os\n",
    "import numpy as np\n",
    "if not os.path.exists('noisy/'):\n",
    "    os.mkdir('noisy/')\n",
    "plt.figure(figsize=(8, 5))\n",
    "ax= sns.barplot(data=noisy_df, x='method', y='acc@1', hue='type', palette=\"plasma\")\n",
    "ax.set_ylim(80, 98)\n",
    "ax.legend(loc='upper right', fontsize=15)\n",
    "plt.xlabel('method', fontsize=18)\n",
    "plt.ylabel('Acc@1', fontsize=18)\n",
    "plt.xticks(range(6), labels=['teacher','AdaDFKD\\nOurs', 'CuDFKD', 'CMI', 'DAFL', 'ADI'], fontsize=15)\n",
    "plt.yticks([80.0, 82.5, 85, 87.5, 90, 92.5, 95, 97.5], fontsize=15)\n",
    "plt.savefig('noisy/acc.pdf')"
   ]
  },
  {
   "cell_type": "code",
   "execution_count": 7,
   "id": "c11d9dd7",
   "metadata": {},
   "outputs": [
    {
     "data": {
      "application/pdf": "[encoded data removed]",
      "text/plain": [
       "<Figure size 576x360 with 1 Axes>"
      ]
     },
     "metadata": {
      "needs_background": "light"
     },
     "output_type": "display_data"
    }
   ],
   "source": [
    "plt.figure(figsize=(8, 5))\n",
    "ax = sns.barplot(data=noisy_df, x='method', y='agree@1', hue='type',palette=\"Set2\")\n",
    "ax.set_ylim(80, 100)\n",
    "ax.legend(loc='upper right', fontsize=15)\n",
    "plt.xlabel('method', fontsize=18)\n",
    "plt.ylabel('Acc@1', fontsize=18)\n",
    "plt.xticks(range(6), labels=['teacher','AdaDFKD\\nOurs', 'CuDFKD', 'CMI', 'DAFL', 'ADI'], fontsize=15)\n",
    "plt.yticks([80.0, 82.5, 85, 87.5, 90, 92.5, 95, 97.5, 100], fontsize=15)\n",
    "plt.savefig('noisy/agg.pdf')"
   ]
  },
  {
   "cell_type": "code",
   "execution_count": 8,
   "id": "f10dc49d",
   "metadata": {},
   "outputs": [
    {
     "data": {
      "application/pdf": "[encoded data removed]",
      "text/plain": [
       "<Figure size 576x360 with 1 Axes>"
      ]
     },
     "metadata": {
      "needs_background": "light"
     },
     "output_type": "display_data"
    }
   ],
   "source": [
    "plt.figure(figsize=(8, 5))\n",
    "ax = sns.barplot(data=noisy_df, x='method', y='loyalty', hue='type', palette=\"turbo\")\n",
    "ax.set_ylim(0.6, 1)\n",
    "ax.legend(loc='upper right', fontsize=15)\n",
    "plt.xlabel('method', fontsize=18)\n",
    "plt.ylabel('Probability Loyalty', fontsize=18)\n",
    "plt.xticks(range(6), labels=['teacher','AdaDFKD\\nOurs', 'CuDFKD', 'CMI', 'DAFL', 'ADI'], fontsize=15)\n",
    "plt.yticks([0.6, 0.7, 0.8, 0.9, 1], fontsize=15)\n",
    "plt.savefig('noisy/loyalty.pdf')"
   ]
  },
  {
   "cell_type": "code",
   "execution_count": null,
   "id": "fe189aa3",
   "metadata": {},
   "outputs": [],
   "source": []
  }
 ],
 "metadata": {
  "kernelspec": {
   "display_name": "Python 3",
   "language": "python",
   "name": "python3"
  },
  "language_info": {
   "codemirror_mode": {
    "name": "ipython",
    "version": 3
   },
   "file_extension": ".py",
   "mimetype": "text/x-python",
   "name": "python",
   "nbconvert_exporter": "python",
   "pygments_lexer": "ipython3",
   "version": "3.8.8"
  }
 },
 "nbformat": 4,
 "nbformat_minor": 5
}
